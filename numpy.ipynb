{
 "cells": [
  {
   "cell_type": "code",
   "execution_count": 1,
   "metadata": {
    "id": "YEJ8DQ4QK7kx"
   },
   "outputs": [
    {
     "name": "stderr",
     "output_type": "stream",
     "text": [
      "C:\\Dev\\Jupyter\\dist\\pyenv3.7-win64\\lib\\site-packages\\scipy\\__init__.py:146: UserWarning: A NumPy version >=1.16.5 and <1.23.0 is required for this version of SciPy (detected version 1.23.5\n",
      "  warnings.warn(f\"A NumPy version >={np_minversion} and <{np_maxversion}\"\n"
     ]
    }
   ],
   "source": [
    "import numpy as np\n",
    "import random\n",
    "import scipy.stats as sps"
   ]
  },
  {
   "cell_type": "markdown",
   "metadata": {
    "id": "hYXhVX0eK7k2"
   },
   "source": [
    "### Перемножение матриц\n",
    "Перемножим две квадратные матрицы двумя способами -- без использования пакета ***numpy*** и с ним."
   ]
  },
  {
   "cell_type": "code",
   "execution_count": 13,
   "metadata": {
    "colab": {
     "base_uri": "https://localhost:8080/"
    },
    "id": "zJR8EANzK7k3",
    "outputId": "2f85a0d3-be9d-411b-c35f-09590130f3c9"
   },
   "outputs": [
    {
     "name": "stdout",
     "output_type": "stream",
     "text": [
      "2\n",
      "(100, 100)\n",
      "[[0.12121849 0.23469456 0.26268502 ... 0.33190098 0.7939254  0.87997532]\n",
      " [0.65399923 0.76793721 0.01836234 ... 0.85005813 0.27350749 0.70059743]\n",
      " [0.21135471 0.70206593 0.73909324 ... 0.90323355 0.4921536  0.95821535]\n",
      " ...\n",
      " [0.08634674 0.10057495 0.5103677  ... 0.26040784 0.83903423 0.74485684]\n",
      " [0.70576155 0.06055175 0.74211578 ... 0.13247875 0.44559979 0.81205805]\n",
      " [0.825095   0.02242683 0.78535816 ... 0.27347326 0.44696598 0.3995993 ]]\n",
      "[[0.55369603 0.16246306 0.45920179 ... 0.27616664 0.48573838 0.62010838]\n",
      " [0.34206381 0.2100627  0.1607589  ... 0.6192264  0.32340655 0.17185165]\n",
      " [0.44060587 0.1397672  0.44548707 ... 0.52049174 0.64082995 0.75001792]\n",
      " ...\n",
      " [0.07135539 0.90922045 0.90501366 ... 0.43200199 0.36485905 0.6176016 ]\n",
      " [0.7331292  0.82016995 0.29878097 ... 0.84645926 0.92789215 0.01880676]\n",
      " [0.22476819 0.28105522 0.7943571  ... 0.64156812 0.26486477 0.73593345]]\n"
     ]
    }
   ],
   "source": [
    "# Для генерации матриц используем фукнцию random -- она используется для генерации случайных объектов \n",
    "# функция sample создает случайную выборку. В качестве аргумента ей передается кортеж (i,j),  \n",
    "# здесь i -- число строк, j -- число столбцов.\n",
    "a = np.random.sample((100, 100))\n",
    "b = np.random.sample((100, 100))\n",
    "\n",
    "# Выведим размерность (ранг) матрицы с помощью функции ndim.\n",
    "# Используем функцию shape, для вывода\n",
    "\n",
    "# ========\n",
    "print(a.ndim)\n",
    "print(a.shape)\n",
    "# ========\n",
    "print(a)\n",
    "print(b)"
   ]
  },
  {
   "cell_type": "code",
   "execution_count": 6,
   "metadata": {
    "id": "bkWCI4TPK7k8"
   },
   "outputs": [],
   "source": [
    "def mult(first, second):\n",
    "    \"\"\"  \n",
    "    first: list of \"size\" lists, each contains \"size\" floats --- первая матрица-аргумент\n",
    "    second: list of \"size\" lists, each contains \"size\" floats --- вторая матрица-аргумент\n",
    "    return c: list of \"size\" lists, each contains \"size\" floats --- матрица, являющаяся результатом умножения матриц a и b\n",
    "    \n",
    "    Функция принимает на вход две матрицы: first и second размерностью size x size\n",
    "    Возвращает матрицу их произведения first * second = c \n",
    "\n",
    "    Реализуем умножение матриц без использования функций из пакета numpy\n",
    "    \"\"\"\n",
    "    result = [[0 for i in range(len(second[0]))] for i in range(len(first))]\n",
    "    for i in range(len(first)):\n",
    "        for j in range(len(second[0])):\n",
    "            for k in range(len(first[0])):\n",
    "                result[i][j] += first[i][k] * second[k][j]\n",
    "    return result"
   ]
  },
  {
   "cell_type": "code",
   "execution_count": 7,
   "metadata": {
    "id": "IIgYD1W5K7lB"
   },
   "outputs": [],
   "source": [
    "def np_mult(first, second):\n",
    "    \"\"\"  \n",
    "    first: np.array[size, size]             --- первая матрица-аргумент\n",
    "    second: np.array[size, size] --- вторая матрица-аргумент\n",
    "    return c: np.array[size, size]       --- матрица, являющаяся результатом умножения матриц a и b\n",
    "    \n",
    "    Функция принимает на вход две матрицы: first и second размерностью size x size\n",
    "    Возвращает матрицу их произведения first * second = c \n",
    "\n",
    "    Реализуем умножение матриц, используя функции из пакета numpy\n",
    "    \"\"\"\n",
    "    result = first.dot(second)\n",
    "    return result"
   ]
  },
  {
   "cell_type": "code",
   "execution_count": 8,
   "metadata": {
    "id": "tktkYzUHK7lE"
   },
   "outputs": [
    {
     "name": "stdout",
     "output_type": "stream",
     "text": [
      "CPU times: total: 656 ms\n",
      "Wall time: 655 ms\n"
     ]
    }
   ],
   "source": [
    "%%time\n",
    "# засечем время работы функции без NumPy\n",
    "M1 = mult(a, b)"
   ]
  },
  {
   "cell_type": "code",
   "execution_count": 9,
   "metadata": {
    "id": "TmD0adgHK7lK"
   },
   "outputs": [
    {
     "name": "stdout",
     "output_type": "stream",
     "text": [
      "CPU times: total: 0 ns\n",
      "Wall time: 7.98 ms\n"
     ]
    }
   ],
   "source": [
    "%%time\n",
    "# засечем время работы функции с NumPy\n",
    "M2 = np_mult(a, b)"
   ]
  },
  {
   "cell_type": "code",
   "execution_count": 10,
   "metadata": {
    "id": "oftqyANQK7lS"
   },
   "outputs": [],
   "source": [
    "# проверим корректность\n",
    "assert np.allclose(np.array(M1), M2)"
   ]
  },
  {
   "cell_type": "markdown",
   "metadata": {
    "id": "2itTyTlcaHAu"
   },
   "source": [
    "### Скалярное произведение векторов"
   ]
  },
  {
   "cell_type": "markdown",
   "metadata": {
    "id": "BCemQSq-aEbO"
   },
   "source": [
    "Нам подаются на вход два вектора `a` и `b` в трехмерном пространстве. Заполним их случайными числами. Реализуем их скалярное произведение с помощью  `NumPy` и без. Засечем время работы"
   ]
  },
  {
   "cell_type": "code",
   "execution_count": 14,
   "metadata": {
    "colab": {
     "base_uri": "https://localhost:8080/"
    },
    "id": "lWhr_gPSZ9o_",
    "outputId": "78800ae7-d578-4649-c233-0d3d72239185"
   },
   "outputs": [
    {
     "name": "stdout",
     "output_type": "stream",
     "text": [
      "[0.84684316 0.45184677 0.77859098] [0.27990072 0.59553563 0.69391718]\n"
     ]
    }
   ],
   "source": [
    "a = np.random.sample((1, 3))\n",
    "a = list(a)[0]\n",
    "b = np.random.sample((1, 3))\n",
    "b = list(b)[0]\n",
    "print(a, b)"
   ]
  },
  {
   "cell_type": "code",
   "execution_count": 15,
   "metadata": {
    "id": "GjlkcHIWZ_ae"
   },
   "outputs": [],
   "source": [
    "def scalar_product(v1, v2):\n",
    "    \"\"\"  \n",
    "    v1: np.array[, n] --- первая матрица-аргумент длиной n\n",
    "    v2: np.array[, n] --- вторая матрица-аргумент длиной n\n",
    "    return c: float  --- результат скалярного произведения векторов v1 и v2\n",
    "\n",
    "    Функция принимает на вход два вектора длиной n\n",
    "    Возвращает число, равное их скалярному произведению v1 x v2 = c \n",
    "\n",
    "    Реализуим скалярное умножение векторов, не используя функции из пакета numpy\n",
    "\n",
    "    \"\"\" \n",
    "    result = 0\n",
    "    for i in range(len(v1)):\n",
    "        result += v1[i]*v2[i]\n",
    "    return result"
   ]
  },
  {
   "cell_type": "code",
   "execution_count": 16,
   "metadata": {
    "id": "C2M-OAp5Z_6a"
   },
   "outputs": [],
   "source": [
    "def np_scalar_product(v1,v2):\n",
    "    \"\"\"  \n",
    "    v1: np.array[, n] --- первая матрица-аргумент\n",
    "    v2: np.array[, n] --- вторая матрица-аргумент\n",
    "    return c: float  --- результат скалярного произведения векторов v1 и v2\n",
    "\n",
    "    Функция принимает на вход два вектора длиной n\n",
    "    Возвращает число, равное их скалярному произведению v1 x v2 = c \n",
    "\n",
    "    Реализуйте скалярное умножение векторов, используя функции из пакета numpy\n",
    "    \"\"\" \n",
    "    result = np.dot(v1, v2)\n",
    "    return result"
   ]
  },
  {
   "cell_type": "code",
   "execution_count": 17,
   "metadata": {
    "id": "BOQfYf-2aCQJ",
    "scrolled": true
   },
   "outputs": [
    {
     "name": "stdout",
     "output_type": "stream",
     "text": [
      "CPU times: total: 0 ns\n",
      "Wall time: 0 ns\n",
      "CPU times: total: 0 ns\n",
      "Wall time: 0 ns\n"
     ]
    }
   ],
   "source": [
    "%time product_1 = scalar_product(a,b)\n",
    "%time product_2 = np_scalar_product(a,b)\n",
    "\n",
    "# проверим корректность:\n",
    "assert np.allclose(product_1, product_2)"
   ]
  },
  {
   "cell_type": "markdown",
   "metadata": {
    "id": "_A3p2s4eK7mI"
   },
   "source": [
    "Скорость вычислений вектоных и матричных операций в NumPy сильно превосходит скорость вычислений без него, по большей части потому, что функции numpy работаю с массивами данных одного типа (числовыми), это позволяет реализовать встроенные функции numpy на C/C++, что, конечно, делает numpy быстрее (функции, которые вызывает Numpy для работы с числовыми данными, сильно оптимизированы именно под эти задачи, а сам Python просто гоняет интерпретатор по циклу в таких операциях, что является чуть ли не самым большим замедлением в работе интерпретатора)."
   ]
  },
  {
   "cell_type": "markdown",
   "metadata": {
    "id": "mJXeUuznK7lm"
   },
   "source": [
    "### Функция нахождения суммы четных диагональных элементов квадратной матрицы\n",
    "Если таких элементов нет, то выведим `0`. Используем библиотеку Numpy"
   ]
  },
  {
   "cell_type": "code",
   "execution_count": 18,
   "metadata": {
    "id": "qYNiKbK47TTS"
   },
   "outputs": [],
   "source": [
    "def np_diag_2k(a):\n",
    "    \"\"\"  \n",
    "    a: np.array[m, m] --- первая матрица-аргумент\n",
    "    return c: float   --- сумма элементов массива а, принадлежащих диагонали и являющимися четными\n",
    "\n",
    "    Функция принимает на вход квадратную матрицу размерностью m x m и возвращает число,\n",
    "    равное сумме четных диагональных элементов этой квадратной матрицы\n",
    "\n",
    "    В реализации этой функции будем использовать функционал пакета numpy\n",
    "\n",
    "    \"\"\" \n",
    "    result = 0\n",
    "    diag = np.diagonal(a, offset=0, axis1=0, axis2=1)\n",
    "    for i in range(len(diag)):\n",
    "        if diag[i] % 2 == 0:\n",
    "            result += diag[i]\n",
    "            \n",
    "    return result"
   ]
  },
  {
   "cell_type": "code",
   "execution_count": 19,
   "metadata": {
    "id": "BdInn8_j7TTU"
   },
   "outputs": [
    {
     "data": {
      "text/plain": [
       "array([[3, 4, 2, 6, 5],\n",
       "       [7, 5, 1, 2, 6],\n",
       "       [5, 1, 8, 1, 4],\n",
       "       [6, 1, 2, 3, 1],\n",
       "       [7, 2, 3, 3, 8]])"
      ]
     },
     "execution_count": 19,
     "metadata": {},
     "output_type": "execute_result"
    }
   ],
   "source": [
    "# зададим некоторую квадратную матрицу\n",
    "a = np.random.randint(1, 10, size=(5, 5))\n",
    "a"
   ]
  },
  {
   "cell_type": "code",
   "execution_count": 20,
   "metadata": {
    "id": "ZR97Nt9N7TTW"
   },
   "outputs": [
    {
     "name": "stdout",
     "output_type": "stream",
     "text": [
      "CPU times: total: 0 ns\n",
      "Wall time: 7.98 ms\n"
     ]
    },
    {
     "data": {
      "text/plain": [
       "16"
      ]
     },
     "execution_count": 20,
     "metadata": {},
     "output_type": "execute_result"
    }
   ],
   "source": [
    "%%time\n",
    "# засечем время работы функции с NumPy\n",
    "np_diag_2k(a)"
   ]
  },
  {
   "cell_type": "markdown",
   "metadata": {
    "id": "cdcRkFzQ7TTY"
   },
   "source": [
    "### Функция кумулятивной суммы\n",
    "​\n",
    "На вход дан двумерный массив $X$. Напишем функцию, которая для каждой строчки $(x = (x_1, x_2, \\ldots, x_n)$ массива $X$ строит строчку $s = (s_1, s_2, \\ldots, s_n)$,  где $s_k=x_1+...+x_k$, а затем выдаёт массив из построенных строчек. Используем библиотеку <code>numpy</code> (нам поможет функция <code>cumsum</code>). Выходом функции будет двумерный <code>numpy</code>-массив той же формы, что и $X$.\n",
    "​ "
   ]
  },
  {
   "cell_type": "code",
   "execution_count": 21,
   "metadata": {
    "id": "REgL39ksK7lr"
   },
   "outputs": [],
   "source": [
    "def cumsum(A):\n",
    "    \"\"\"  \n",
    "    A: np.array[num_row, num_column]        --- матрица-аргумент\n",
    "    return S: np.array[num_row, num_column] --- выходная матрица кумулятивных сумм\n",
    "\n",
    "    Функция принимает на вход матрицу A размерностью n x m и возвращает \n",
    "    матрицу с той же размерностью n x m, i-ая строчка которой есть последовательность \n",
    "    кумулятивных сумм элементов i-ой строки матрицы A\n",
    "\n",
    "    В реализации этой функции будем использовать функционал пакета numpy\n",
    "\n",
    "    \"\"\" \n",
    "    result = np.cumsum(A, axis=-1)\n",
    "    return result"
   ]
  },
  {
   "cell_type": "code",
   "execution_count": 24,
   "metadata": {
    "id": "HcVN8MagK7lw"
   },
   "outputs": [
    {
     "name": "stdout",
     "output_type": "stream",
     "text": [
      "CPU times: total: 0 ns\n",
      "Wall time: 0 ns\n"
     ]
    }
   ],
   "source": [
    "# зададим некоторую последовательность и проверим ее на нашей функции. \n",
    "A = sps.uniform.rvs(size=10**3) \n",
    "\n",
    "%time S2 = cumsum(A)"
   ]
  },
  {
   "cell_type": "markdown",
   "metadata": {
    "id": "teVCPWZmK7l5"
   },
   "source": [
    "### Преобразование и склеивание\n",
    "\n",
    "​\n",
    "Задан двумерный массив $X$. Для каждой строчки массива X сделаем следующее преобразование.\n",
    "\n",
    "Пусть дана строчка x. Необходимо построить новый массив, где все элементы с нечетными индексами требуется заменить на число a (значение по умолчанию a=1). Все элементы с четными индексами нужно возвести в куб. Затем записать элементы в обратном порядке относительно их позиций. В конце требуется слить массив x с преобразованным x и вывести.\n",
    "\n",
    "Напишем функцию, которая выполняет данное преобразование для каждой строчки двумерного массива X. Массив X при этом должен остаться без изменений.\n",
    "\n",
    "Используем библиотеку numpy.\n",
    "\n",
    "Пример:\n",
    "$X = [[100,200,300,400,500]]$ -> $[[100,a,300,a,500]]$ -> $[[500^3,a,300^3,a,100^3]]$ -> склеиваем -> $[[100,200,300,400,500,500^3,a,300^3,a,100^3]]$\n",
    "\n",
    "​"
   ]
  },
  {
   "cell_type": "code",
   "execution_count": 25,
   "metadata": {
    "id": "0hmcvfDVK7l-"
   },
   "outputs": [],
   "source": [
    "from copy import copy\n",
    "def np_transformation(X, a=1):\n",
    "    \"\"\"  \n",
    "    X: np.array[num_row, num_column]          --- матрица-аргумент\n",
    "    a: float                                  --- значение для преобразования нечетных элементов строк в X\n",
    "    return S: np.array[num_row, num_column*2] --- матрица, где строки являются \n",
    "    сконкатенированными строками изначальной матрицы X со строками, являющимися их преобразованиями\n",
    "\n",
    "    Функция принимает на вход матрицу X размерностью n x m, число a и \n",
    "    возвращает  матрицу с размерностью n x m*2, i-ая строчка которой является склеенной\n",
    "    i-ой строкой X с ее преобразованием ее строки transformation(X[i]), записанном в обратном порядке, \n",
    "    где преобразование для числа k определено как:\n",
    "    transformation(k) = a if ind(k) % 2 == 0 else k**3\n",
    "\n",
    "    В реализации этой функции будем использовать функционал пакета numpy\n",
    "\n",
    "    \"\"\" \n",
    "    Y = np.copy(X)\n",
    "    Y[:, 1::2] = a\n",
    "    Y[:, 0::2] = Y[:, 0::2]**3\n",
    "    Y[:, ::] = Y[:, ::-1]\n",
    "    \n",
    "    result = np.hstack((X, Y))\n",
    "    \n",
    "    return result"
   ]
  },
  {
   "cell_type": "code",
   "execution_count": 26,
   "metadata": {
    "id": "r2-JLMhxK7mE",
    "scrolled": true
   },
   "outputs": [
    {
     "name": "stdout",
     "output_type": "stream",
     "text": [
      "CPU times: total: 0 ns\n",
      "Wall time: 0 ns\n"
     ]
    }
   ],
   "source": [
    "X = np.array([[i for i in range(1, 10, 2)]])\n",
    "%time S2 = np_transformation(X, 5)"
   ]
  },
  {
   "cell_type": "markdown",
   "metadata": {
    "id": "qa521fce7TTk"
   },
   "source": [
    "### Функция кодирования Run-length encoding\n",
    "Напишем функцию для кодирование массива (Run-length encoding). Все подряд идущие повторения элементов функция сжимает в один элемент и считает количество повторений этого элемента. Функция возвращает кортеж из двух векторов одинаковой длины. Первый содержит элементы, а второй — сколько раз их нужно повторить. \n",
    "\n",
    "Пример: encode(np.array([1, 2, 2, 3, 3, 1, 1, 5, 5, 2, 3, 3])) = (np.array[1, 2, 3, 1, 5, 2, 3]), np.array[1, 2, 2, 2, 2, 1, 2])"
   ]
  },
  {
   "cell_type": "code",
   "execution_count": 27,
   "metadata": {
    "id": "4wD7OSVv7TTl"
   },
   "outputs": [],
   "source": [
    "def np_encode(a):\n",
    "    \"\"\"  \n",
    "    a: np.array[, n] --- вектор-аргумент длиной n\n",
    "    return (elems, repetitions): (np.array, np.array) --- выходной кортеж из вектора \n",
    "    элементов и вектора их количеств в подряд идущих повторениях\n",
    "\n",
    "    Функция принимает на вход вектор a длиной n, добавляет в вектор elem сжатые \n",
    "    в один элемент подряд идущие повторения элементов входного вектора a, в вектор \n",
    "    repetitions добавляет длины последовательностей подряд идущих повторений. \n",
    "    Затем функция возвращает кортеж векторов (elems, repetitions).\n",
    "\n",
    "    В реализации этой функции нбудем использовать функционал пакета numpy\n",
    "\n",
    "    \"\"\" \n",
    "    # подготовим массив\n",
    "    b = np.asanyarray(a)\n",
    "    if b.ndim != 1:\n",
    "        raise ValueError('only 1D array supported')\n",
    "    n = b.shape[0]\n",
    "\n",
    "    # обрабатывем пустой массив\n",
    "    if n == 0:\n",
    "        return np.array([]), np.array([])\n",
    "\n",
    "    else:\n",
    "        # ищем точку вхождения\n",
    "        loc_run_start = np.empty(n, dtype=bool)\n",
    "        loc_run_start[0] = True\n",
    "        np.not_equal(b[:-1], b[1:], out=loc_run_start[1:])\n",
    "        run_starts = np.nonzero(loc_run_start)[0]\n",
    "\n",
    "        # ищем значение\n",
    "        run_values = b[loc_run_start]\n",
    "\n",
    "        # ищем длину значения\n",
    "        run_lengths = np.diff(np.append(run_starts, n))\n",
    "\n",
    "        return run_values, run_lengths"
   ]
  },
  {
   "cell_type": "code",
   "execution_count": 28,
   "metadata": {
    "id": "P7YxojET7TTn"
   },
   "outputs": [
    {
     "name": "stdout",
     "output_type": "stream",
     "text": [
      "CPU times: total: 0 ns\n",
      "Wall time: 997 µs\n"
     ]
    }
   ],
   "source": [
    "X = np.array([1, 2, 2, 3, 3, 1, 1, 5, 5, 2, 3, 3])\n",
    "\n",
    "%time x, num = np_encode(X)"
   ]
  }
 ],
 "metadata": {
  "colab": {
   "provenance": []
  },
  "kernelspec": {
   "display_name": "Python 3 (ipykernel)",
   "language": "python",
   "name": "python3"
  },
  "language_info": {
   "codemirror_mode": {
    "name": "ipython",
    "version": 3
   },
   "file_extension": ".py",
   "mimetype": "text/x-python",
   "name": "python",
   "nbconvert_exporter": "python",
   "pygments_lexer": "ipython3",
   "version": "3.10.1"
  },
  "toc": {
   "base_numbering": 1,
   "nav_menu": {},
   "number_sections": true,
   "sideBar": true,
   "skip_h1_title": false,
   "title_cell": "Table of Contents",
   "title_sidebar": "Contents",
   "toc_cell": false,
   "toc_position": {},
   "toc_section_display": true,
   "toc_window_display": false
  }
 },
 "nbformat": 4,
 "nbformat_minor": 1
}
