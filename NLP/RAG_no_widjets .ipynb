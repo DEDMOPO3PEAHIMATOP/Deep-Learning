{
 "cells": [
  {
   "cell_type": "markdown",
   "metadata": {
    "id": "hWsuJ40ShaAA"
   },
   "source": [
    "# **RAG (Retrieval Augmented Generation).**"
   ]
  },
  {
   "cell_type": "markdown",
   "metadata": {
    "id": "Ye_NRDDQRWDT"
   },
   "source": [
    "В проекте создадим туристический RAG, проведем EDA.\n",
    "\n",
    "Нам дан набор данных, содержащий информацию о памятниках, архитектуре и других значимых местах. В данных есть:\n",
    "* название достопримечательности;\n",
    "* идентификатор на WikiData;\n",
    "* город расположения;\n",
    "* координаты долготы и широты;\n",
    "* описание (извлеченное из WikiData);\n",
    "* изображение в формате base64;\n",
    "* сгенерированное описание изображения (генерация с помощью модели BLIP).\n",
    "\n",
    "Некоторые из памятников могут встречаться несколько раз, но с различными изображениями, из которых не все могут быть качественными. Для компенсации этого даны текстовые описания."
   ]
  },
  {
   "cell_type": "markdown",
   "metadata": {
    "id": "b3LLqArcUJz4"
   },
   "source": [
    "Часть данных взята с Национальной технологической олимпиады студентов по CV. Базовое решение предполагает использование мультимодального ru-CLIP. Но в данном проекте мы решим эту задачу творчески, используя NLP подход."
   ]
  },
  {
   "cell_type": "code",
   "execution_count": null,
   "metadata": {},
   "outputs": [],
   "source": [
    "import base64\n",
    "import gdown\n",
    "import hashlib\n",
    "import llama_cpp\n",
    "import matplotlib.pyplot as plt\n",
    "import nltk\n",
    "import numpy as np\n",
    "import os\n",
    "import pandas as pd\n",
    "import PIL\n",
    "import re\n",
    "import requests\n",
    "import seaborn as sns\n",
    "import shutil\n",
    "import torch\n",
    "import umap.umap_ as umap\n",
    "import warnings\n",
    "\n",
    "from collections import Counter\n",
    "from FlagEmbedding import FlagReranker\n",
    "from googletrans import Translator\n",
    "from huggingface_hub import hf_hub_download\n",
    "from io import BytesIO\n",
    "from langchain_community.embeddings import HuggingFaceEmbeddings\n",
    "from langchain_community.vectorstores import FAISS\n",
    "from langchain_core.documents import Document\n",
    "from llama_cpp import Llama\n",
    "from nltk.corpus import stopwords\n",
    "from PIL import Image\n",
    "from sklearn.cluster import KMeans\n",
    "from sklearn.decomposition import PCA\n",
    "from sklearn.feature_extraction.text import TfidfVectorizer\n",
    "from sklearn.metrics.pairwise import cosine_similarity\n",
    "from sklearn.model_selection import train_test_split\n",
    "from tqdm import tqdm\n",
    "from tqdm.notebook import tqdm\n",
    "from transformers import AutoModelForCausalLM, AutoTokenizer\n",
    "from typing import Optional, List, Tuple, Any"
   ]
  },
  {
   "cell_type": "code",
   "execution_count": null,
   "metadata": {},
   "outputs": [],
   "source": [
    "def has_no_russian(text):\n",
    "    \"\"\"Проверяет, содержит ли текст хотя бы одну русскую букву\"\"\"\n",
    "    if pd.isna(text) or not str(text).strip():\n",
    "        return False  # Не обрабатываем NaN и пустые строки\n",
    "    return not bool(russian_pattern.search(str(text)))"
   ]
  },
  {
   "cell_type": "code",
   "execution_count": null,
   "metadata": {},
   "outputs": [],
   "source": [
    "def preprocess(text):\n",
    "    # Очистка текста\n",
    "    text = re.sub(r'\\W', ' ', text.lower())  # Всё, что не буквы, цифры и подчёркивание - заменяем на пробелы\n",
    "    return text"
   ]
  },
  {
   "cell_type": "code",
   "execution_count": null,
   "metadata": {},
   "outputs": [],
   "source": [
    "def print_cluster_samples(df_cleaned, n_samples=5, max_chars=1000):\n",
    "    # Функция для вывода примеров\n",
    "    cluster_counts = df_cleaned['cluster'].value_counts().sort_index()\n",
    "\n",
    "    print(f\"\\n{'='*9}\")\n",
    "    print(f\"АНАЛИЗ 9 КЛАСТЕРОВ (всего документов: {len(df_cleaned)})\")\n",
    "    print(f\"{'='*50}\\n\")\n",
    "\n",
    "    for cluster_id in sorted(df_cleaned['cluster'].unique()):\n",
    "        cluster_size = cluster_counts[cluster_id]\n",
    "\n",
    "        print(f\"КЛАСТЕР #{cluster_id} (документов: {cluster_size})\")\n",
    "        print(f\"{'-'*30}\")\n",
    "\n",
    "        samples = df_cleaned[df_cleaned['cluster'] == cluster_id].sample(\n",
    "            n=min(n_samples, cluster_size),\n",
    "            random_state=42\n",
    "        )\n",
    "\n",
    "        for i, (idx, row) in enumerate(samples.iterrows(), 1):\n",
    "            text = row['combined_text'].replace('\\n', ' ').strip()\n",
    "            print(text[:max_chars] + (\"...\" if len(text) > max_chars else \"\"))\n",
    "\n",
    "        print(f\"\\n{'='*30}\")"
   ]
  },
  {
   "cell_type": "code",
   "execution_count": null,
   "metadata": {},
   "outputs": [],
   "source": [
    "def get_image(data):\n",
    "    # Функция для вывода изображений\n",
    "    image = Image.open(BytesIO(base64.b64decode(data))).convert('RGB')\n",
    "    plt.figure(figsize=(8, 6))\n",
    "    plt.imshow(image)\n",
    "    plt.axis('off')\n",
    "    plt.show()"
   ]
  },
  {
   "cell_type": "code",
   "execution_count": null,
   "metadata": {},
   "outputs": [],
   "source": [
    "def process_text(text):\n",
    "    messages = [\n",
    "        {\"role\": \"system\", \"content\": \"Ты бот копирайтер, твоя задача - просто переписать красиво и лаконично текст, убрав повторы и ничего не добавляя от себя\"},\n",
    "        {\"role\": \"user\", \"content\": text},\n",
    "    ]\n",
    "    return RAG.chat(messages)"
   ]
  },
  {
   "cell_type": "code",
   "execution_count": null,
   "metadata": {},
   "outputs": [],
   "source": [
    "def data_preprocess(df):\n",
    "    # Фильтрация: text_type == 'main' И длина text > 100\n",
    "    df_main = df[(df['text_type'] == 'main') & (df['text'].str.len() > 50)]\n",
    "    \n",
    "    # Проверка, что данных достаточно для выборки\n",
    "    if len(df_main) < 100:\n",
    "        raise ValueError(f\"Недостаточно данных: только {len(df_main)} строк подходят.\")\n",
    "    \n",
    "    # Стратифицированная выборка (пропорционально городам)\n",
    "    df_stratified, _ = train_test_split(\n",
    "        df_main,\n",
    "        train_size=100,\n",
    "        stratify=df_main['City'],  # Важно: стратификация по df_main, а не df!\n",
    "        random_state=42\n",
    "    )\n",
    "\n",
    "    result_list = []\n",
    "    # Добавляем tqdm для отображения прогресса\n",
    "    for i in tqdm(range(df_stratified.shape[0]), desc=\"Обработка данных\", unit=\"row\"):\n",
    "        row = df_stratified.iloc[i]\n",
    "\n",
    "        messages = [\n",
    "            {\"role\": \"system\", \"content\": \"Задай один вопрос по тексту ниже таким образом, что бы текст ниже служил полным ответом на него, постарайся как модно меньше слов использовать из текста \"},\n",
    "            {\"role\": \"user\", \"content\": row['text']},\n",
    "        ]\n",
    "        question = RAG.chat(messages)\n",
    "        \n",
    "        ground_truths = row['text']\n",
    "        \n",
    "        answer, _ = RAG.get_answer(question)\n",
    "\n",
    "        messages = [\n",
    "            {\"role\": \"system\", \"content\": \"Извлеки из ответа именованные сущности, приведи их к нормальной форме и размести их через точку с запятой\"},\n",
    "            {\"role\": \"user\", \"content\": row['text']},\n",
    "        ]\n",
    "        contexts = RAG.chat(messages)\n",
    "\n",
    "        new_row = [question, ground_truths, answer, contexts]\n",
    "        result_list.append(new_row)\n",
    "\n",
    "    df = pd.DataFrame(result_list, columns=['question', 'ground_truths', 'answer', 'contexts'])\n",
    "\n",
    "    return df"
   ]
  },
  {
   "cell_type": "code",
   "execution_count": null,
   "metadata": {},
   "outputs": [],
   "source": [
    "def answer_relevancy(model, df):\n",
    "    '''\n",
    "    Метрика Answer Relevancy для проверки RAGAS\n",
    "    '''\n",
    "    count = df.shape[0]\n",
    "    if count == 0:\n",
    "        return 0.0  # или можно вызвать исключение\n",
    "    \n",
    "    scores = 0.0\n",
    "    for i in range(count):\n",
    "        row = df.iloc[i]\n",
    "    \n",
    "        q_emb = model.get_embeddings(row['question'])\n",
    "        a_emb = model.get_embeddings(row['answer'])\n",
    "\n",
    "        score = cosine_similarity(q_emb, a_emb)  # преобразуем в 2D массивы\n",
    "        scores += score[0][0]\n",
    "\n",
    "    return scores / count"
   ]
  },
  {
   "cell_type": "code",
   "execution_count": null,
   "metadata": {},
   "outputs": [],
   "source": [
    "def answer_semantic_similarity(model, df):\n",
    "    '''\n",
    "    Метрика Answer Semantic Similarity для проверки RAGAS\n",
    "    '''\n",
    "    count = df.shape[0]\n",
    "    if count == 0:\n",
    "        return 0.0  # или можно вызвать исключение\n",
    "    \n",
    "    scores = 0.0\n",
    "    for i in range(count):\n",
    "        row = df.iloc[i]\n",
    "    \n",
    "        q_emb = model.get_embeddings(row['ground_truths'])\n",
    "        a_emb = model.get_embeddings(row['answer'])\n",
    "\n",
    "        score = cosine_similarity(q_emb, a_emb)  # преобразуем в 2D массивы\n",
    "        scores += score[0][0]\n",
    "\n",
    "    return scores / count"
   ]
  },
  {
   "cell_type": "code",
   "execution_count": null,
   "metadata": {},
   "outputs": [],
   "source": [
    "class RagModel:\n",
    "    '''\n",
    "     Сам RAG на основе выбранных базовых блоков\n",
    "    '''\n",
    "    \n",
    "    def __init__(self) -> None:\n",
    "        self.db = None\n",
    "        self.max_images = 4  # Максимум выводимых  изображений\n",
    "\n",
    "        # LLM t-pro-it-1.0-q4_k_s\n",
    "        model_path = \"t-pro-it-1.0-q4_k_s.gguf\"\n",
    "        self.llm = Llama(\n",
    "            model_path = model_path,\n",
    "            n_gpu_layers = -1,       # Все слои на GPU\n",
    "            main_gpu = 0,            # Использовать первую видеокарту\n",
    "            n_threads = 4,           # Потоки CPU для постобработки\n",
    "            n_ctx = 2048,            # Размер контекста модели, токенов Более чем достаточно для нашеоо случая\n",
    "            offload_kqv = True,      # Оптимизация памяти\n",
    "            tensor_split = [0.9],    # 90% VRAM для модели\n",
    "            verbose = False          # Без вывода логов\n",
    "        )\n",
    "\n",
    "        # Модель для создания эмбеддингов\n",
    "        self.embedder = HuggingFaceEmbeddings(\n",
    "            model_name=\"BAAI/bge-m3\",\n",
    "            model_kwargs={\"device\": \"cuda\"},  # или \"cuda\", если есть GPU\n",
    "            encode_kwargs={\"normalize_embeddings\": True}\n",
    "        )\n",
    "\n",
    "        # Модель реранкера\n",
    "        self.reranker = FlagReranker('BAAI/bge-reranker-v2-m3', use_fp16=False)\n",
    "\n",
    "    def get_embeddings(self, texts_list: List[str]) -> List[List[float]]:\n",
    "        return self.embedder.embed_documents(texts_list)\n",
    "\n",
    "    def create_documents(self, df: pd.DataFrame) -> list[Document]:\n",
    "        # Создаем документы LangChain с метаданными\n",
    "        docs = []\n",
    "        for _, row in df.iterrows():\n",
    "            doc = Document(\n",
    "                page_content=row[\"text\"],  # Основное текстовое содержимое\n",
    "                metadata={\n",
    "                    \"combined_text\": row[\"combined_text\"],\n",
    "                    \"text\": row[\"text\"],\n",
    "                    \"image\": row[\"image\"],\n",
    "                    \"Lon\": row[\"Lon\"],\n",
    "                    \"Lat\": row[\"Lat\"],\n",
    "                    \"text_type\": row[\"text_type\"],\n",
    "                },\n",
    "            )\n",
    "            docs.append(doc)\n",
    "        \n",
    "        # Создаем и сохраняем индекс\n",
    "        self.db = FAISS.from_documents(docs, self.embedder)\n",
    "        self.db.save_local(\"faiss_index\")\n",
    "\n",
    "\n",
    "    def generate_text(self, prompt: str) -> str:\n",
    "        response = self.llm(\n",
    "            f\"<s>[INST] {prompt} [/INST]\",\n",
    "            max_tokens=500,\n",
    "            temperature=0.2,\n",
    "            top_p=0.9,\n",
    "            echo=False  # Отключаем возврат промпта в ответе\n",
    "        )\n",
    "\n",
    "        raw_text = response[\"choices\"][0][\"text\"].strip()\n",
    "        clean_text = re.sub(r'\\[.*?\\]', '', raw_text)\n",
    "        clean_text = ' '.join(clean_text.split()).strip() \n",
    "        return clean_text\n",
    "\n",
    "\n",
    "    # Режим работы - чат\n",
    "    def chat(self, messages=False):\n",
    "        '''\n",
    "        Пример JSON\n",
    "        messages = [\n",
    "            {\"role\": \"system\", \"content\": \"Системный промт. Роль и инструкции для модели\"},\n",
    "            {\"role\": \"user\", \"content\": \"Текущий вопрос пользователя\"},\n",
    "            {\"role\": \"assistant\", \"content\": \"Текст пердыдущего ответа LLM\"},\n",
    "            {\"role\": \"user\", \"content\": \"Текст предыдущего ворроса пользователя\"}\n",
    "        ]\n",
    "        '''\n",
    "        output = self.llm.create_chat_completion(\n",
    "            messages = messages,\n",
    "        )\n",
    "        return output['choices'][0]['message']['content']\n",
    "\n",
    "\n",
    "    # Поиск похожих документов с выдачей близости веторов\n",
    "    def similarity_search(self, query: str) -> List[Any]:\n",
    "        # Получаем похожие документы с оценками\n",
    "        results = self.db.similarity_search_with_score(query, k=20)\n",
    "        \n",
    "        # Словарь для хранения уникальных документов (ключ - содержание документа)\n",
    "        unique_docs = {}\n",
    "        \n",
    "        for doc, score in results:\n",
    "            # Используем текст документа как ключ для проверки уникальности\n",
    "            doc_content = doc.page_content\n",
    "            if doc_content not in unique_docs:\n",
    "                unique_docs[doc_content] = (doc, score)\n",
    "            else:\n",
    "                # Если документ уже есть, можно оставить тот, у которого выше score\n",
    "                existing_score = unique_docs[doc_content][1]\n",
    "                if score > existing_score:\n",
    "                    unique_docs[doc_content] = (doc, score)\n",
    "        \n",
    "        # Возвращаем только уникальные документы\n",
    "        return list(unique_docs.values())\n",
    "\n",
    "\n",
    "    # Реранкер\n",
    "    def rerank_documents(self, query: str, documents: List[Tuple[Document, float]], top_k: int = 10) -> List[Tuple[Document, float]]:\n",
    "        \"\"\"\n",
    "        Args:\n",
    "            query: поисковый запрос\n",
    "            documents: список кортежей (Document, score) из similarity_search\n",
    "            top_k: количество возвращаемых документов\n",
    "            \n",
    "        Returns:\n",
    "            Отсортированный список документов с новыми scores\n",
    "        \"\"\"\n",
    "        # Извлекаем тексты документов\n",
    "        doc_texts = [doc.page_content for doc, _ in documents]\n",
    "        \n",
    "        # Создаём пары запрос-документ для реранкера\n",
    "        pairs = [(query, doc_text) for doc_text in doc_texts]\n",
    "        \n",
    "        # Получаем новые scores от реранкера\n",
    "        rerank_scores = self.reranker.compute_score(pairs)\n",
    "        \n",
    "        # Обновляем scores у документов\n",
    "        reranked_docs = []\n",
    "        for i, (doc, _) in enumerate(documents):\n",
    "            reranked_docs.append((doc, float(rerank_scores[i])))\n",
    "        \n",
    "        # Сортируем по убыванию score и возвращаем top_k\n",
    "        reranked_docs.sort(key=lambda x: x[1], reverse=True)\n",
    "        return reranked_docs[:top_k]\n",
    "\n",
    "\n",
    "    def display_images(self, documents: List[Document]) -> Optional[List[str]]:\n",
    "        \"\"\"\n",
    "        Отображает изображения из документов с подписями\n",
    "        Args:\n",
    "            documents: список документов LangChain с метаданными, содержащими изображения\n",
    "            \n",
    "        Returns:\n",
    "            Список base64 строк изображений или None, если изображений нет\n",
    "        \"\"\"\n",
    "        \n",
    "        if not documents:\n",
    "            print(\"Нет документов для отображения\")\n",
    "            return None\n",
    "    \n",
    "        displayed_count = 0\n",
    "        seen_hashes = set()  # Для хранения хешей изображений\n",
    "        image_strings = []\n",
    "        \n",
    "        fig, axs = plt.subplots(2, 2, figsize=(12, 8))\n",
    "        axs = axs.ravel()\n",
    "    \n",
    "        for doc in documents:\n",
    "            if displayed_count >= self.max_images:\n",
    "                break\n",
    "    \n",
    "            metadata = doc.metadata\n",
    "            \n",
    "            try:\n",
    "                image_data = base64.b64decode(metadata['image'])\n",
    "                # Вычисляем хеш изображения\n",
    "                image_hash = hashlib.sha256(image_data).hexdigest()\n",
    "                \n",
    "                if image_hash in seen_hashes:\n",
    "                    continue\n",
    "                    \n",
    "                img = Image.open(BytesIO(image_data)).convert('RGB')\n",
    "                axs[displayed_count].imshow(img)\n",
    "                caption = metadata['combined_text'][:50] + '...' if len(metadata['combined_text']) > 50 else metadata['combined_text']\n",
    "                axs[displayed_count].set_xlabel(caption, fontsize=10, labelpad=10)\n",
    "                \n",
    "                seen_hashes.add(image_hash)\n",
    "                image_strings.append(metadata['image'])\n",
    "                displayed_count += 1\n",
    "    \n",
    "            except Exception as e:\n",
    "                print(f\"Ошибка при обработке изображения: {e}\")\n",
    "                continue\n",
    "    \n",
    "        if displayed_count == 0:\n",
    "            plt.close(fig)\n",
    "            return None\n",
    "    \n",
    "        plt.tight_layout()\n",
    "        plt.show()\n",
    "        return image_strings\n",
    "\n",
    "\n",
    "    def get_answer(self, query: str, display=False) -> Tuple[str, List[Document]]:\n",
    "        \"\"\"\n",
    "        Получает ответ модели на основе поиска и реранкинга документов.\n",
    "        Args:\n",
    "            query: поисковый запрос пользователя\n",
    "            \n",
    "        Returns:\n",
    "            Кортеж из:\n",
    "            - ответ модели (str)\n",
    "            - список релевантных документов (List[Document])\n",
    "        \"\"\"\n",
    "        # 1. Поиск и реранкинг документов\n",
    "        docs_with_scores = self.similarity_search(query)\n",
    "        if not docs_with_scores:\n",
    "            return \"Не найдено подходящих документов\", []\n",
    "            \n",
    "        reranked_docs = self.rerank_documents(query, docs_with_scores)\n",
    "        \n",
    "        # 2. Формирование контекста\n",
    "        chunks = []\n",
    "        for doc, score in reranked_docs:\n",
    "            # Логирование информации о документе\n",
    "            # print(f\"\\nID: {getattr(doc, 'id', 'N/A')}\")\n",
    "            # print(f\"Текст: {doc.page_content[:200]}...\")\n",
    "            # print(f\"Метаданные: {doc.metadata.get('combined_text', 'N/A')[:200]}...\")\n",
    "            # print(f\"Тип текста: {doc.metadata.get('text_type', 'N/A')}\")\n",
    "            # print(f\"Score: {score:.4f}\")\n",
    "            \n",
    "            # Формируем чанк в зависимости от типа текста\n",
    "            if doc.metadata.get('text_type') == 'main':\n",
    "                chunks.append(doc.metadata.get('combined_text', ''))\n",
    "            else:\n",
    "                chunks.append(f\"{doc.metadata.get('combined_text', '')}\\n{doc.page_content}\")\n",
    "        \n",
    "        context = \"\\n\\n\".join(chunks)\n",
    "        \n",
    "        # 3. Формирование промпта\n",
    "        messages = [\n",
    "            {\n",
    "                \"role\": \"system\", \n",
    "                \"content\": (\n",
    "                    \"Ты бот-консультант. Отвечай только на основе предоставленного контекста.\\n\"\n",
    "                    \"Если информации нет в контексте, скажи 'Не могу найти ответ'.\\n\"\n",
    "                    f\"КОНТЕКСТ:\\n{context}\"\n",
    "                )\n",
    "            },\n",
    "            {\"role\": \"user\", \"content\": query},\n",
    "        ]\n",
    "        \n",
    "        # 4. Получение ответа\n",
    "        answer = self.chat(messages)\n",
    "\n",
    "        # print(f\"\\nMESSAGES SAMPLE: {str(messages)[:500]}...\")\n",
    "        # print(f\"\\nCONTEXT SIZE: {len(context)} characters\")   \n",
    "        # print(f\"\\nANSWER: {answer}\")\n",
    "\n",
    "        documents_only = [doc for doc, _ in reranked_docs]\n",
    "\n",
    "        # 5. Отображение ответа\n",
    "        if (display):\n",
    "            print(answer)\n",
    "            print(f\"\\n{'='*140}\")\n",
    "            self.display_images(documents_only)\n",
    "        \n",
    "        return answer, documents_only"
   ]
  },
  {
   "cell_type": "code",
   "execution_count": null,
   "metadata": {},
   "outputs": [],
   "source": [
    "warnings.filterwarnings(\"ignore\")"
   ]
  },
  {
   "cell_type": "markdown",
   "metadata": {
    "id": "11yKrOxyh1vy"
   },
   "source": [
    "# **Загрузка данных**"
   ]
  },
  {
   "cell_type": "code",
   "execution_count": null,
   "metadata": {
    "colab": {
     "base_uri": "https://localhost:8080/"
    },
    "executionInfo": {
     "elapsed": 30004,
     "status": "ok",
     "timestamp": 1744047131782,
     "user": {
      "displayName": "Алексей Домненко",
      "userId": "15727968404806094454"
     },
     "user_tz": -240
    },
    "id": "JO9tF2rLc0Hp",
    "outputId": "9d03b693-81cb-4e74-8eb5-e9fbfcfef2cf"
   },
   "outputs": [],
   "source": [
    "url = 'https://drive.google.com/uc?id=1P1BsvI2jPN3fEqjc2YZxmQ-MTs22WVUk'\n",
    "output = 'file.csv'\n",
    "gdown.download(url, output, quiet=True)"
   ]
  },
  {
   "cell_type": "code",
   "execution_count": null,
   "metadata": {
    "colab": {
     "base_uri": "https://localhost:8080/"
    },
    "executionInfo": {
     "elapsed": 30004,
     "status": "ok",
     "timestamp": 1744047131782,
     "user": {
      "displayName": "Алексей Домненко",
      "userId": "15727968404806094454"
     },
     "user_tz": -240
    },
    "id": "JO9tF2rLc0Hp",
    "outputId": "9d03b693-81cb-4e74-8eb5-e9fbfcfef2cf"
   },
   "outputs": [],
   "source": [
    "df = pd.read_csv('file.csv')"
   ]
  },
  {
   "cell_type": "code",
   "execution_count": null,
   "metadata": {
    "colab": {
     "base_uri": "https://localhost:8080/",
     "height": 677
    },
    "executionInfo": {
     "elapsed": 5059,
     "status": "ok",
     "timestamp": 1744047136844,
     "user": {
      "displayName": "Алексей Домненко",
      "userId": "15727968404806094454"
     },
     "user_tz": -240
    },
    "id": "GbkPKzEJdSbb",
    "outputId": "10ff4b89-bd22-46f9-97be-5d1fab578539"
   },
   "outputs": [],
   "source": [
    "df.head()"
   ]
  },
  {
   "cell_type": "markdown",
   "metadata": {
    "id": "EubJ7S7ZRREI"
   },
   "source": [
    "# **Анализ и обработка данных**"
   ]
  },
  {
   "cell_type": "code",
   "execution_count": null,
   "metadata": {
    "colab": {
     "base_uri": "https://localhost:8080/"
    },
    "executionInfo": {
     "elapsed": 15,
     "status": "ok",
     "timestamp": 1744047136863,
     "user": {
      "displayName": "Алексей Домненко",
      "userId": "15727968404806094454"
     },
     "user_tz": -240
    },
    "id": "Zrjb0yVYNEUM",
    "outputId": "50e8f107-68c9-4295-b788-6f96b0b04a1d"
   },
   "outputs": [],
   "source": [
    "df.info()"
   ]
  },
  {
   "cell_type": "markdown",
   "metadata": {
    "id": "6dW1YxWWBLtc"
   },
   "source": [
    "## **Посмотрим на распределение длинн полей \"City\", \"Name\", \"Description\"**"
   ]
  },
  {
   "cell_type": "code",
   "execution_count": null,
   "metadata": {
    "colab": {
     "base_uri": "https://localhost:8080/",
     "height": 564
    },
    "executionInfo": {
     "elapsed": 557,
     "status": "ok",
     "timestamp": 1744047137422,
     "user": {
      "displayName": "Алексей Домненко",
      "userId": "15727968404806094454"
     },
     "user_tz": -240
    },
    "id": "VCD-R23B0sT2",
    "outputId": "787b2a4a-1b24-408a-da15-e40ec668e25c"
   },
   "outputs": [],
   "source": [
    "# Зададим данные\n",
    "city_lengths = df['City'].str.len().fillna(0)\n",
    "name_lengths = df['Name'].str.len().fillna(0)\n",
    "description_lengths = df['description'].str.len().fillna(0)\n",
    "\n",
    "# Определим общие границы бинов на основе description\n",
    "bin_edges = np.histogram_bin_edges(description_lengths, bins=50)  # или bins='auto'\n",
    "\n",
    "plt.figure(figsize=(12, 6))\n",
    "\n",
    "\n",
    "# Построим гистограмму для City (оранжевая)\n",
    "sns.histplot(\n",
    "    city_lengths,\n",
    "    bins=bin_edges,\n",
    "    color='orange',\n",
    "    alpha=0.3,\n",
    "    label='City',\n",
    "    kde=False,\n",
    ")\n",
    "\n",
    "# Добавим гистограмму для Description (синяя)\n",
    "sns.histplot(\n",
    "    description_lengths,\n",
    "    bins=50,  # те же самые бины!\n",
    "    color='blue',\n",
    "    alpha=0.3,\n",
    "    label='description',\n",
    "    kde=False,\n",
    ")\n",
    "\n",
    "# Добавим гистограмму для Name (зеленая)\n",
    "sns.histplot(\n",
    "    name_lengths,\n",
    "    bins=bin_edges,\n",
    "    color='green',\n",
    "    alpha=0.3,\n",
    "    label='Name',\n",
    "    kde=False,\n",
    ")\n",
    "\n",
    "\n",
    "# Настроим график\n",
    "plt.title('Сравнение распределения длин name и description')\n",
    "plt.xlabel('Длина текста (символы)')\n",
    "plt.ylabel('Количество текстов')\n",
    "plt.legend()\n",
    "plt.grid(axis='y', alpha=0.3)\n",
    "plt.show()"
   ]
  },
  {
   "cell_type": "markdown",
   "metadata": {
    "id": "7V30_Hg1SKD2"
   },
   "source": [
    "## **Посмотрим какие есть города**"
   ]
  },
  {
   "cell_type": "code",
   "execution_count": null,
   "metadata": {
    "colab": {
     "base_uri": "https://localhost:8080/"
    },
    "executionInfo": {
     "elapsed": 13,
     "status": "ok",
     "timestamp": 1744047137437,
     "user": {
      "displayName": "Алексей Домненко",
      "userId": "15727968404806094454"
     },
     "user_tz": -240
    },
    "id": "4UKP3r_lUqcO",
    "outputId": "0a16e758-7bbb-4c77-ca1f-7e022bf9299f"
   },
   "outputs": [],
   "source": [
    "unique_cities_count = df['City'].nunique()\n",
    "print(f\"Количество уникальных городов: {unique_cities_count}\")\n",
    "unique_cities_list = df['City'].unique()\n",
    "print(f\"Список уникальных городов (первые 10):\\n{unique_cities_list[:10]}\")  # Вывод первых 10 для примера"
   ]
  },
  {
   "cell_type": "markdown",
   "metadata": {},
   "source": [
    "### У нас всего 4 города"
   ]
  },
  {
   "cell_type": "code",
   "execution_count": null,
   "metadata": {
    "executionInfo": {
     "elapsed": 109,
     "status": "ok",
     "timestamp": 1744047137549,
     "user": {
      "displayName": "Алексей Домненко",
      "userId": "15727968404806094454"
     },
     "user_tz": -240
    },
    "id": "Sd2omAFqMqk7"
   },
   "outputs": [],
   "source": [
    "# Компилируем регулярное выражение для поиска русских букв (включая ё и Ё)\n",
    "russian_pattern = re.compile(r'[а-яА-ЯёЁ]')\n",
    "\n",
    "# Применяем функцию к указанным полям\n",
    "for column in ['City', 'Name', 'description']:\n",
    "    # Создаем маску для значений без русских букв\n",
    "    mask = df[column].apply(has_no_russian)\n",
    "\n",
    "    # Заменяем значения на пустую строку\n",
    "    df.loc[mask, column] = ''"
   ]
  },
  {
   "cell_type": "markdown",
   "metadata": {
    "id": "rB-51721AUWc"
   },
   "source": [
    "## **Объеденим поля для RAG модели**"
   ]
  },
  {
   "cell_type": "code",
   "execution_count": null,
   "metadata": {
    "executionInfo": {
     "elapsed": 23,
     "status": "ok",
     "timestamp": 1744047137574,
     "user": {
      "displayName": "Алексей Домненко",
      "userId": "15727968404806094454"
     },
     "user_tz": -240
    },
    "id": "ET9lAtEt6dBf"
   },
   "outputs": [],
   "source": [
    "# Конкатенация полей для RAG\n",
    "df['combined_text'] = df['City'] + ' ' + df['Name'] + ' ' + df['description']"
   ]
  },
  {
   "cell_type": "markdown",
   "metadata": {
    "id": "EGSXG7SEg6zs"
   },
   "source": [
    "## **Количество уникальных полей**"
   ]
  },
  {
   "cell_type": "code",
   "execution_count": null,
   "metadata": {
    "colab": {
     "base_uri": "https://localhost:8080/"
    },
    "executionInfo": {
     "elapsed": 11,
     "status": "ok",
     "timestamp": 1744047137587,
     "user": {
      "displayName": "Алексей Домненко",
      "userId": "15727968404806094454"
     },
     "user_tz": -240
    },
    "id": "83CdkQgphJNW",
    "outputId": "2a028078-cfd3-4e2c-ee52-9b1099795982"
   },
   "outputs": [],
   "source": [
    "unique_count = df['combined_text'].nunique()\n",
    "print(f\"Количество уникальных значений в combined_text: {unique_count}\")"
   ]
  },
  {
   "cell_type": "markdown",
   "metadata": {
    "id": "Vpm4cE-ygQVP"
   },
   "source": [
    "## **Удалим пустые значения \"combined_text\"**"
   ]
  },
  {
   "cell_type": "code",
   "execution_count": null,
   "metadata": {
    "colab": {
     "base_uri": "https://localhost:8080/"
    },
    "executionInfo": {
     "elapsed": 40,
     "status": "ok",
     "timestamp": 1744047137628,
     "user": {
      "displayName": "Алексей Домненко",
      "userId": "15727968404806094454"
     },
     "user_tz": -240
    },
    "id": "VMSwd3MngT0-",
    "outputId": "b913991e-42d2-437a-9c41-9f6d178e8fb6"
   },
   "outputs": [],
   "source": [
    "df = df[df['combined_text'].notna()]\n",
    "df.info()"
   ]
  },
  {
   "cell_type": "markdown",
   "metadata": {
    "id": "nkPHb11NEKWb"
   },
   "source": [
    "## **Оставим самые длинные описани для en_text и сгруппируем по сombined_text**"
   ]
  },
  {
   "cell_type": "code",
   "execution_count": null,
   "metadata": {
    "executionInfo": {
     "elapsed": 168,
     "status": "ok",
     "timestamp": 1744047137797,
     "user": {
      "displayName": "Алексей Домненко",
      "userId": "15727968404806094454"
     },
     "user_tz": -240
    },
    "id": "4ZZ_y6bYJTQN"
   },
   "outputs": [],
   "source": [
    "rows_list = []\n",
    "for _, group in df.groupby('combined_text'):\n",
    "    max_idx = group['en_txt'].str.len().idxmax()\n",
    "    rows_list.append(group.loc[max_idx])\n",
    "\n",
    "df_cleaned = pd.DataFrame(rows_list).reset_index(drop=True)"
   ]
  },
  {
   "cell_type": "code",
   "execution_count": null,
   "metadata": {
    "colab": {
     "base_uri": "https://localhost:8080/",
     "height": 660
    },
    "executionInfo": {
     "elapsed": 387,
     "status": "ok",
     "timestamp": 1744047138183,
     "user": {
      "displayName": "Алексей Домненко",
      "userId": "15727968404806094454"
     },
     "user_tz": -240
    },
    "id": "vz7boTK7EZGS",
    "outputId": "0fac38d7-b096-4a50-a463-7e802f6d774f"
   },
   "outputs": [],
   "source": [
    "df_cleaned.head()"
   ]
  },
  {
   "cell_type": "code",
   "execution_count": null,
   "metadata": {
    "colab": {
     "base_uri": "https://localhost:8080/"
    },
    "executionInfo": {
     "elapsed": 72,
     "status": "ok",
     "timestamp": 1744047138245,
     "user": {
      "displayName": "Алексей Домненко",
      "userId": "15727968404806094454"
     },
     "user_tz": -240
    },
    "id": "U5Ri5xLBPftu",
    "outputId": "132137d6-12d1-4805-efab-4e0934d82d56"
   },
   "outputs": [],
   "source": [
    "df_cleaned.info()"
   ]
  },
  {
   "cell_type": "code",
   "execution_count": null,
   "metadata": {},
   "outputs": [],
   "source": [
    "df_cleaned.to_csv('df_cleaned.csv', index=False)"
   ]
  },
  {
   "cell_type": "markdown",
   "metadata": {
    "id": "m13Yd7J9VAX0"
   },
   "source": [
    "## **Изучим распределение длины описания и текста для картинок**"
   ]
  },
  {
   "cell_type": "code",
   "execution_count": null,
   "metadata": {
    "colab": {
     "base_uri": "https://localhost:8080/",
     "height": 564
    },
    "executionInfo": {
     "elapsed": 301,
     "status": "ok",
     "timestamp": 1744047138482,
     "user": {
      "displayName": "Алексей Домненко",
      "userId": "15727968404806094454"
     },
     "user_tz": -240
    },
    "id": "1iPjQVTzVR-S",
    "outputId": "af990cea-40d2-4bc8-8fa9-5821149003e0"
   },
   "outputs": [],
   "source": [
    "# Зададим данные\n",
    "description = df_cleaned['description'].str.len().fillna(0)\n",
    "en_lengths = df_cleaned['en_txt'].str.len().fillna(0)\n",
    "\n",
    "# Определим общие границы бинов на основе en_txt\n",
    "bin_edges = np.histogram_bin_edges(en_lengths, bins=10)  # или bins='auto'\n",
    "\n",
    "plt.figure(figsize=(12, 6))\n",
    "\n",
    "# Добавим гистограмму для description (оранжевая)\n",
    "sns.histplot(\n",
    "    description,\n",
    "    bins=bin_edges,  # те же самые бины!\n",
    "    color='orange',\n",
    "    alpha=0.5,\n",
    "    label='description',\n",
    "    kde=False,\n",
    ")\n",
    "\n",
    "# Построим гистограмму для en_txt (зелёная)\n",
    "sns.histplot(\n",
    "    en_lengths,\n",
    "    bins=bin_edges,  # используем ОДИНАКОВЫЕ БИНЫ\n",
    "    color='green',\n",
    "    alpha=0.5,\n",
    "    label='en_txt',\n",
    "    kde=False,\n",
    ")\n",
    "\n",
    "# Настроим график\n",
    "plt.title('Сравнение распределения длин description и en_txt')\n",
    "plt.xlabel('Длина текста (символы)')\n",
    "plt.ylabel('Количество текстов')\n",
    "plt.legend()\n",
    "plt.grid(axis='y', alpha=0.3)\n",
    "plt.show()"
   ]
  },
  {
   "cell_type": "markdown",
   "metadata": {
    "id": "8OtA_Z6ubM7o"
   },
   "source": [
    "## **Для описания картинок сделаем перевод**\n",
    "\n",
    "Преведём строку en_txt на русский ru_txt\n"
   ]
  },
  {
   "cell_type": "code",
   "execution_count": null,
   "metadata": {
    "colab": {
     "base_uri": "https://localhost:8080/"
    },
    "executionInfo": {
     "elapsed": 168582,
     "status": "ok",
     "timestamp": 1744047313050,
     "user": {
      "displayName": "Алексей Домненко",
      "userId": "15727968404806094454"
     },
     "user_tz": -240
    },
    "id": "2_TSwKgEdGNu",
    "outputId": "2de5e708-6f48-4c36-d2eb-1c0eb7058c8f"
   },
   "outputs": [],
   "source": [
    "# Инициализация переводчика\n",
    "translator = Translator()\n",
    "\n",
    "# Создаем список для хранения переводов\n",
    "translations = []\n",
    "\n",
    "# Прогресс-бар для визуализации\n",
    "for text in tqdm(df_cleaned['en_txt'], desc=\"Перевод текста\"):\n",
    "    try:\n",
    "        # Синхронный перевод (без async/await)\n",
    "        translation = await translator.translate(text, src='en', dest='ru')\n",
    "        translations.append(translation.text)\n",
    "    except Exception as e:\n",
    "        print(f\"\\nОшибка перевода: {e}\")\n",
    "\n",
    "# Добавляем переводы в DataFrame\n",
    "df_cleaned['ru_txt'] = translations\n",
    "\n",
    "# Выводим примеры перевода\n",
    "print(\"\\nПримеры перевода:\")\n",
    "print(df_cleaned[['en_txt', 'ru_txt']].head(3))"
   ]
  },
  {
   "cell_type": "markdown",
   "metadata": {
    "id": "dFeOVnYshTAv"
   },
   "source": [
    "### **Сохраним результат**"
   ]
  },
  {
   "cell_type": "code",
   "execution_count": null,
   "metadata": {
    "executionInfo": {
     "elapsed": 3820,
     "status": "ok",
     "timestamp": 1744047342070,
     "user": {
      "displayName": "Алексей Домненко",
      "userId": "15727968404806094454"
     },
     "user_tz": -240
    },
    "id": "g8dtuH9Nbbf1"
   },
   "outputs": [],
   "source": [
    "df_cleaned.to_csv('df_translate.csv', index=False)"
   ]
  },
  {
   "cell_type": "markdown",
   "metadata": {
    "id": "9hfdNl7HlC-3"
   },
   "source": [
    "### **Посмотрим на распределение длины текста**"
   ]
  },
  {
   "cell_type": "code",
   "execution_count": null,
   "metadata": {
    "colab": {
     "base_uri": "https://localhost:8080/",
     "height": 564
    },
    "executionInfo": {
     "elapsed": 902,
     "status": "ok",
     "timestamp": 1744047342974,
     "user": {
      "displayName": "Алексей Домненко",
      "userId": "15727968404806094454"
     },
     "user_tz": -240
    },
    "id": "Gey-aH3MlKky",
    "outputId": "c26971f3-cd88-4fa4-d105-fec2f18f2f20"
   },
   "outputs": [],
   "source": [
    "# Зададим данные\n",
    "combined_lengths = df_cleaned['combined_text'].str.len().fillna(0)\n",
    "ru_lengths = df_cleaned['ru_txt'].str.len().fillna(0)\n",
    "\n",
    "# Определим общие границы бинов на основе combined_text\n",
    "bin_edges = np.histogram_bin_edges(combined_lengths, bins=50)  # или bins='auto'\n",
    "\n",
    "plt.figure(figsize=(12, 6))\n",
    "\n",
    "# Построим гистограмму для combined_text (синяя)\n",
    "sns.histplot(\n",
    "    combined_lengths,\n",
    "    bins=bin_edges,  # используем ОДИНАКОВЫЕ БИНЫ\n",
    "    color='blue',\n",
    "    alpha=0.5,\n",
    "    label='combined_text',\n",
    "    kde=False,\n",
    ")\n",
    "\n",
    "# Добавим гистограмму для ru_txt (зеленая)\n",
    "sns.histplot(\n",
    "    ru_lengths,\n",
    "    bins=bin_edges,  # те же самые бины!\n",
    "    color='green',\n",
    "    alpha=0.3,\n",
    "    label='ru_txt',\n",
    "    kde=False,\n",
    ")\n",
    "\n",
    "# Настроим график\n",
    "plt.title('Сравнение распределения длин combined_text и ru_txt')\n",
    "plt.xlabel('Длина текста (символы)')\n",
    "plt.ylabel('Количество текстов')\n",
    "plt.legend()\n",
    "plt.grid(axis='y', alpha=0.3)\n",
    "plt.show()"
   ]
  },
  {
   "cell_type": "code",
   "execution_count": null,
   "metadata": {
    "executionInfo": {
     "elapsed": 359,
     "status": "ok",
     "timestamp": 1744047343335,
     "user": {
      "displayName": "Алексей Домненко",
      "userId": "15727968404806094454"
     },
     "user_tz": -240
    },
    "id": "neiXCJw0t1Eu"
   },
   "outputs": [],
   "source": [
    "df_cleaned = pd.read_csv('df_translate.csv')"
   ]
  },
  {
   "cell_type": "code",
   "execution_count": null,
   "metadata": {
    "colab": {
     "base_uri": "https://localhost:8080/"
    },
    "executionInfo": {
     "elapsed": 15,
     "status": "ok",
     "timestamp": 1744047343348,
     "user": {
      "displayName": "Алексей Домненко",
      "userId": "15727968404806094454"
     },
     "user_tz": -240
    },
    "id": "z1mQuH2ruIcM",
    "outputId": "3c228ce4-d7cf-4fe6-ed5f-608f6212e41b"
   },
   "outputs": [],
   "source": [
    "df_cleaned.info();"
   ]
  },
  {
   "cell_type": "code",
   "execution_count": null,
   "metadata": {
    "colab": {
     "base_uri": "https://localhost:8080/",
     "height": 660
    },
    "executionInfo": {
     "elapsed": 411,
     "status": "ok",
     "timestamp": 1744047343760,
     "user": {
      "displayName": "Алексей Домненко",
      "userId": "15727968404806094454"
     },
     "user_tz": -240
    },
    "id": "R7PhS9-xupaY",
    "outputId": "5544cb37-af53-458e-e315-014fb03d0c67"
   },
   "outputs": [],
   "source": [
    "df_cleaned.head()"
   ]
  },
  {
   "cell_type": "markdown",
   "metadata": {
    "id": "j57zDQsN0JWe"
   },
   "source": [
    "### **Теперь мы можем искать не только по тексту, но и по описанию картинок**"
   ]
  },
  {
   "cell_type": "markdown",
   "metadata": {
    "id": "MC7LQmJqeTq6"
   },
   "source": [
    "## **Очистка от выбросов методом кластеризации векторов TF-IDF**\n",
    "\n",
    "В данных есть выбросы — записи, не относящихся к туристическим или историческим объектам. Для очистки данных можно, например, использовать алгоритм TF-IDF: создаем корпус текстов из описаний, применяем TF-IDF, извлекаем наиболее редко или часто встречающиеся слова. Они могут указывать на мусорные данные, такие как мемы, баннеры или личные фото людей. После выделения подозрительных паттернов, можно провести ручную проверку и фильтрацию данных.\n",
    "\n",
    "### **Векторизация текста**"
   ]
  },
  {
   "cell_type": "code",
   "execution_count": null,
   "metadata": {
    "colab": {
     "base_uri": "https://localhost:8080/"
    },
    "executionInfo": {
     "elapsed": 2826,
     "status": "ok",
     "timestamp": 1744047346590,
     "user": {
      "displayName": "Алексей Домненко",
      "userId": "15727968404806094454"
     },
     "user_tz": -240
    },
    "id": "-l1hYQXv7NXh",
    "outputId": "056be161-3c5b-4d6f-b8ba-7d82328beaea"
   },
   "outputs": [],
   "source": [
    "# Скачиваем стоп-слова (выполняется один раз)\n",
    "nltk.download('stopwords')\n",
    "\n",
    "# Получаем русские стоп-слова\n",
    "russian_stop_words = stopwords.words('russian')"
   ]
  },
  {
   "cell_type": "code",
   "execution_count": null,
   "metadata": {
    "executionInfo": {
     "elapsed": 43,
     "status": "ok",
     "timestamp": 1744047346636,
     "user": {
      "displayName": "Алексей Домненко",
      "userId": "15727968404806094454"
     },
     "user_tz": -240
    },
    "id": "l2TAyXlTelbF"
   },
   "outputs": [],
   "source": [
    "# Создание векторайзера TF-IDF\n",
    "vectorizer = TfidfVectorizer(\n",
    "    preprocessor=preprocess,\n",
    "    stop_words=russian_stop_words,\n",
    "    max_features=5000  # Ограничиваем количество уникальных слов = 5 000\n",
    ")\n",
    "\n",
    "# Преобразование текстов в матрицу TF-IDF\n",
    "X = vectorizer.fit_transform(df_cleaned['combined_text'])"
   ]
  },
  {
   "cell_type": "markdown",
   "metadata": {
    "id": "v0LJ6XhPgLRr"
   },
   "source": [
    "### **Кластеризация K-Means**"
   ]
  },
  {
   "cell_type": "code",
   "execution_count": null,
   "metadata": {
    "executionInfo": {
     "elapsed": 288,
     "status": "ok",
     "timestamp": 1744047346938,
     "user": {
      "displayName": "Алексей Домненко",
      "userId": "15727968404806094454"
     },
     "user_tz": -240
    },
    "id": "jYUqPw0dgV_z"
   },
   "outputs": [],
   "source": [
    "# Эмпирически выбираем число кластеров (можно попробовать 3-5)\n",
    "n_clusters = 10\n",
    "kmeans = KMeans(n_clusters=n_clusters, random_state=42)\n",
    "clusters = kmeans.fit_predict(X)"
   ]
  },
  {
   "cell_type": "markdown",
   "metadata": {
    "id": "YDbzl5sqgbbt"
   },
   "source": [
    "### **Анализ кластеров**"
   ]
  },
  {
   "cell_type": "code",
   "execution_count": null,
   "metadata": {
    "colab": {
     "base_uri": "https://localhost:8080/"
    },
    "executionInfo": {
     "elapsed": 24,
     "status": "ok",
     "timestamp": 1744047346965,
     "user": {
      "displayName": "Алексей Домненко",
      "userId": "15727968404806094454"
     },
     "user_tz": -240
    },
    "id": "imOTFjVbgid4",
    "outputId": "10fe2f7f-d3d3-4656-a40e-0b9c277d8381"
   },
   "outputs": [],
   "source": [
    "for i in range(n_clusters):\n",
    "    cluster_texts = df_cleaned[clusters == i]['combined_text']\n",
    "    words = ' '.join(cluster_texts).split()\n",
    "    common_words = Counter(words).most_common(20)\n",
    "    print(f\"Cluster {i} common words:\", common_words)"
   ]
  },
  {
   "cell_type": "markdown",
   "metadata": {
    "id": "W0jIyw9yg8hy"
   },
   "source": [
    "### **Визуализация кластеров**"
   ]
  },
  {
   "cell_type": "code",
   "execution_count": null,
   "metadata": {
    "colab": {
     "base_uri": "https://localhost:8080/",
     "height": 545
    },
    "executionInfo": {
     "elapsed": 503,
     "status": "ok",
     "timestamp": 1744047347467,
     "user": {
      "displayName": "Алексей Домненко",
      "userId": "15727968404806094454"
     },
     "user_tz": -240
    },
    "id": "964nABzuhCd5",
    "outputId": "96044ba0-6b4e-4322-aa8d-819ddfe8ab6d"
   },
   "outputs": [],
   "source": [
    "pca = PCA(n_components=2)\n",
    "X_pca = pca.fit_transform(X.toarray())\n",
    "\n",
    "plt.figure(figsize=(10, 6))\n",
    "plt.scatter(X_pca[:, 0], X_pca[:, 1], c=clusters, cmap='tab10', alpha=0.7)\n",
    "plt.title('Распределение по кластерам (PCA проекция)')\n",
    "plt.colorbar(label='Номер кластера')\n",
    "plt.grid(True)\n",
    "plt.show()"
   ]
  },
  {
   "cell_type": "markdown",
   "metadata": {
    "id": "9wuHBcXnRtoO"
   },
   "source": [
    "### **Вызывает вопрос 7 кластер. Изучим кластеры внимательно.**"
   ]
  },
  {
   "cell_type": "code",
   "execution_count": null,
   "metadata": {
    "colab": {
     "base_uri": "https://localhost:8080/"
    },
    "executionInfo": {
     "elapsed": 51,
     "status": "ok",
     "timestamp": 1744047347520,
     "user": {
      "displayName": "Алексей Домненко",
      "userId": "15727968404806094454"
     },
     "user_tz": -240
    },
    "id": "NBb0VYPm9cuI",
    "outputId": "5e1fa2e6-295f-4f83-8732-32f54e7d9502"
   },
   "outputs": [],
   "source": [
    "df_cleaned['cluster'] = kmeans.fit_predict(X)\n",
    "\n",
    "# Выводим результаты\n",
    "print_cluster_samples(df_cleaned)"
   ]
  },
  {
   "cell_type": "markdown",
   "metadata": {
    "id": "3hqLGkR-ShOW"
   },
   "source": [
    "7 кластер - это башни, всё нормально, но есть вопросы к вот таким описаниям:\n",
    "  - \"Екатеринбург улица Февральской Революции улица в Екатеринбурге\"\n",
    "  - \"Владимир Авиамеханический колледж Владимирский авиамеханический колледж\"\n",
    "  - \"Ярославль Бутусовский посёлок Бутусовский посёлок\"\n",
    "  - \"№29 Дом В.И. Чувильдина Дом купца Чувильдина\"\n",
    "\n",
    "Оставлю эти данные т.к. возможно они имеют культурно - историческую ценность."
   ]
  },
  {
   "cell_type": "markdown",
   "metadata": {
    "id": "A0nN1Rs3ZJ4v"
   },
   "source": [
    "# **Изображения**"
   ]
  },
  {
   "cell_type": "code",
   "execution_count": null,
   "metadata": {
    "colab": {
     "base_uri": "https://localhost:8080/",
     "height": 336
    },
    "executionInfo": {
     "elapsed": 212,
     "status": "ok",
     "timestamp": 1744047347745,
     "user": {
      "displayName": "Алексей Домненко",
      "userId": "15727968404806094454"
     },
     "user_tz": -240
    },
    "id": "hv_kPrifCROj",
    "outputId": "4b127777-ad35-4de7-f402-3536271fd841"
   },
   "outputs": [],
   "source": [
    "get_image(df_cleaned.sample(1)['image'].tolist()[0])"
   ]
  },
  {
   "cell_type": "markdown",
   "metadata": {
    "id": "FFL8ZJrXHC7K"
   },
   "source": [
    "Для дальнейшего тестирования и получения чистых сэмплов, возьмем 100 чистых образцов со стратификацией по городу и названию места. Это можно сделать, выбрав случайным образом несколько образцов из каждой категории (город + название места), чтобы обеспечить равномерное представительство и разнообразие данных.\n",
    "\n",
    "**!! Важно:** Помните, что чистые сэмплы одного и того же места выдадут примерно одинаковое описание. Есть несколько стратегий, как повысить разнообразие ответов:\n",
    "\n",
    "- выбор одного самого лучшего:\n",
    "  - самое длинное описание\n",
    "  - смое подходящие по мнению LLM\n",
    "- конкатенация описаний (но важно не сконкатенировать слишком много)\n",
    "\n",
    "Изображения можно отдать в мета-данные."
   ]
  },
  {
   "cell_type": "markdown",
   "metadata": {
    "id": "NH-ywX4vqbUJ"
   },
   "source": [
    "# **Подход к построению RAG**\n",
    "\n",
    "Анализ данных показал, что текст у нас очень короткий.\n",
    "\n",
    "  - разбивать текст на чанки не имеет смысла;\n",
    "  \n",
    "  - для векторизации объединим используем поле **'combined_text'**, которое мы создали из 3х полей **'City', 'Name', 'description'**\n",
    "  \n",
    "  - отдельно создадим вектора для поиска по текстовому описанию картинок на русском языке **'ru_txt\n",
    "  \n",
    "  - будем использовать в качестве векторизатора **BAAI/bge-m3**;\n",
    "  \n",
    "  - в качестве реранкера **BAAI/bge-reranker-v2-m3**;\n",
    "  \n",
    "  - в качестве векторной базы данных будем использовать **faiss**;\n",
    "\n",
    "  - LLM - кванотванная модель **Llama t-pro-it-1.0-q4_k_s.gguf**\n",
    "  \n",
    "  - установим порог косинусной близости, выше которого модель будет сообщать - что в базе данных нет информации по объекту."
   ]
  },
  {
   "cell_type": "markdown",
   "metadata": {
    "id": "qOplCotKq__A"
   },
   "source": [
    "## **Создаём 2 датасета - для поиска по описанию и по картинкам и объединяем их в один**"
   ]
  },
  {
   "cell_type": "code",
   "execution_count": null,
   "metadata": {
    "executionInfo": {
     "elapsed": 4,
     "status": "ok",
     "timestamp": 1744047347752,
     "user": {
      "displayName": "Алексей Домненко",
      "userId": "15727968404806094454"
     },
     "user_tz": -240
    },
    "id": "ClOXCvvXHYvH"
   },
   "outputs": [],
   "source": [
    "# Создаем копии исходных датафреймов, сохраняя все нужные поля\n",
    "df_combined = df_cleaned[[\"combined_text\", \"image\", \"City\", \"Lon\", \"Lat\"]].copy()\n",
    "df_combined[\"text\"] = df_combined[\"combined_text\"]  # создаем колонку text из combined_text\n",
    "df_combined[\"text_type\"] = \"main\"  # метка типа текста\n",
    "\n",
    "df_image = df_cleaned[[\"ru_txt\", \"image\", \"City\", \"Lon\", \"Lat\"]].copy()\n",
    "df_image.rename(columns={\"ru_txt\": \"text\"}, inplace=True)\n",
    "df_image[\"text_type\"] = \"image\"  # метка типа текста\n",
    "df_image[\"combined_text\"] = df_cleaned[\"combined_text\"]  # добавляем combined_text из исходного датафрейма\n",
    "\n",
    "# Объединяем в один DataFrame (640 строк)\n",
    "df_2 = pd.concat([df_combined, df_image], ignore_index=True)"
   ]
  },
  {
   "cell_type": "code",
   "execution_count": null,
   "metadata": {
    "executionInfo": {
     "elapsed": 4484,
     "status": "ok",
     "timestamp": 1744047352239,
     "user": {
      "displayName": "Алексей Домненко",
      "userId": "15727968404806094454"
     },
     "user_tz": -240
    },
    "id": "E7jlJvAEsGZC"
   },
   "outputs": [],
   "source": [
    "df_2.to_csv('df_faiss.csv', index=False)"
   ]
  },
  {
   "cell_type": "code",
   "execution_count": null,
   "metadata": {
    "executionInfo": {
     "elapsed": 10,
     "status": "ok",
     "timestamp": 1744047352242,
     "user": {
      "displayName": "Алексей Домненко",
      "userId": "15727968404806094454"
     },
     "user_tz": -240
    },
    "id": "vhYiX2SPsRD5"
   },
   "outputs": [],
   "source": [
    "df_2 = pd.read_csv('df_faiss.csv')"
   ]
  },
  {
   "cell_type": "code",
   "execution_count": null,
   "metadata": {},
   "outputs": [],
   "source": [
    "df_2.info()"
   ]
  },
  {
   "cell_type": "markdown",
   "metadata": {},
   "source": [
    "# **Создаём класс модели**"
   ]
  },
  {
   "cell_type": "code",
   "execution_count": null,
   "metadata": {},
   "outputs": [],
   "source": [
    "RAG = RagModel()"
   ]
  },
  {
   "cell_type": "markdown",
   "metadata": {},
   "source": [
    "## **Проверим работу экземпляра класса**"
   ]
  },
  {
   "cell_type": "code",
   "execution_count": null,
   "metadata": {},
   "outputs": [],
   "source": [
    "texts = [\"Пример текста 1\", \"Пример текста 2\"]\n",
    "embeddings = RAG.get_embeddings(texts)\n",
    "print(\"Размерность эмбеддингов:\", len(embeddings[0]))  # Должно быть 1024 для bge-m3"
   ]
  },
  {
   "cell_type": "code",
   "execution_count": null,
   "metadata": {},
   "outputs": [],
   "source": [
    "text = RAG.generate_text('Что такое метрика Faithfulness')\n",
    "print(text)"
   ]
  },
  {
   "cell_type": "markdown",
   "metadata": {},
   "source": [
    "### **Посмотрим как модель следует инструкциям и можно ли этой моделью почистить датасет**"
   ]
  },
  {
   "cell_type": "code",
   "execution_count": null,
   "metadata": {},
   "outputs": [],
   "source": [
    "source_text = \"Ярославль Николо-Тропинская церковь Церковь в Ярославле\"\n",
    "prompt = f\"Перепиши следующее предложение, устранив повторы и сделав его более лаконичным:\\n'f{source_text}'\\nНичего не добавляй от себя\"\n",
    "text = RAG.generate_text(source_text)\n",
    "print(text)"
   ]
  },
  {
   "cell_type": "markdown",
   "metadata": {},
   "source": [
    "### Модель не следует инструкциям. Переведём  модель в режим чата, служебный промт добавим в system"
   ]
  },
  {
   "cell_type": "code",
   "execution_count": null,
   "metadata": {},
   "outputs": [],
   "source": [
    "messages = [\n",
    "    {\"role\": \"system\", \"content\": \"Ты бот копирайтер, твоя задача - просто переписать красиво и лаконично текст, убрав повторы и ничего не добавляя от себя\"},\n",
    "    {\"role\": \"user\", \"content\": \"Ярославль Николо-Тропинская церковь Церковь в Ярославле\"},\n",
    "]\n",
    "\n",
    "text = RAG.chat(messages)\n",
    "print(text)"
   ]
  },
  {
   "cell_type": "markdown",
   "metadata": {},
   "source": [
    "### **Вот теперь модель  следует инструкциям**"
   ]
  },
  {
   "cell_type": "markdown",
   "metadata": {},
   "source": [
    "## **Финальная чистка датасета с  помощью LLM**"
   ]
  },
  {
   "cell_type": "code",
   "execution_count": null,
   "metadata": {},
   "outputs": [],
   "source": [
    "df_2.loc[df_2['text_type'] == 'main', 'text'] = df_2.loc[df_2['text_type'] == 'main', 'combined_text']"
   ]
  },
  {
   "cell_type": "code",
   "execution_count": null,
   "metadata": {},
   "outputs": [],
   "source": [
    "df_2.to_csv('df_final.csv', index=False)"
   ]
  },
  {
   "cell_type": "markdown",
   "metadata": {},
   "source": [
    "### **Итоговый датасет**"
   ]
  },
  {
   "cell_type": "code",
   "execution_count": null,
   "metadata": {},
   "outputs": [],
   "source": [
    "df_result = pd.read_csv('df_final.csv')"
   ]
  },
  {
   "cell_type": "code",
   "execution_count": null,
   "metadata": {},
   "outputs": [],
   "source": [
    "df_result.info()"
   ]
  },
  {
   "cell_type": "code",
   "execution_count": null,
   "metadata": {},
   "outputs": [],
   "source": [
    "df_result.head()"
   ]
  },
  {
   "cell_type": "code",
   "execution_count": null,
   "metadata": {},
   "outputs": [],
   "source": [
    "df_result[df_result['text_type'] == 'image'].head(10)"
   ]
  },
  {
   "cell_type": "markdown",
   "metadata": {},
   "source": [
    "### **Создаём нашу финальную базу данных**"
   ]
  },
  {
   "cell_type": "code",
   "execution_count": null,
   "metadata": {
    "scrolled": true
   },
   "outputs": [],
   "source": [
    "RAG.create_documents(df_result)"
   ]
  },
  {
   "cell_type": "markdown",
   "metadata": {},
   "source": [
    "### **Проверка работы поиска k-top=20 векторов**"
   ]
  },
  {
   "cell_type": "code",
   "execution_count": null,
   "metadata": {},
   "outputs": [],
   "source": [
    "text = 'Крепость с башнями'\n",
    "docs_1 = RAG.similarity_search(text)\n",
    "for doc, score in docs_1:\n",
    "    print(f\"ID: {doc.id}\")\n",
    "    print(f\"Близкий текст: {doc.page_content}\")\n",
    "    print(f\"Описанее: {doc.metadata['combined_text']}\")\n",
    "    print(f\"Тип текста: {doc.metadata['text_type']}\")\n",
    "    print(f\"Расстояние: {score}\")\n",
    "    print(\"-----\")"
   ]
  },
  {
   "cell_type": "code",
   "execution_count": null,
   "metadata": {},
   "outputs": [],
   "source": [
    "text = 'Достопримечаеельности Ярославля'\n",
    "docs_2 = RAG.similarity_search(text)\n",
    "for doc, score in docs_2:\n",
    "    print(f\"ID: {doc.id}\")\n",
    "    print(f\"Близкий текст: {doc.page_content}\")\n",
    "    print(f\"Описанее: {doc.metadata['combined_text']}\")\n",
    "    print(f\"Тип текста: {doc.metadata['text_type']}\")\n",
    "    print(f\"Расстояние: {score}\")\n",
    "    print(\"-----\")"
   ]
  },
  {
   "cell_type": "markdown",
   "metadata": {},
   "source": [
    "### **Проверка работы реранкера**"
   ]
  },
  {
   "cell_type": "code",
   "execution_count": null,
   "metadata": {},
   "outputs": [],
   "source": [
    "query = 'Крепость с башнями'\n",
    "reranked_docs_1 = RAG.rerank_documents(query, docs_1, top_k=10)\n",
    "\n",
    "for doc, score in reranked_docs_1:\n",
    "    print(f\"ID: {doc.id}\")\n",
    "    print(f\"Близкий текст: {doc.page_content}\")\n",
    "    print(f\"Описанее: {doc.metadata['combined_text']}\")\n",
    "    print(f\"Тип текста: {doc.metadata['text_type']}\")\n",
    "    print(f\"Расстояние: {score}\")\n",
    "    print(\"-----\")"
   ]
  },
  {
   "cell_type": "code",
   "execution_count": null,
   "metadata": {},
   "outputs": [],
   "source": [
    "query = 'Достопримечаеельности Ярославля'\n",
    "reranked_docs_2 = RAG.rerank_documents(query, docs_2, top_k=5)\n",
    "\n",
    "for doc, score in reranked_docs_2:\n",
    "    print(f\"ID: {doc.id}\")\n",
    "    print(f\"Близкий текст: {doc.page_content}\")\n",
    "    print(f\"Описанее: {doc.metadata['combined_text']}\")\n",
    "    print(f\"Тип текста: {doc.metadata['text_type']}\")\n",
    "    print(f\"Расстояние: {score}\")\n",
    "    print(\"-----\")"
   ]
  },
  {
   "cell_type": "markdown",
   "metadata": {},
   "source": [
    "### **Создаём эмбеддинги**"
   ]
  },
  {
   "cell_type": "code",
   "execution_count": null,
   "metadata": {},
   "outputs": [],
   "source": [
    "# Преобразуем тексты в эмбеддинги\n",
    "texts = df_result[\"text\"].tolist()\n",
    "embeddings = RAG.get_embeddings(texts)"
   ]
  },
  {
   "cell_type": "code",
   "execution_count": null,
   "metadata": {
    "colab": {
     "base_uri": "https://localhost:8080/",
     "height": 34
    },
    "executionInfo": {
     "elapsed": 48,
     "status": "ok",
     "timestamp": 1744047389670,
     "user": {
      "displayName": "Алексей Домненко",
      "userId": "15727968404806094454"
     },
     "user_tz": -240
    },
    "id": "lMO9hbyUu2CL",
    "outputId": "f74de53c-01e6-44cb-bb8f-d57b357df8fd"
   },
   "outputs": [],
   "source": [
    "len(embeddings)"
   ]
  },
  {
   "cell_type": "markdown",
   "metadata": {
    "id": "KNLBL45YJ9ne"
   },
   "source": [
    "### **Визуализация эмбеддингов**\n",
    "Выполним визуализацию эмбеддингов при помощи метода главных компонент (PCA) и Uniform Manifold Approximation and Projection (UMAP). Выполним PCA независимо от pacmap."
   ]
  },
  {
   "cell_type": "code",
   "execution_count": null,
   "metadata": {
    "colab": {
     "base_uri": "https://localhost:8080/",
     "height": 606
    },
    "executionInfo": {
     "elapsed": 1720,
     "status": "ok",
     "timestamp": 1744047391544,
     "user": {
      "displayName": "Алексей Домненко",
      "userId": "15727968404806094454"
     },
     "user_tz": -240
    },
    "id": "C5zNDf1XKMus",
    "outputId": "b7a47667-e802-4bd7-de5c-c0b70b292f23"
   },
   "outputs": [],
   "source": [
    "# Создаем объект PCA с 2 компонентами\n",
    "pca = PCA(n_components=2)\n",
    "\n",
    "# Применяем PCA к эмбеддингам (преобразуем 1024D -> 2D)\n",
    "embeddings_pca = pca.fit_transform(embeddings)\n",
    "\n",
    "# Определяем метки для двух типов текстов\n",
    "# 320 эмбеддингов основного текста и 320 эмбеддингов текста изображений\n",
    "text_labels = [\"main_text\"] * 320 + [\"image_text\"] * 320\n",
    "\n",
    "# Создаем цветовую карту: 0 - main_text, 1 - image_text\n",
    "color_mapping = [0 if label == \"main_text\" else 1 for label in text_labels]\n",
    "\n",
    "# Настраиваем визуализацию\n",
    "plt.figure(figsize=(10, 6))\n",
    "scatter_plot = plt.scatter(\n",
    "    x=embeddings_pca[:, 0],  # Первая главная компонента по оси X\n",
    "    y=embeddings_pca[:, 1],  # Вторая главная компонента по оси Y\n",
    "    c=color_mapping,         # Цвета точек согласно типам текста\n",
    "    cmap=\"viridis\",          # Цветовая схема\n",
    "    alpha=0.7,               # Прозрачность точек\n",
    "    edgecolors='w'           # Белые границы точек для лучшей видимости\n",
    ")\n",
    "\n",
    "# Настраиваем цветовую легенду\n",
    "colorbar = plt.colorbar(scatter_plot, ticks=[0, 1])\n",
    "colorbar.set_label('Тип текста', rotation=270, labelpad=15)\n",
    "colorbar.set_ticklabels(['Основной текст', 'Текст изображения'])\n",
    "\n",
    "# Добавляем подписи и заголовок\n",
    "plt.title(\"PCA визуализация эмбеддингов модели BGE-M3\", pad=20)\n",
    "plt.xlabel(\"Первая главная компонента\", labelpad=10)\n",
    "plt.ylabel(\"Вторая главная компонента\", labelpad=10)\n",
    "\n",
    "# Опционально: добавляем сетку для лучшей читаемости\n",
    "plt.grid(True, linestyle='--', alpha=0.5)\n",
    "\n",
    "plt.tight_layout()  # Автоматическая подгонка отступов\n",
    "plt.show()"
   ]
  },
  {
   "cell_type": "code",
   "execution_count": null,
   "metadata": {
    "colab": {
     "base_uri": "https://localhost:8080/",
     "height": 653
    },
    "executionInfo": {
     "elapsed": 2571,
     "status": "ok",
     "timestamp": 1744047545544,
     "user": {
      "displayName": "Алексей Домненко",
      "userId": "15727968404806094454"
     },
     "user_tz": -240
    },
    "id": "sGoKcZLcwRhb",
    "outputId": "a525c672-29d6-4032-ebfd-d38a3f70ba23"
   },
   "outputs": [],
   "source": [
    "warnings.filterwarnings(\"ignore\", category=FutureWarning, message=\"'force_all_finite' was renamed\")\n",
    "warnings.filterwarnings(\"ignore\", category=UserWarning, module=\"umap\")\n",
    "\n",
    "# Создаем UMAP-reducer с 2 компонентами\n",
    "reducer = umap.UMAP(\n",
    "    n_components=2,  # 2D-проекция\n",
    "    random_state=42  # Для воспроизводимости\n",
    ")\n",
    "\n",
    "# Применяем UMAP к эмбеддингам\n",
    "embeddings_umap = reducer.fit_transform(embeddings)\n",
    "\n",
    "plt.figure(figsize=(10, 6))\n",
    "plt.scatter(\n",
    "    embeddings_umap[:, 0],\n",
    "    embeddings_umap[:, 1],\n",
    "    c=[0 if label == \"main_text\" else 1 for label in text_labels],\n",
    "    cmap=\"viridis\",\n",
    "    alpha=0.7\n",
    ")\n",
    "\n",
    "# Опционально: добавляем сетку для лучшей читаемости\n",
    "plt.grid(True, linestyle='--', alpha=0.5)\n",
    "\n",
    "plt.colorbar(ticks=[0, 1], label=\"Тип текста\")\n",
    "plt.title(\"UMAP визуализация эмбеддингов (BGE-M3)\")\n",
    "plt.xlabel(\"UMAP Dimension 1\")\n",
    "plt.ylabel(\"UMAP Dimension 2\")\n",
    "plt.show()"
   ]
  },
  {
   "cell_type": "markdown",
   "metadata": {
    "id": "XJOcitc4xvUm"
   },
   "source": [
    "## **Выводы по визуализации векторов**\n",
    "Видим четкие разделения вектора по основному тексту (фиолетовый) и описанию для картинок (жёлтый).\n",
    "\n",
    "В основном описании мы видим отдельное разделение по городам и в эмбеддингах описания картинок мы тоже видим отдельные группы."
   ]
  },
  {
   "cell_type": "markdown",
   "metadata": {
    "id": "t0JPhImBMBMt"
   },
   "source": [
    "# **RAGAS**"
   ]
  },
  {
   "cell_type": "markdown",
   "metadata": {
    "id": "3t7H2lk5KvwJ"
   },
   "source": [
    "RAGAS - это система, созданная для автоматической оценки эффективности модели RAG. Она представляет собой комплексный инструмент, способный оценить как качество извлечения информации, так и качество созданного текста. Это достигается благодаря использованию различных метрик, которые анализируют разные аспекты ответов, сгенерированных языковой моделью.\n",
    "\n"
   ]
  },
  {
   "cell_type": "markdown",
   "metadata": {
    "id": "XloDZBlnMjgF"
   },
   "source": [
    "## Метрики оценки в RAGAS"
   ]
  },
  {
   "cell_type": "markdown",
   "metadata": {
    "id": "f_TW1QcwMrvo"
   },
   "source": [
    "### Faithfulness\n",
    "Оценивает, насколько ответы языковой модели верно передают информацию, содержащуюся в источниках данных. Это критически важно, чтобы гарантировать, что модель не искажает или не меняет информацию при её интерпретации.\n",
    "\n",
    "---\n",
    "\n",
    "$\n",
    "Faithfulness = \\frac{\\text{|Number of claims that can be inferred from given context|}}{\\text{|Total number of claims in the generated answer|}}\n",
    "$"
   ]
  },
  {
   "cell_type": "markdown",
   "metadata": {
    "id": "3aDrQjpLMr87"
   },
   "source": [
    "### Answer Relevancy\n",
    "Демонстрирует, насколько ответы соответствуют заданным вопросам. Это важный аспект, так как даже правильный ответ с технической точки зрения может быть ненужным, если он не отвечает на конкретный вопрос пользователя.\n",
    "\n",
    "---\n",
    "\n",
    "$\\text{answer relevancy} = \\frac{1}{N} \\sum_{i=1}^{N} cos(E_{g_i}, E_o)$\n",
    "\n",
    "$\\text{answer relevancy} = \\frac{1}{N} \\sum_{i=1}^{N} \\frac{E_{g_i} \\cdot E_o}{\\|E_{g_i}\\|\\|E_o\\|}$\n",
    "\n",
    "Где:\n",
    "\n",
    "* $E_{g_i}$ - это эмбеддинг сгенерированного ответа $i$\n",
    "\n",
    "* $E_o$ - это эмбеддинг исходного вопроса.\n",
    "\n",
    "* $N$ - это количество сгенерированных вопросов, которое по умолчанию равно 3."
   ]
  },
  {
   "cell_type": "markdown",
   "metadata": {
    "id": "b3ZTop3cMsMd"
   },
   "source": [
    "### Context Recall и Context Precision\n",
    "Эти метрики измеряют эффективность модели в учете контекста вопроса для формирования ответа. \"Context Recall\" оценивает количество использованной информации из контекста в ответе, в то время как \"Context Precision\" оценивает точность и релевантность использования контекстной информации.\n",
    "\n",
    "---\n",
    "\n",
    "* $ \\text{context recall} = \\frac{\\text{|GT sentences that can be attributed to context|}}{\\text{|Number of sentences in GT|}} $\n",
    "* $Context Precision@k = \\frac{\\sum \\text{precision@k}}{\\text{total number of relevant items in the top K results}}$\n",
    "  * $Precision@k = \\frac{\\text {true positives@k}}{\\text{(true positives@k + false positives@k)}}$"
   ]
  },
  {
   "cell_type": "markdown",
   "metadata": {
    "id": "I8tmF6ARMsrB"
   },
   "source": [
    "### Answer Semantic Similarity\n",
    "Оценивает степень семантической близости между ответом модели и эталонным ответом. Это позволяет определить, насколько естественно и точно модель способна воссоздавать человеческий язык."
   ]
  },
  {
   "cell_type": "markdown",
   "metadata": {
    "id": "p_6oCV3QMFNP"
   },
   "source": [
    "### Answer Correctness\n",
    "Оценка корректности ответа. Это последний шаг в проверке, чтобы убедиться, предоставляет ли модель точную и достоверную информацию в своем ответе."
   ]
  },
  {
   "cell_type": "markdown",
   "metadata": {
    "id": "8v1FCEFLgFfW"
   },
   "source": [
    "![image-21.png](data:image/png;base64,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)"
   ]
  },
  {
   "cell_type": "markdown",
   "metadata": {
    "id": "zV5GpXzJ_y2o"
   },
   "source": [
    "## Реализуем метрики Answer Relevancy и Answer Semantic Similarityв коде."
   ]
  },
  {
   "cell_type": "markdown",
   "metadata": {
    "id": "eINQ9B_nBOLi"
   },
   "source": [
    "Для этого датасет нужно привести к виду, в котором будут следующие поля:\n",
    "\n",
    "### 1. question\n",
    "- Смысл: Эта колонка содержит вопросы, на которые нужно найти ответы. В контексте задач QA, это основная информация, которую модель должна обработать для генерации ответа.\n",
    "- Пример: \"Каковы преимущества RAG?\"\n",
    "\n",
    "### 2. ground_truths\n",
    "- Смысл: В этой колонке находятся правильные ответы на соответствующие вопросы. Это может использоваться для оценки производительности модели, так как позволяет сравнить сгенерированные ответы с эталонными.\n",
    "- Пример: \"RAG улучшает качество генерации, используя внешние источники информации.\"\n",
    "\n",
    "### 3. answer\n",
    "- Смысл: Эта колонка содержит ответы, которые генерирует модель на основе заданных вопросов. Это может быть результат работы модели, которую вы тестируете или обучаете.\n",
    "- Пример: \"RAG позволяет моделям извлекать информацию из внешних источников, что улучшает их способность отвечать на сложные вопросы.\"\n",
    "\n",
    "### 4. contexts\n",
    "- Смысл: Эта колонка предоставляет контекст или дополнительную информацию, которая может быть полезна для понимания вопроса или для формирования ответа. Это может быть текст, из которого был извлечен ответ, или другие релевантные документы.\n",
    "- Пример: \"RAG (Retrieval-Augmented Generation) — это метод, который использует внешние базы данных для получения информации при генерации текста.\""
   ]
  },
  {
   "cell_type": "markdown",
   "metadata": {
    "id": "pw0526SoTFWp"
   },
   "source": [
    "HINT: Поле question можно тоже сгенерировать. Например, можно попросить модель задать вопрос по описанию изображения.\n",
    "\n",
    "HINT: Для answer_relevancy нужны не все поля\n",
    "\n",
    "HINT: Инференс такого эксперимента может быть долгим. План минимум: возьмем 100 случайных сэмплов."
   ]
  },
  {
   "cell_type": "markdown",
   "metadata": {},
   "source": [
    "## **Создадим тестовый датасет с разбиением на страты по городам**"
   ]
  },
  {
   "cell_type": "code",
   "execution_count": null,
   "metadata": {},
   "outputs": [],
   "source": [
    "df_test = data_preprocess(df_result)\n",
    "df_test.to_csv('df_test.csv', index=False) "
   ]
  },
  {
   "cell_type": "code",
   "execution_count": null,
   "metadata": {},
   "outputs": [],
   "source": [
    "df_test = pd.read_csv('df_test.csv')\n",
    "df_test.info()"
   ]
  },
  {
   "cell_type": "code",
   "execution_count": null,
   "metadata": {},
   "outputs": [],
   "source": [
    "df_test.head(10)"
   ]
  },
  {
   "cell_type": "markdown",
   "metadata": {},
   "source": [
    "## **Метрика \"Answer Relevancy\"**"
   ]
  },
  {
   "cell_type": "code",
   "execution_count": null,
   "metadata": {},
   "outputs": [],
   "source": [
    "result = answer_relevancy(RAG, df_test)\n",
    "print('МЕТРИКА \"Answer Relevancy\"', result)"
   ]
  },
  {
   "cell_type": "markdown",
   "metadata": {
    "id": "D7ehWakiKRun"
   },
   "source": [
    "# **Протестируем наш RAG**"
   ]
  },
  {
   "cell_type": "markdown",
   "metadata": {},
   "source": [
    "## **Поиск по описанию**"
   ]
  },
  {
   "cell_type": "code",
   "execution_count": null,
   "metadata": {},
   "outputs": [],
   "source": [
    "answer = RAG.get_answer('Церкви в Ярославле', display=True)"
   ]
  },
  {
   "cell_type": "markdown",
   "metadata": {},
   "source": [
    "## **Поиск по изображениям**"
   ]
  },
  {
   "cell_type": "code",
   "execution_count": null,
   "metadata": {},
   "outputs": [],
   "source": [
    "answer = RAG.get_answer('Мост через реку', display=True)"
   ]
  },
  {
   "cell_type": "markdown",
   "metadata": {
    "id": "akNy6EzqJcz_"
   },
   "source": [
    "\n",
    "Для того, чтобы понять model as a judge подход из RAGAS, советуем посетить [этот кукбук](https://huggingface.co/learn/cookbook/en/rag_evaluation)"
   ]
  },
  {
   "cell_type": "markdown",
   "metadata": {
    "executionInfo": {
     "elapsed": 347199,
     "status": "aborted",
     "timestamp": 1744047408872,
     "user": {
      "displayName": "Алексей Домненко",
      "userId": "15727968404806094454"
     },
     "user_tz": -240
    },
    "id": "hzI4QzKqJgxT"
   },
   "source": [
    "## **Метрика \"Answer Semantic Similarity\"**"
   ]
  },
  {
   "cell_type": "code",
   "execution_count": null,
   "metadata": {},
   "outputs": [],
   "source": [
    "result = answer_semantic_similarity(RAG, df_test)\n",
    "print('МЕТРИКА \"Answer Semantic Similarity\"', result)"
   ]
  },
  {
   "cell_type": "markdown",
   "metadata": {
    "id": "x5VwOkcNys1m"
   },
   "source": [
    "# **Можно подводить итог**"
   ]
  },
  {
   "cell_type": "markdown",
   "metadata": {
    "id": "KZOzq3J7zFOC"
   },
   "source": [
    "## **Обработка данных**\n",
    "\n",
    "Данные скудны, имеют множество дублей, пустые значения, в некоторых полях не пойми какой текст - может быть на испанском языке.\n",
    "\n",
    "- данные почистили\n",
    "- поля которые могут нам пригодиться для эмбединогов - конкатенировали\n",
    "- сделали перевод с помощью Гугла googletrans==3.1.0a0 - теперь можно искать и по картинкам на русском языке\n",
    "- тексты у нас короткие, разбивать на чанки - смысла нет\n",
    "\n",
    "Визуализация длины основного комбинированного текста и текста описания картинок"
   ]
  },
  {
   "cell_type": "markdown",
   "metadata": {
    "id": "AHfwU_uW1lIk"
   },
   "source": [
    "## **Работа с выбросами**\n",
    "\n",
    "Кластеризация с помощью векторов TF-IDF показала явные выбросы, особенно в кластере 7. Дальнейшее изучение выбросов показало, что это просто текст с описанием башен крепости, что тоже является допустимым в наших данных.\n",
    "\n",
    "Таким образом мы неплохо почистили текст на предыдущих этапах. Данные выбросы - это просто немного другая тематика, но в рамках наших данных (башни крепости)."
   ]
  },
  {
   "cell_type": "markdown",
   "metadata": {
    "id": "2X8Immpty0cb"
   },
   "source": [
    "## **Выводы по визуализации векторов**\n",
    "\n",
    "Очень хорошо разделились вектора по основному тексту (фиолетовый) и описанию для картинок (жёлтый).\n",
    "\n",
    "В основном описании мы видим отдельное разделение по городам и в эмбеддингах описания картинок мы тоже видим отдельные группы."
   ]
  },
  {
   "cell_type": "markdown",
   "metadata": {},
   "source": [
    "## **Выбор модели**\n",
    "\n",
    "При выборе модели исходил из ресурсов GPU, имеющихся в наличии.\n",
    "\n",
    "Квантованые модели больших размеров работают лучше чем полноценные модели малых размеров.\n",
    "\n",
    "**t-pro-it-1.0-q4_k_s/t-pro-it-1.0-q4_k_s.gguf** (2154 Гб занимал экземпляр класса на GPU)\n",
    "\n",
    "Модель использовал для ответов RAG и для чистки датасета.\n",
    "\n",
    "Модель T-pro справилась отлично, остальные модели, которые попробовал — по прежнему не слушалась инструкций. Выбор остановил на модели T-pro."
   ]
  },
  {
   "cell_type": "markdown",
   "metadata": {},
   "source": [
    "### **Поиск k-top=10 векторов**\n",
    "\n",
    "Сработал очень хорошо, По запросу «Достопримечательности Ярославля» - все документы с упоминанием Ярославля. Так же протестировали работу модели по запросу, используя слова, отсутствующие в описании датасета, но есть похожая информация в описании картинок. Запрос был такой: «Крепость с башнями» - В k-top мы получили описание башен, крепостей, замков. Это очень хороший результат."
   ]
  },
  {
   "cell_type": "markdown",
   "metadata": {},
   "source": [
    "### **Работа реранкера**\n",
    "\n",
    "Т.к. модель эмбеддера от BAAI показала показала очень хороший результат, то и в качестве реранкера было принято решение использовать реранкер этой же команды. Отдельно проверил работу реранкера — всё работает замечательно."
   ]
  },
  {
   "cell_type": "markdown",
   "metadata": {},
   "source": [
    "## **Получены хорошие метрики модели**\n",
    "- Answer Relevancy: 0.7543\n",
    "- Answer Semantic Similarity: 0.9084"
   ]
  },
  {
   "cell_type": "code",
   "execution_count": null,
   "metadata": {},
   "outputs": [],
   "source": []
  }
 ],
 "metadata": {
  "accelerator": "GPU",
  "colab": {
   "gpuType": "T4",
   "provenance": [
    {
     "file_id": "1TMDGcJLvblEXMh507uGCgnVzzQAo5V-G",
     "timestamp": 1743925544176
    },
    {
     "file_id": "1-YlH2I4et_81yERiPHVh75Qp2kSS9o92",
     "timestamp": 1732982980358
    },
    {
     "file_id": "1yHQs4P_fiVcys6c69dHiWX1Fz_VA03M6",
     "timestamp": 1724422207484
    }
   ]
  },
  "kernelspec": {
   "display_name": "Python 3 (ipykernel)",
   "language": "python",
   "name": "python3"
  },
  "language_info": {
   "codemirror_mode": {
    "name": "ipython",
    "version": 3
   },
   "file_extension": ".py",
   "mimetype": "text/x-python",
   "name": "python",
   "nbconvert_exporter": "python",
   "pygments_lexer": "ipython3",
   "version": "3.12.3"
  },
  "widgets": {
   "application/vnd.jupyter.widget-state+json": {
    "00e25203fa084667a862e2db07ecdada": {
     "model_module": "@jupyter-widgets/base",
     "model_module_version": "1.2.0",
     "model_name": "LayoutModel",
     "state": {
      "_model_module": "@jupyter-widgets/base",
      "_model_module_version": "1.2.0",
      "_model_name": "LayoutModel",
      "_view_count": null,
      "_view_module": "@jupyter-widgets/base",
      "_view_module_version": "1.2.0",
      "_view_name": "LayoutView",
      "align_content": null,
      "align_items": null,
      "align_self": null,
      "border": null,
      "bottom": null,
      "display": null,
      "flex": null,
      "flex_flow": null,
      "grid_area": null,
      "grid_auto_columns": null,
      "grid_auto_flow": null,
      "grid_auto_rows": null,
      "grid_column": null,
      "grid_gap": null,
      "grid_row": null,
      "grid_template_areas": null,
      "grid_template_columns": null,
      "grid_template_rows": null,
      "height": null,
      "justify_content": null,
      "justify_items": null,
      "left": null,
      "margin": null,
      "max_height": null,
      "max_width": null,
      "min_height": null,
      "min_width": null,
      "object_fit": null,
      "object_position": null,
      "order": null,
      "overflow": null,
      "overflow_x": null,
      "overflow_y": null,
      "padding": null,
      "right": null,
      "top": null,
      "visibility": null,
      "width": null
     }
    },
    "02d0fdfdc7ab4d14956bf9c2efe8290e": {
     "model_module": "@jupyter-widgets/base",
     "model_module_version": "1.2.0",
     "model_name": "LayoutModel",
     "state": {
      "_model_module": "@jupyter-widgets/base",
      "_model_module_version": "1.2.0",
      "_model_name": "LayoutModel",
      "_view_count": null,
      "_view_module": "@jupyter-widgets/base",
      "_view_module_version": "1.2.0",
      "_view_name": "LayoutView",
      "align_content": null,
      "align_items": null,
      "align_self": null,
      "border": null,
      "bottom": null,
      "display": null,
      "flex": null,
      "flex_flow": null,
      "grid_area": null,
      "grid_auto_columns": null,
      "grid_auto_flow": null,
      "grid_auto_rows": null,
      "grid_column": null,
      "grid_gap": null,
      "grid_row": null,
      "grid_template_areas": null,
      "grid_template_columns": null,
      "grid_template_rows": null,
      "height": null,
      "justify_content": null,
      "justify_items": null,
      "left": null,
      "margin": null,
      "max_height": null,
      "max_width": null,
      "min_height": null,
      "min_width": null,
      "object_fit": null,
      "object_position": null,
      "order": null,
      "overflow": null,
      "overflow_x": null,
      "overflow_y": null,
      "padding": null,
      "right": null,
      "top": null,
      "visibility": null,
      "width": null
     }
    },
    "07e2acf90ecc40bcbd7659e768f5d9ca": {
     "model_module": "@jupyter-widgets/base",
     "model_module_version": "1.2.0",
     "model_name": "LayoutModel",
     "state": {
      "_model_module": "@jupyter-widgets/base",
      "_model_module_version": "1.2.0",
      "_model_name": "LayoutModel",
      "_view_count": null,
      "_view_module": "@jupyter-widgets/base",
      "_view_module_version": "1.2.0",
      "_view_name": "LayoutView",
      "align_content": null,
      "align_items": null,
      "align_self": null,
      "border": null,
      "bottom": null,
      "display": null,
      "flex": null,
      "flex_flow": null,
      "grid_area": null,
      "grid_auto_columns": null,
      "grid_auto_flow": null,
      "grid_auto_rows": null,
      "grid_column": null,
      "grid_gap": null,
      "grid_row": null,
      "grid_template_areas": null,
      "grid_template_columns": null,
      "grid_template_rows": null,
      "height": null,
      "justify_content": null,
      "justify_items": null,
      "left": null,
      "margin": null,
      "max_height": null,
      "max_width": null,
      "min_height": null,
      "min_width": null,
      "object_fit": null,
      "object_position": null,
      "order": null,
      "overflow": null,
      "overflow_x": null,
      "overflow_y": null,
      "padding": null,
      "right": null,
      "top": null,
      "visibility": null,
      "width": null
     }
    },
    "082aafacd9004ef19f701a4e98b7e87c": {
     "model_module": "@jupyter-widgets/base",
     "model_module_version": "1.2.0",
     "model_name": "LayoutModel",
     "state": {
      "_model_module": "@jupyter-widgets/base",
      "_model_module_version": "1.2.0",
      "_model_name": "LayoutModel",
      "_view_count": null,
      "_view_module": "@jupyter-widgets/base",
      "_view_module_version": "1.2.0",
      "_view_name": "LayoutView",
      "align_content": null,
      "align_items": null,
      "align_self": null,
      "border": null,
      "bottom": null,
      "display": null,
      "flex": null,
      "flex_flow": null,
      "grid_area": null,
      "grid_auto_columns": null,
      "grid_auto_flow": null,
      "grid_auto_rows": null,
      "grid_column": null,
      "grid_gap": null,
      "grid_row": null,
      "grid_template_areas": null,
      "grid_template_columns": null,
      "grid_template_rows": null,
      "height": null,
      "justify_content": null,
      "justify_items": null,
      "left": null,
      "margin": null,
      "max_height": null,
      "max_width": null,
      "min_height": null,
      "min_width": null,
      "object_fit": null,
      "object_position": null,
      "order": null,
      "overflow": null,
      "overflow_x": null,
      "overflow_y": null,
      "padding": null,
      "right": null,
      "top": null,
      "visibility": null,
      "width": null
     }
    },
    "08e5c1f1b2f048d3a7d10d2b9b64fdea": {
     "model_module": "@jupyter-widgets/base",
     "model_module_version": "1.2.0",
     "model_name": "LayoutModel",
     "state": {
      "_model_module": "@jupyter-widgets/base",
      "_model_module_version": "1.2.0",
      "_model_name": "LayoutModel",
      "_view_count": null,
      "_view_module": "@jupyter-widgets/base",
      "_view_module_version": "1.2.0",
      "_view_name": "LayoutView",
      "align_content": null,
      "align_items": null,
      "align_self": null,
      "border": null,
      "bottom": null,
      "display": null,
      "flex": null,
      "flex_flow": null,
      "grid_area": null,
      "grid_auto_columns": null,
      "grid_auto_flow": null,
      "grid_auto_rows": null,
      "grid_column": null,
      "grid_gap": null,
      "grid_row": null,
      "grid_template_areas": null,
      "grid_template_columns": null,
      "grid_template_rows": null,
      "height": null,
      "justify_content": null,
      "justify_items": null,
      "left": null,
      "margin": null,
      "max_height": null,
      "max_width": null,
      "min_height": null,
      "min_width": null,
      "object_fit": null,
      "object_position": null,
      "order": null,
      "overflow": null,
      "overflow_x": null,
      "overflow_y": null,
      "padding": null,
      "right": null,
      "top": null,
      "visibility": null,
      "width": null
     }
    },
    "0a823236d7314ecea9c225df65c68429": {
     "model_module": "@jupyter-widgets/base",
     "model_module_version": "1.2.0",
     "model_name": "LayoutModel",
     "state": {
      "_model_module": "@jupyter-widgets/base",
      "_model_module_version": "1.2.0",
      "_model_name": "LayoutModel",
      "_view_count": null,
      "_view_module": "@jupyter-widgets/base",
      "_view_module_version": "1.2.0",
      "_view_name": "LayoutView",
      "align_content": null,
      "align_items": null,
      "align_self": null,
      "border": null,
      "bottom": null,
      "display": null,
      "flex": null,
      "flex_flow": null,
      "grid_area": null,
      "grid_auto_columns": null,
      "grid_auto_flow": null,
      "grid_auto_rows": null,
      "grid_column": null,
      "grid_gap": null,
      "grid_row": null,
      "grid_template_areas": null,
      "grid_template_columns": null,
      "grid_template_rows": null,
      "height": null,
      "justify_content": null,
      "justify_items": null,
      "left": null,
      "margin": null,
      "max_height": null,
      "max_width": null,
      "min_height": null,
      "min_width": null,
      "object_fit": null,
      "object_position": null,
      "order": null,
      "overflow": null,
      "overflow_x": null,
      "overflow_y": null,
      "padding": null,
      "right": null,
      "top": null,
      "visibility": null,
      "width": null
     }
    },
    "0d18e934837b43a9929ea4b4d1e7847b": {
     "model_module": "@jupyter-widgets/base",
     "model_module_version": "1.2.0",
     "model_name": "LayoutModel",
     "state": {
      "_model_module": "@jupyter-widgets/base",
      "_model_module_version": "1.2.0",
      "_model_name": "LayoutModel",
      "_view_count": null,
      "_view_module": "@jupyter-widgets/base",
      "_view_module_version": "1.2.0",
      "_view_name": "LayoutView",
      "align_content": null,
      "align_items": null,
      "align_self": null,
      "border": null,
      "bottom": null,
      "display": null,
      "flex": null,
      "flex_flow": null,
      "grid_area": null,
      "grid_auto_columns": null,
      "grid_auto_flow": null,
      "grid_auto_rows": null,
      "grid_column": null,
      "grid_gap": null,
      "grid_row": null,
      "grid_template_areas": null,
      "grid_template_columns": null,
      "grid_template_rows": null,
      "height": null,
      "justify_content": null,
      "justify_items": null,
      "left": null,
      "margin": null,
      "max_height": null,
      "max_width": null,
      "min_height": null,
      "min_width": null,
      "object_fit": null,
      "object_position": null,
      "order": null,
      "overflow": null,
      "overflow_x": null,
      "overflow_y": null,
      "padding": null,
      "right": null,
      "top": null,
      "visibility": null,
      "width": null
     }
    },
    "0d67389be7894c719d9c389748f1919c": {
     "model_module": "@jupyter-widgets/controls",
     "model_module_version": "1.5.0",
     "model_name": "ProgressStyleModel",
     "state": {
      "_model_module": "@jupyter-widgets/controls",
      "_model_module_version": "1.5.0",
      "_model_name": "ProgressStyleModel",
      "_view_count": null,
      "_view_module": "@jupyter-widgets/base",
      "_view_module_version": "1.2.0",
      "_view_name": "StyleView",
      "bar_color": null,
      "description_width": ""
     }
    },
    "0f558a85789f449088332574f3f71a43": {
     "model_module": "@jupyter-widgets/base",
     "model_module_version": "1.2.0",
     "model_name": "LayoutModel",
     "state": {
      "_model_module": "@jupyter-widgets/base",
      "_model_module_version": "1.2.0",
      "_model_name": "LayoutModel",
      "_view_count": null,
      "_view_module": "@jupyter-widgets/base",
      "_view_module_version": "1.2.0",
      "_view_name": "LayoutView",
      "align_content": null,
      "align_items": null,
      "align_self": null,
      "border": null,
      "bottom": null,
      "display": null,
      "flex": null,
      "flex_flow": null,
      "grid_area": null,
      "grid_auto_columns": null,
      "grid_auto_flow": null,
      "grid_auto_rows": null,
      "grid_column": null,
      "grid_gap": null,
      "grid_row": null,
      "grid_template_areas": null,
      "grid_template_columns": null,
      "grid_template_rows": null,
      "height": null,
      "justify_content": null,
      "justify_items": null,
      "left": null,
      "margin": null,
      "max_height": null,
      "max_width": null,
      "min_height": null,
      "min_width": null,
      "object_fit": null,
      "object_position": null,
      "order": null,
      "overflow": null,
      "overflow_x": null,
      "overflow_y": null,
      "padding": null,
      "right": null,
      "top": null,
      "visibility": null,
      "width": null
     }
    },
    "0fd2482873d3498d85ba17e9ea2d6a5a": {
     "model_module": "@jupyter-widgets/controls",
     "model_module_version": "1.5.0",
     "model_name": "FloatProgressModel",
     "state": {
      "_dom_classes": [],
      "_model_module": "@jupyter-widgets/controls",
      "_model_module_version": "1.5.0",
      "_model_name": "FloatProgressModel",
      "_view_count": null,
      "_view_module": "@jupyter-widgets/controls",
      "_view_module_version": "1.5.0",
      "_view_name": "ProgressView",
      "bar_style": "success",
      "description": "",
      "description_tooltip": null,
      "layout": "IPY_MODEL_f3c535337a084bbd8714a1dff538865c",
      "max": 123,
      "min": 0,
      "orientation": "horizontal",
      "style": "IPY_MODEL_f1e535e775914befb55c689d9a903d64",
      "value": 123
     }
    },
    "158d8de96bd8447aac885e5372327205": {
     "model_module": "@jupyter-widgets/controls",
     "model_module_version": "1.5.0",
     "model_name": "FloatProgressModel",
     "state": {
      "_dom_classes": [],
      "_model_module": "@jupyter-widgets/controls",
      "_model_module_version": "1.5.0",
      "_model_name": "FloatProgressModel",
      "_view_count": null,
      "_view_module": "@jupyter-widgets/controls",
      "_view_module_version": "1.5.0",
      "_view_name": "ProgressView",
      "bar_style": "success",
      "description": "",
      "description_tooltip": null,
      "layout": "IPY_MODEL_7709447a1c6d4a00a5dc662693e23fcc",
      "max": 15822,
      "min": 0,
      "orientation": "horizontal",
      "style": "IPY_MODEL_243b28b2753e418d81d84c7f0df9ca29",
      "value": 15822
     }
    },
    "15c998c7a0cd416dbf487abcef9ce413": {
     "model_module": "@jupyter-widgets/base",
     "model_module_version": "1.2.0",
     "model_name": "LayoutModel",
     "state": {
      "_model_module": "@jupyter-widgets/base",
      "_model_module_version": "1.2.0",
      "_model_name": "LayoutModel",
      "_view_count": null,
      "_view_module": "@jupyter-widgets/base",
      "_view_module_version": "1.2.0",
      "_view_name": "LayoutView",
      "align_content": null,
      "align_items": null,
      "align_self": null,
      "border": null,
      "bottom": null,
      "display": null,
      "flex": null,
      "flex_flow": null,
      "grid_area": null,
      "grid_auto_columns": null,
      "grid_auto_flow": null,
      "grid_auto_rows": null,
      "grid_column": null,
      "grid_gap": null,
      "grid_row": null,
      "grid_template_areas": null,
      "grid_template_columns": null,
      "grid_template_rows": null,
      "height": null,
      "justify_content": null,
      "justify_items": null,
      "left": null,
      "margin": null,
      "max_height": null,
      "max_width": null,
      "min_height": null,
      "min_width": null,
      "object_fit": null,
      "object_position": null,
      "order": null,
      "overflow": null,
      "overflow_x": null,
      "overflow_y": null,
      "padding": null,
      "right": null,
      "top": null,
      "visibility": null,
      "width": null
     }
    },
    "1983210acf3a4ff4a1f0208afc68311b": {
     "model_module": "@jupyter-widgets/controls",
     "model_module_version": "1.5.0",
     "model_name": "HTMLModel",
     "state": {
      "_dom_classes": [],
      "_model_module": "@jupyter-widgets/controls",
      "_model_module_version": "1.5.0",
      "_model_name": "HTMLModel",
      "_view_count": null,
      "_view_module": "@jupyter-widgets/controls",
      "_view_module_version": "1.5.0",
      "_view_name": "HTMLView",
      "description": "",
      "description_tooltip": null,
      "layout": "IPY_MODEL_fcb5d09a92084c1fb18a2176733cbbb6",
      "placeholder": "​",
      "style": "IPY_MODEL_1b35b78fdf694d03bb7bd4c9a25cb4c4",
      "value": "special_tokens_map.json: 100%"
     }
    },
    "19ddaab6e2e945739dbe1751b315d422": {
     "model_module": "@jupyter-widgets/controls",
     "model_module_version": "1.5.0",
     "model_name": "DescriptionStyleModel",
     "state": {
      "_model_module": "@jupyter-widgets/controls",
      "_model_module_version": "1.5.0",
      "_model_name": "DescriptionStyleModel",
      "_view_count": null,
      "_view_module": "@jupyter-widgets/base",
      "_view_module_version": "1.2.0",
      "_view_name": "StyleView",
      "description_width": ""
     }
    },
    "1a64340da4794d83a84a4b7e2750fd43": {
     "model_module": "@jupyter-widgets/base",
     "model_module_version": "1.2.0",
     "model_name": "LayoutModel",
     "state": {
      "_model_module": "@jupyter-widgets/base",
      "_model_module_version": "1.2.0",
      "_model_name": "LayoutModel",
      "_view_count": null,
      "_view_module": "@jupyter-widgets/base",
      "_view_module_version": "1.2.0",
      "_view_name": "LayoutView",
      "align_content": null,
      "align_items": null,
      "align_self": null,
      "border": null,
      "bottom": null,
      "display": null,
      "flex": null,
      "flex_flow": null,
      "grid_area": null,
      "grid_auto_columns": null,
      "grid_auto_flow": null,
      "grid_auto_rows": null,
      "grid_column": null,
      "grid_gap": null,
      "grid_row": null,
      "grid_template_areas": null,
      "grid_template_columns": null,
      "grid_template_rows": null,
      "height": null,
      "justify_content": null,
      "justify_items": null,
      "left": null,
      "margin": null,
      "max_height": null,
      "max_width": null,
      "min_height": null,
      "min_width": null,
      "object_fit": null,
      "object_position": null,
      "order": null,
      "overflow": null,
      "overflow_x": null,
      "overflow_y": null,
      "padding": null,
      "right": null,
      "top": null,
      "visibility": null,
      "width": null
     }
    },
    "1b35b78fdf694d03bb7bd4c9a25cb4c4": {
     "model_module": "@jupyter-widgets/controls",
     "model_module_version": "1.5.0",
     "model_name": "DescriptionStyleModel",
     "state": {
      "_model_module": "@jupyter-widgets/controls",
      "_model_module_version": "1.5.0",
      "_model_name": "DescriptionStyleModel",
      "_view_count": null,
      "_view_module": "@jupyter-widgets/base",
      "_view_module_version": "1.2.0",
      "_view_name": "StyleView",
      "description_width": ""
     }
    },
    "1b964536253545e08b2aa9e3e5949a30": {
     "model_module": "@jupyter-widgets/controls",
     "model_module_version": "1.5.0",
     "model_name": "HTMLModel",
     "state": {
      "_dom_classes": [],
      "_model_module": "@jupyter-widgets/controls",
      "_model_module_version": "1.5.0",
      "_model_name": "HTMLModel",
      "_view_count": null,
      "_view_module": "@jupyter-widgets/controls",
      "_view_module_version": "1.5.0",
      "_view_name": "HTMLView",
      "description": "",
      "description_tooltip": null,
      "layout": "IPY_MODEL_8f898d614a6941e898f50c4256650957",
      "placeholder": "​",
      "style": "IPY_MODEL_426e3ef9e3024ab08e1cb01c63d705d2",
      "value": " 17.1M/17.1M [00:00&lt;00:00, 117MB/s]"
     }
    },
    "1da7cd9ee16b4b0b914b45fc47ebb4a0": {
     "model_module": "@jupyter-widgets/controls",
     "model_module_version": "1.5.0",
     "model_name": "DescriptionStyleModel",
     "state": {
      "_model_module": "@jupyter-widgets/controls",
      "_model_module_version": "1.5.0",
      "_model_name": "DescriptionStyleModel",
      "_view_count": null,
      "_view_module": "@jupyter-widgets/base",
      "_view_module_version": "1.2.0",
      "_view_name": "StyleView",
      "description_width": ""
     }
    },
    "1e261710a1d949228647575fc844678b": {
     "model_module": "@jupyter-widgets/controls",
     "model_module_version": "1.5.0",
     "model_name": "HTMLModel",
     "state": {
      "_dom_classes": [],
      "_model_module": "@jupyter-widgets/controls",
      "_model_module_version": "1.5.0",
      "_model_name": "HTMLModel",
      "_view_count": null,
      "_view_module": "@jupyter-widgets/controls",
      "_view_module_version": "1.5.0",
      "_view_name": "HTMLView",
      "description": "",
      "description_tooltip": null,
      "layout": "IPY_MODEL_6b8331398c604eeb9e5342882cfd5150",
      "placeholder": "​",
      "style": "IPY_MODEL_1da7cd9ee16b4b0b914b45fc47ebb4a0",
      "value": "pytorch_model.bin: 100%"
     }
    },
    "21207564ce1a415488036a550f0d773c": {
     "model_module": "@jupyter-widgets/controls",
     "model_module_version": "1.5.0",
     "model_name": "HBoxModel",
     "state": {
      "_dom_classes": [],
      "_model_module": "@jupyter-widgets/controls",
      "_model_module_version": "1.5.0",
      "_model_name": "HBoxModel",
      "_view_count": null,
      "_view_module": "@jupyter-widgets/controls",
      "_view_module_version": "1.5.0",
      "_view_name": "HBoxView",
      "box_style": "",
      "children": [
       "IPY_MODEL_22c156e175fb4fec8cf54f6bea138de6",
       "IPY_MODEL_d817895fe38c40db8b9149ae10e9a3d9",
       "IPY_MODEL_5da14a14570d4c2296d312d31e9e571b"
      ],
      "layout": "IPY_MODEL_348e76b532aa4b73a652634c612b4988"
     }
    },
    "212c254fefd349f5a8de24508f1951bc": {
     "model_module": "@jupyter-widgets/base",
     "model_module_version": "1.2.0",
     "model_name": "LayoutModel",
     "state": {
      "_model_module": "@jupyter-widgets/base",
      "_model_module_version": "1.2.0",
      "_model_name": "LayoutModel",
      "_view_count": null,
      "_view_module": "@jupyter-widgets/base",
      "_view_module_version": "1.2.0",
      "_view_name": "LayoutView",
      "align_content": null,
      "align_items": null,
      "align_self": null,
      "border": null,
      "bottom": null,
      "display": null,
      "flex": null,
      "flex_flow": null,
      "grid_area": null,
      "grid_auto_columns": null,
      "grid_auto_flow": null,
      "grid_auto_rows": null,
      "grid_column": null,
      "grid_gap": null,
      "grid_row": null,
      "grid_template_areas": null,
      "grid_template_columns": null,
      "grid_template_rows": null,
      "height": null,
      "justify_content": null,
      "justify_items": null,
      "left": null,
      "margin": null,
      "max_height": null,
      "max_width": null,
      "min_height": null,
      "min_width": null,
      "object_fit": null,
      "object_position": null,
      "order": null,
      "overflow": null,
      "overflow_x": null,
      "overflow_y": null,
      "padding": null,
      "right": null,
      "top": null,
      "visibility": null,
      "width": null
     }
    },
    "22c156e175fb4fec8cf54f6bea138de6": {
     "model_module": "@jupyter-widgets/controls",
     "model_module_version": "1.5.0",
     "model_name": "HTMLModel",
     "state": {
      "_dom_classes": [],
      "_model_module": "@jupyter-widgets/controls",
      "_model_module_version": "1.5.0",
      "_model_name": "HTMLModel",
      "_view_count": null,
      "_view_module": "@jupyter-widgets/controls",
      "_view_module_version": "1.5.0",
      "_view_name": "HTMLView",
      "description": "",
      "description_tooltip": null,
      "layout": "IPY_MODEL_4908925de52b46f5bb4a4c04c93c32bf",
      "placeholder": "​",
      "style": "IPY_MODEL_2d0056a504514abc9a31f6643ac59c9a",
      "value": "model.safetensors: 100%"
     }
    },
    "243b28b2753e418d81d84c7f0df9ca29": {
     "model_module": "@jupyter-widgets/controls",
     "model_module_version": "1.5.0",
     "model_name": "ProgressStyleModel",
     "state": {
      "_model_module": "@jupyter-widgets/controls",
      "_model_module_version": "1.5.0",
      "_model_name": "ProgressStyleModel",
      "_view_count": null,
      "_view_module": "@jupyter-widgets/base",
      "_view_module_version": "1.2.0",
      "_view_name": "StyleView",
      "bar_color": null,
      "description_width": ""
     }
    },
    "25c0941523db490992b9ef2d35182bb5": {
     "model_module": "@jupyter-widgets/base",
     "model_module_version": "1.2.0",
     "model_name": "LayoutModel",
     "state": {
      "_model_module": "@jupyter-widgets/base",
      "_model_module_version": "1.2.0",
      "_model_name": "LayoutModel",
      "_view_count": null,
      "_view_module": "@jupyter-widgets/base",
      "_view_module_version": "1.2.0",
      "_view_name": "LayoutView",
      "align_content": null,
      "align_items": null,
      "align_self": null,
      "border": null,
      "bottom": null,
      "display": null,
      "flex": null,
      "flex_flow": null,
      "grid_area": null,
      "grid_auto_columns": null,
      "grid_auto_flow": null,
      "grid_auto_rows": null,
      "grid_column": null,
      "grid_gap": null,
      "grid_row": null,
      "grid_template_areas": null,
      "grid_template_columns": null,
      "grid_template_rows": null,
      "height": null,
      "justify_content": null,
      "justify_items": null,
      "left": null,
      "margin": null,
      "max_height": null,
      "max_width": null,
      "min_height": null,
      "min_width": null,
      "object_fit": null,
      "object_position": null,
      "order": null,
      "overflow": null,
      "overflow_x": null,
      "overflow_y": null,
      "padding": null,
      "right": null,
      "top": null,
      "visibility": null,
      "width": null
     }
    },
    "27aa29f29a7e43039037e78db3634edd": {
     "model_module": "@jupyter-widgets/controls",
     "model_module_version": "1.5.0",
     "model_name": "ProgressStyleModel",
     "state": {
      "_model_module": "@jupyter-widgets/controls",
      "_model_module_version": "1.5.0",
      "_model_name": "ProgressStyleModel",
      "_view_count": null,
      "_view_module": "@jupyter-widgets/base",
      "_view_module_version": "1.2.0",
      "_view_name": "StyleView",
      "bar_color": null,
      "description_width": ""
     }
    },
    "2c5d129998724b68ba940c5e751a0276": {
     "model_module": "@jupyter-widgets/controls",
     "model_module_version": "1.5.0",
     "model_name": "FloatProgressModel",
     "state": {
      "_dom_classes": [],
      "_model_module": "@jupyter-widgets/controls",
      "_model_module_version": "1.5.0",
      "_model_name": "FloatProgressModel",
      "_view_count": null,
      "_view_module": "@jupyter-widgets/controls",
      "_view_module_version": "1.5.0",
      "_view_name": "ProgressView",
      "bar_style": "success",
      "description": "",
      "description_tooltip": null,
      "layout": "IPY_MODEL_0d18e934837b43a9929ea4b4d1e7847b",
      "max": 17098108,
      "min": 0,
      "orientation": "horizontal",
      "style": "IPY_MODEL_9ae8b216620d4dc3acbfa37380f8f3c1",
      "value": 17098108
     }
    },
    "2ce060ab10d547509cde15bce15627be": {
     "model_module": "@jupyter-widgets/base",
     "model_module_version": "1.2.0",
     "model_name": "LayoutModel",
     "state": {
      "_model_module": "@jupyter-widgets/base",
      "_model_module_version": "1.2.0",
      "_model_name": "LayoutModel",
      "_view_count": null,
      "_view_module": "@jupyter-widgets/base",
      "_view_module_version": "1.2.0",
      "_view_name": "LayoutView",
      "align_content": null,
      "align_items": null,
      "align_self": null,
      "border": null,
      "bottom": null,
      "display": null,
      "flex": null,
      "flex_flow": null,
      "grid_area": null,
      "grid_auto_columns": null,
      "grid_auto_flow": null,
      "grid_auto_rows": null,
      "grid_column": null,
      "grid_gap": null,
      "grid_row": null,
      "grid_template_areas": null,
      "grid_template_columns": null,
      "grid_template_rows": null,
      "height": null,
      "justify_content": null,
      "justify_items": null,
      "left": null,
      "margin": null,
      "max_height": null,
      "max_width": null,
      "min_height": null,
      "min_width": null,
      "object_fit": null,
      "object_position": null,
      "order": null,
      "overflow": null,
      "overflow_x": null,
      "overflow_y": null,
      "padding": null,
      "right": null,
      "top": null,
      "visibility": null,
      "width": null
     }
    },
    "2d0056a504514abc9a31f6643ac59c9a": {
     "model_module": "@jupyter-widgets/controls",
     "model_module_version": "1.5.0",
     "model_name": "DescriptionStyleModel",
     "state": {
      "_model_module": "@jupyter-widgets/controls",
      "_model_module_version": "1.5.0",
      "_model_name": "DescriptionStyleModel",
      "_view_count": null,
      "_view_module": "@jupyter-widgets/base",
      "_view_module_version": "1.2.0",
      "_view_name": "StyleView",
      "description_width": ""
     }
    },
    "2ef319971bef444c8f6ec6dcd0ed8774": {
     "model_module": "@jupyter-widgets/controls",
     "model_module_version": "1.5.0",
     "model_name": "HTMLModel",
     "state": {
      "_dom_classes": [],
      "_model_module": "@jupyter-widgets/controls",
      "_model_module_version": "1.5.0",
      "_model_name": "HTMLModel",
      "_view_count": null,
      "_view_module": "@jupyter-widgets/controls",
      "_view_module_version": "1.5.0",
      "_view_name": "HTMLView",
      "description": "",
      "description_tooltip": null,
      "layout": "IPY_MODEL_45471c563c714efb8e87ad3c59972689",
      "placeholder": "​",
      "style": "IPY_MODEL_581ae3d343ec4a749489e28c9c8e8d96",
      "value": " 54.0/54.0 [00:00&lt;00:00, 4.35kB/s]"
     }
    },
    "311efef2a6524cc9bb7ba78778b394a4": {
     "model_module": "@jupyter-widgets/base",
     "model_module_version": "1.2.0",
     "model_name": "LayoutModel",
     "state": {
      "_model_module": "@jupyter-widgets/base",
      "_model_module_version": "1.2.0",
      "_model_name": "LayoutModel",
      "_view_count": null,
      "_view_module": "@jupyter-widgets/base",
      "_view_module_version": "1.2.0",
      "_view_name": "LayoutView",
      "align_content": null,
      "align_items": null,
      "align_self": null,
      "border": null,
      "bottom": null,
      "display": null,
      "flex": null,
      "flex_flow": null,
      "grid_area": null,
      "grid_auto_columns": null,
      "grid_auto_flow": null,
      "grid_auto_rows": null,
      "grid_column": null,
      "grid_gap": null,
      "grid_row": null,
      "grid_template_areas": null,
      "grid_template_columns": null,
      "grid_template_rows": null,
      "height": null,
      "justify_content": null,
      "justify_items": null,
      "left": null,
      "margin": null,
      "max_height": null,
      "max_width": null,
      "min_height": null,
      "min_width": null,
      "object_fit": null,
      "object_position": null,
      "order": null,
      "overflow": null,
      "overflow_x": null,
      "overflow_y": null,
      "padding": null,
      "right": null,
      "top": null,
      "visibility": null,
      "width": null
     }
    },
    "31726476f80f4d6db57e8e31fe1c265b": {
     "model_module": "@jupyter-widgets/base",
     "model_module_version": "1.2.0",
     "model_name": "LayoutModel",
     "state": {
      "_model_module": "@jupyter-widgets/base",
      "_model_module_version": "1.2.0",
      "_model_name": "LayoutModel",
      "_view_count": null,
      "_view_module": "@jupyter-widgets/base",
      "_view_module_version": "1.2.0",
      "_view_name": "LayoutView",
      "align_content": null,
      "align_items": null,
      "align_self": null,
      "border": null,
      "bottom": null,
      "display": null,
      "flex": null,
      "flex_flow": null,
      "grid_area": null,
      "grid_auto_columns": null,
      "grid_auto_flow": null,
      "grid_auto_rows": null,
      "grid_column": null,
      "grid_gap": null,
      "grid_row": null,
      "grid_template_areas": null,
      "grid_template_columns": null,
      "grid_template_rows": null,
      "height": null,
      "justify_content": null,
      "justify_items": null,
      "left": null,
      "margin": null,
      "max_height": null,
      "max_width": null,
      "min_height": null,
      "min_width": null,
      "object_fit": null,
      "object_position": null,
      "order": null,
      "overflow": null,
      "overflow_x": null,
      "overflow_y": null,
      "padding": null,
      "right": null,
      "top": null,
      "visibility": null,
      "width": null
     }
    },
    "348e76b532aa4b73a652634c612b4988": {
     "model_module": "@jupyter-widgets/base",
     "model_module_version": "1.2.0",
     "model_name": "LayoutModel",
     "state": {
      "_model_module": "@jupyter-widgets/base",
      "_model_module_version": "1.2.0",
      "_model_name": "LayoutModel",
      "_view_count": null,
      "_view_module": "@jupyter-widgets/base",
      "_view_module_version": "1.2.0",
      "_view_name": "LayoutView",
      "align_content": null,
      "align_items": null,
      "align_self": null,
      "border": null,
      "bottom": null,
      "display": null,
      "flex": null,
      "flex_flow": null,
      "grid_area": null,
      "grid_auto_columns": null,
      "grid_auto_flow": null,
      "grid_auto_rows": null,
      "grid_column": null,
      "grid_gap": null,
      "grid_row": null,
      "grid_template_areas": null,
      "grid_template_columns": null,
      "grid_template_rows": null,
      "height": null,
      "justify_content": null,
      "justify_items": null,
      "left": null,
      "margin": null,
      "max_height": null,
      "max_width": null,
      "min_height": null,
      "min_width": null,
      "object_fit": null,
      "object_position": null,
      "order": null,
      "overflow": null,
      "overflow_x": null,
      "overflow_y": null,
      "padding": null,
      "right": null,
      "top": null,
      "visibility": null,
      "width": null
     }
    },
    "37ccc0ceafbb4613b57ff1015e55f73e": {
     "model_module": "@jupyter-widgets/controls",
     "model_module_version": "1.5.0",
     "model_name": "ProgressStyleModel",
     "state": {
      "_model_module": "@jupyter-widgets/controls",
      "_model_module_version": "1.5.0",
      "_model_name": "ProgressStyleModel",
      "_view_count": null,
      "_view_module": "@jupyter-widgets/base",
      "_view_module_version": "1.2.0",
      "_view_name": "StyleView",
      "bar_color": null,
      "description_width": ""
     }
    },
    "3b3bd08330b44c279b462a4e10a6cf94": {
     "model_module": "@jupyter-widgets/controls",
     "model_module_version": "1.5.0",
     "model_name": "HTMLModel",
     "state": {
      "_dom_classes": [],
      "_model_module": "@jupyter-widgets/controls",
      "_model_module_version": "1.5.0",
      "_model_name": "HTMLModel",
      "_view_count": null,
      "_view_module": "@jupyter-widgets/controls",
      "_view_module_version": "1.5.0",
      "_view_name": "HTMLView",
      "description": "",
      "description_tooltip": null,
      "layout": "IPY_MODEL_990fabace7e742669ccf51dd3a97f25e",
      "placeholder": "​",
      "style": "IPY_MODEL_c82ed8dba2be4b4eb81f1cdf5e243eab",
      "value": "README.md: 100%"
     }
    },
    "3cd4c5fc40eb4a29a4973d4f97fd65fd": {
     "model_module": "@jupyter-widgets/controls",
     "model_module_version": "1.5.0",
     "model_name": "HBoxModel",
     "state": {
      "_dom_classes": [],
      "_model_module": "@jupyter-widgets/controls",
      "_model_module_version": "1.5.0",
      "_model_name": "HBoxModel",
      "_view_count": null,
      "_view_module": "@jupyter-widgets/controls",
      "_view_module_version": "1.5.0",
      "_view_name": "HBoxView",
      "box_style": "",
      "children": [
       "IPY_MODEL_3b3bd08330b44c279b462a4e10a6cf94",
       "IPY_MODEL_158d8de96bd8447aac885e5372327205",
       "IPY_MODEL_bb322561f0c04c3ca72cb6ac6990c1de"
      ],
      "layout": "IPY_MODEL_212c254fefd349f5a8de24508f1951bc"
     }
    },
    "403c47f3ca30409e86dd172a597e00f6": {
     "model_module": "@jupyter-widgets/base",
     "model_module_version": "1.2.0",
     "model_name": "LayoutModel",
     "state": {
      "_model_module": "@jupyter-widgets/base",
      "_model_module_version": "1.2.0",
      "_model_name": "LayoutModel",
      "_view_count": null,
      "_view_module": "@jupyter-widgets/base",
      "_view_module_version": "1.2.0",
      "_view_name": "LayoutView",
      "align_content": null,
      "align_items": null,
      "align_self": null,
      "border": null,
      "bottom": null,
      "display": null,
      "flex": null,
      "flex_flow": null,
      "grid_area": null,
      "grid_auto_columns": null,
      "grid_auto_flow": null,
      "grid_auto_rows": null,
      "grid_column": null,
      "grid_gap": null,
      "grid_row": null,
      "grid_template_areas": null,
      "grid_template_columns": null,
      "grid_template_rows": null,
      "height": null,
      "justify_content": null,
      "justify_items": null,
      "left": null,
      "margin": null,
      "max_height": null,
      "max_width": null,
      "min_height": null,
      "min_width": null,
      "object_fit": null,
      "object_position": null,
      "order": null,
      "overflow": null,
      "overflow_x": null,
      "overflow_y": null,
      "padding": null,
      "right": null,
      "top": null,
      "visibility": null,
      "width": null
     }
    },
    "426e3ef9e3024ab08e1cb01c63d705d2": {
     "model_module": "@jupyter-widgets/controls",
     "model_module_version": "1.5.0",
     "model_name": "DescriptionStyleModel",
     "state": {
      "_model_module": "@jupyter-widgets/controls",
      "_model_module_version": "1.5.0",
      "_model_name": "DescriptionStyleModel",
      "_view_count": null,
      "_view_module": "@jupyter-widgets/base",
      "_view_module_version": "1.2.0",
      "_view_name": "StyleView",
      "description_width": ""
     }
    },
    "45471c563c714efb8e87ad3c59972689": {
     "model_module": "@jupyter-widgets/base",
     "model_module_version": "1.2.0",
     "model_name": "LayoutModel",
     "state": {
      "_model_module": "@jupyter-widgets/base",
      "_model_module_version": "1.2.0",
      "_model_name": "LayoutModel",
      "_view_count": null,
      "_view_module": "@jupyter-widgets/base",
      "_view_module_version": "1.2.0",
      "_view_name": "LayoutView",
      "align_content": null,
      "align_items": null,
      "align_self": null,
      "border": null,
      "bottom": null,
      "display": null,
      "flex": null,
      "flex_flow": null,
      "grid_area": null,
      "grid_auto_columns": null,
      "grid_auto_flow": null,
      "grid_auto_rows": null,
      "grid_column": null,
      "grid_gap": null,
      "grid_row": null,
      "grid_template_areas": null,
      "grid_template_columns": null,
      "grid_template_rows": null,
      "height": null,
      "justify_content": null,
      "justify_items": null,
      "left": null,
      "margin": null,
      "max_height": null,
      "max_width": null,
      "min_height": null,
      "min_width": null,
      "object_fit": null,
      "object_position": null,
      "order": null,
      "overflow": null,
      "overflow_x": null,
      "overflow_y": null,
      "padding": null,
      "right": null,
      "top": null,
      "visibility": null,
      "width": null
     }
    },
    "47654ca85b074d63904bfc5784cad6de": {
     "model_module": "@jupyter-widgets/controls",
     "model_module_version": "1.5.0",
     "model_name": "HTMLModel",
     "state": {
      "_dom_classes": [],
      "_model_module": "@jupyter-widgets/controls",
      "_model_module_version": "1.5.0",
      "_model_name": "HTMLModel",
      "_view_count": null,
      "_view_module": "@jupyter-widgets/controls",
      "_view_module_version": "1.5.0",
      "_view_name": "HTMLView",
      "description": "",
      "description_tooltip": null,
      "layout": "IPY_MODEL_4a2eed6b6dee47f4b93c96342e7c947e",
      "placeholder": "​",
      "style": "IPY_MODEL_ede195b1737742f39e0eb70bea9ebe8c",
      "value": "modules.json: 100%"
     }
    },
    "4908925de52b46f5bb4a4c04c93c32bf": {
     "model_module": "@jupyter-widgets/base",
     "model_module_version": "1.2.0",
     "model_name": "LayoutModel",
     "state": {
      "_model_module": "@jupyter-widgets/base",
      "_model_module_version": "1.2.0",
      "_model_name": "LayoutModel",
      "_view_count": null,
      "_view_module": "@jupyter-widgets/base",
      "_view_module_version": "1.2.0",
      "_view_name": "LayoutView",
      "align_content": null,
      "align_items": null,
      "align_self": null,
      "border": null,
      "bottom": null,
      "display": null,
      "flex": null,
      "flex_flow": null,
      "grid_area": null,
      "grid_auto_columns": null,
      "grid_auto_flow": null,
      "grid_auto_rows": null,
      "grid_column": null,
      "grid_gap": null,
      "grid_row": null,
      "grid_template_areas": null,
      "grid_template_columns": null,
      "grid_template_rows": null,
      "height": null,
      "justify_content": null,
      "justify_items": null,
      "left": null,
      "margin": null,
      "max_height": null,
      "max_width": null,
      "min_height": null,
      "min_width": null,
      "object_fit": null,
      "object_position": null,
      "order": null,
      "overflow": null,
      "overflow_x": null,
      "overflow_y": null,
      "padding": null,
      "right": null,
      "top": null,
      "visibility": null,
      "width": null
     }
    },
    "4a2eed6b6dee47f4b93c96342e7c947e": {
     "model_module": "@jupyter-widgets/base",
     "model_module_version": "1.2.0",
     "model_name": "LayoutModel",
     "state": {
      "_model_module": "@jupyter-widgets/base",
      "_model_module_version": "1.2.0",
      "_model_name": "LayoutModel",
      "_view_count": null,
      "_view_module": "@jupyter-widgets/base",
      "_view_module_version": "1.2.0",
      "_view_name": "LayoutView",
      "align_content": null,
      "align_items": null,
      "align_self": null,
      "border": null,
      "bottom": null,
      "display": null,
      "flex": null,
      "flex_flow": null,
      "grid_area": null,
      "grid_auto_columns": null,
      "grid_auto_flow": null,
      "grid_auto_rows": null,
      "grid_column": null,
      "grid_gap": null,
      "grid_row": null,
      "grid_template_areas": null,
      "grid_template_columns": null,
      "grid_template_rows": null,
      "height": null,
      "justify_content": null,
      "justify_items": null,
      "left": null,
      "margin": null,
      "max_height": null,
      "max_width": null,
      "min_height": null,
      "min_width": null,
      "object_fit": null,
      "object_position": null,
      "order": null,
      "overflow": null,
      "overflow_x": null,
      "overflow_y": null,
      "padding": null,
      "right": null,
      "top": null,
      "visibility": null,
      "width": null
     }
    },
    "4b539d7017c149f18c45575b746cd183": {
     "model_module": "@jupyter-widgets/controls",
     "model_module_version": "1.5.0",
     "model_name": "HTMLModel",
     "state": {
      "_dom_classes": [],
      "_model_module": "@jupyter-widgets/controls",
      "_model_module_version": "1.5.0",
      "_model_name": "HTMLModel",
      "_view_count": null,
      "_view_module": "@jupyter-widgets/controls",
      "_view_module_version": "1.5.0",
      "_view_name": "HTMLView",
      "description": "",
      "description_tooltip": null,
      "layout": "IPY_MODEL_fe3b3206ee724f719ce3f58ab017cc1c",
      "placeholder": "​",
      "style": "IPY_MODEL_74450bee19224895858f3e6d3aab5ba6",
      "value": " 964/964 [00:00&lt;00:00, 76.8kB/s]"
     }
    },
    "4df7105e36ce4edd8b656bba44f1fb81": {
     "model_module": "@jupyter-widgets/controls",
     "model_module_version": "1.5.0",
     "model_name": "DescriptionStyleModel",
     "state": {
      "_model_module": "@jupyter-widgets/controls",
      "_model_module_version": "1.5.0",
      "_model_name": "DescriptionStyleModel",
      "_view_count": null,
      "_view_module": "@jupyter-widgets/base",
      "_view_module_version": "1.2.0",
      "_view_name": "StyleView",
      "description_width": ""
     }
    },
    "509337f278e74fff92fccf2203f7e4c1": {
     "model_module": "@jupyter-widgets/base",
     "model_module_version": "1.2.0",
     "model_name": "LayoutModel",
     "state": {
      "_model_module": "@jupyter-widgets/base",
      "_model_module_version": "1.2.0",
      "_model_name": "LayoutModel",
      "_view_count": null,
      "_view_module": "@jupyter-widgets/base",
      "_view_module_version": "1.2.0",
      "_view_name": "LayoutView",
      "align_content": null,
      "align_items": null,
      "align_self": null,
      "border": null,
      "bottom": null,
      "display": null,
      "flex": null,
      "flex_flow": null,
      "grid_area": null,
      "grid_auto_columns": null,
      "grid_auto_flow": null,
      "grid_auto_rows": null,
      "grid_column": null,
      "grid_gap": null,
      "grid_row": null,
      "grid_template_areas": null,
      "grid_template_columns": null,
      "grid_template_rows": null,
      "height": null,
      "justify_content": null,
      "justify_items": null,
      "left": null,
      "margin": null,
      "max_height": null,
      "max_width": null,
      "min_height": null,
      "min_width": null,
      "object_fit": null,
      "object_position": null,
      "order": null,
      "overflow": null,
      "overflow_x": null,
      "overflow_y": null,
      "padding": null,
      "right": null,
      "top": null,
      "visibility": null,
      "width": null
     }
    },
    "50eec0ec63044e9d819644de4926f1ff": {
     "model_module": "@jupyter-widgets/controls",
     "model_module_version": "1.5.0",
     "model_name": "HTMLModel",
     "state": {
      "_dom_classes": [],
      "_model_module": "@jupyter-widgets/controls",
      "_model_module_version": "1.5.0",
      "_model_name": "HTMLModel",
      "_view_count": null,
      "_view_module": "@jupyter-widgets/controls",
      "_view_module_version": "1.5.0",
      "_view_name": "HTMLView",
      "description": "",
      "description_tooltip": null,
      "layout": "IPY_MODEL_403c47f3ca30409e86dd172a597e00f6",
      "placeholder": "​",
      "style": "IPY_MODEL_7eaf52ea43fd446187d22a3c6887e580",
      "value": "config_sentence_transformers.json: 100%"
     }
    },
    "50ff7998ec8e406b8e505a4b32d97dc1": {
     "model_module": "@jupyter-widgets/controls",
     "model_module_version": "1.5.0",
     "model_name": "ProgressStyleModel",
     "state": {
      "_model_module": "@jupyter-widgets/controls",
      "_model_module_version": "1.5.0",
      "_model_name": "ProgressStyleModel",
      "_view_count": null,
      "_view_module": "@jupyter-widgets/base",
      "_view_module_version": "1.2.0",
      "_view_name": "StyleView",
      "bar_color": null,
      "description_width": ""
     }
    },
    "581ae3d343ec4a749489e28c9c8e8d96": {
     "model_module": "@jupyter-widgets/controls",
     "model_module_version": "1.5.0",
     "model_name": "DescriptionStyleModel",
     "state": {
      "_model_module": "@jupyter-widgets/controls",
      "_model_module_version": "1.5.0",
      "_model_name": "DescriptionStyleModel",
      "_view_count": null,
      "_view_module": "@jupyter-widgets/base",
      "_view_module_version": "1.2.0",
      "_view_name": "StyleView",
      "description_width": ""
     }
    },
    "5d448292738d43aa8da09be9c6baaa70": {
     "model_module": "@jupyter-widgets/controls",
     "model_module_version": "1.5.0",
     "model_name": "HTMLModel",
     "state": {
      "_dom_classes": [],
      "_model_module": "@jupyter-widgets/controls",
      "_model_module_version": "1.5.0",
      "_model_name": "HTMLModel",
      "_view_count": null,
      "_view_module": "@jupyter-widgets/controls",
      "_view_module_version": "1.5.0",
      "_view_name": "HTMLView",
      "description": "",
      "description_tooltip": null,
      "layout": "IPY_MODEL_25c0941523db490992b9ef2d35182bb5",
      "placeholder": "​",
      "style": "IPY_MODEL_73b45f7e8a88473092906b787ec84afe",
      "value": " 5.07M/5.07M [00:00&lt;00:00, 71.8MB/s]"
     }
    },
    "5d5e292cf1534819b4bfb69425913d21": {
     "model_module": "@jupyter-widgets/controls",
     "model_module_version": "1.5.0",
     "model_name": "ProgressStyleModel",
     "state": {
      "_model_module": "@jupyter-widgets/controls",
      "_model_module_version": "1.5.0",
      "_model_name": "ProgressStyleModel",
      "_view_count": null,
      "_view_module": "@jupyter-widgets/base",
      "_view_module_version": "1.2.0",
      "_view_name": "StyleView",
      "bar_color": null,
      "description_width": ""
     }
    },
    "5da14a14570d4c2296d312d31e9e571b": {
     "model_module": "@jupyter-widgets/controls",
     "model_module_version": "1.5.0",
     "model_name": "HTMLModel",
     "state": {
      "_dom_classes": [],
      "_model_module": "@jupyter-widgets/controls",
      "_model_module_version": "1.5.0",
      "_model_name": "HTMLModel",
      "_view_count": null,
      "_view_module": "@jupyter-widgets/controls",
      "_view_module_version": "1.5.0",
      "_view_name": "HTMLView",
      "description": "",
      "description_tooltip": null,
      "layout": "IPY_MODEL_9ea25e243c704074ba1cc50e8d4f46f3",
      "placeholder": "​",
      "style": "IPY_MODEL_7f47c25cf5a94b31a96290310978010e",
      "value": " 2.27G/2.27G [00:26&lt;00:00, 133MB/s]"
     }
    },
    "5f5538b6229b48dab76cc5ee87543ca9": {
     "model_module": "@jupyter-widgets/base",
     "model_module_version": "1.2.0",
     "model_name": "LayoutModel",
     "state": {
      "_model_module": "@jupyter-widgets/base",
      "_model_module_version": "1.2.0",
      "_model_name": "LayoutModel",
      "_view_count": null,
      "_view_module": "@jupyter-widgets/base",
      "_view_module_version": "1.2.0",
      "_view_name": "LayoutView",
      "align_content": null,
      "align_items": null,
      "align_self": null,
      "border": null,
      "bottom": null,
      "display": null,
      "flex": null,
      "flex_flow": null,
      "grid_area": null,
      "grid_auto_columns": null,
      "grid_auto_flow": null,
      "grid_auto_rows": null,
      "grid_column": null,
      "grid_gap": null,
      "grid_row": null,
      "grid_template_areas": null,
      "grid_template_columns": null,
      "grid_template_rows": null,
      "height": null,
      "justify_content": null,
      "justify_items": null,
      "left": null,
      "margin": null,
      "max_height": null,
      "max_width": null,
      "min_height": null,
      "min_width": null,
      "object_fit": null,
      "object_position": null,
      "order": null,
      "overflow": null,
      "overflow_x": null,
      "overflow_y": null,
      "padding": null,
      "right": null,
      "top": null,
      "visibility": null,
      "width": null
     }
    },
    "5fdcf42e478f4e94bac2cb41ac21bcc8": {
     "model_module": "@jupyter-widgets/controls",
     "model_module_version": "1.5.0",
     "model_name": "DescriptionStyleModel",
     "state": {
      "_model_module": "@jupyter-widgets/controls",
      "_model_module_version": "1.5.0",
      "_model_name": "DescriptionStyleModel",
      "_view_count": null,
      "_view_module": "@jupyter-widgets/base",
      "_view_module_version": "1.2.0",
      "_view_name": "StyleView",
      "description_width": ""
     }
    },
    "602bb67ae0bb4c97ae55ee2902893d69": {
     "model_module": "@jupyter-widgets/controls",
     "model_module_version": "1.5.0",
     "model_name": "DescriptionStyleModel",
     "state": {
      "_model_module": "@jupyter-widgets/controls",
      "_model_module_version": "1.5.0",
      "_model_name": "DescriptionStyleModel",
      "_view_count": null,
      "_view_module": "@jupyter-widgets/base",
      "_view_module_version": "1.2.0",
      "_view_name": "StyleView",
      "description_width": ""
     }
    },
    "633847d3b09441f385fefa6b4511a5bf": {
     "model_module": "@jupyter-widgets/base",
     "model_module_version": "1.2.0",
     "model_name": "LayoutModel",
     "state": {
      "_model_module": "@jupyter-widgets/base",
      "_model_module_version": "1.2.0",
      "_model_name": "LayoutModel",
      "_view_count": null,
      "_view_module": "@jupyter-widgets/base",
      "_view_module_version": "1.2.0",
      "_view_name": "LayoutView",
      "align_content": null,
      "align_items": null,
      "align_self": null,
      "border": null,
      "bottom": null,
      "display": null,
      "flex": null,
      "flex_flow": null,
      "grid_area": null,
      "grid_auto_columns": null,
      "grid_auto_flow": null,
      "grid_auto_rows": null,
      "grid_column": null,
      "grid_gap": null,
      "grid_row": null,
      "grid_template_areas": null,
      "grid_template_columns": null,
      "grid_template_rows": null,
      "height": null,
      "justify_content": null,
      "justify_items": null,
      "left": null,
      "margin": null,
      "max_height": null,
      "max_width": null,
      "min_height": null,
      "min_width": null,
      "object_fit": null,
      "object_position": null,
      "order": null,
      "overflow": null,
      "overflow_x": null,
      "overflow_y": null,
      "padding": null,
      "right": null,
      "top": null,
      "visibility": null,
      "width": null
     }
    },
    "63df75c8aa3e4335a7c7840cf21523a1": {
     "model_module": "@jupyter-widgets/base",
     "model_module_version": "1.2.0",
     "model_name": "LayoutModel",
     "state": {
      "_model_module": "@jupyter-widgets/base",
      "_model_module_version": "1.2.0",
      "_model_name": "LayoutModel",
      "_view_count": null,
      "_view_module": "@jupyter-widgets/base",
      "_view_module_version": "1.2.0",
      "_view_name": "LayoutView",
      "align_content": null,
      "align_items": null,
      "align_self": null,
      "border": null,
      "bottom": null,
      "display": null,
      "flex": null,
      "flex_flow": null,
      "grid_area": null,
      "grid_auto_columns": null,
      "grid_auto_flow": null,
      "grid_auto_rows": null,
      "grid_column": null,
      "grid_gap": null,
      "grid_row": null,
      "grid_template_areas": null,
      "grid_template_columns": null,
      "grid_template_rows": null,
      "height": null,
      "justify_content": null,
      "justify_items": null,
      "left": null,
      "margin": null,
      "max_height": null,
      "max_width": null,
      "min_height": null,
      "min_width": null,
      "object_fit": null,
      "object_position": null,
      "order": null,
      "overflow": null,
      "overflow_x": null,
      "overflow_y": null,
      "padding": null,
      "right": null,
      "top": null,
      "visibility": null,
      "width": null
     }
    },
    "68ffc33ed8b0484d92f5a6185a4e2ba6": {
     "model_module": "@jupyter-widgets/controls",
     "model_module_version": "1.5.0",
     "model_name": "DescriptionStyleModel",
     "state": {
      "_model_module": "@jupyter-widgets/controls",
      "_model_module_version": "1.5.0",
      "_model_name": "DescriptionStyleModel",
      "_view_count": null,
      "_view_module": "@jupyter-widgets/base",
      "_view_module_version": "1.2.0",
      "_view_name": "StyleView",
      "description_width": ""
     }
    },
    "6909d503a20d4d04af314ac442b450e3": {
     "model_module": "@jupyter-widgets/controls",
     "model_module_version": "1.5.0",
     "model_name": "HBoxModel",
     "state": {
      "_dom_classes": [],
      "_model_module": "@jupyter-widgets/controls",
      "_model_module_version": "1.5.0",
      "_model_name": "HBoxModel",
      "_view_count": null,
      "_view_module": "@jupyter-widgets/controls",
      "_view_module_version": "1.5.0",
      "_view_name": "HBoxView",
      "box_style": "",
      "children": [
       "IPY_MODEL_928c784854b845e3b9463a655b359b98",
       "IPY_MODEL_e4bee426891148f39ccc211fdcdfaa16",
       "IPY_MODEL_dc89c33012834fdb879c062bf33bede1"
      ],
      "layout": "IPY_MODEL_8d5637959bb24c8e8df62c3100099eaa"
     }
    },
    "6972b76780284051a73c018d81831ec1": {
     "model_module": "@jupyter-widgets/controls",
     "model_module_version": "1.5.0",
     "model_name": "HTMLModel",
     "state": {
      "_dom_classes": [],
      "_model_module": "@jupyter-widgets/controls",
      "_model_module_version": "1.5.0",
      "_model_name": "HTMLModel",
      "_view_count": null,
      "_view_module": "@jupyter-widgets/controls",
      "_view_module_version": "1.5.0",
      "_view_name": "HTMLView",
      "description": "",
      "description_tooltip": null,
      "layout": "IPY_MODEL_cc6a281318234315ad2d3e2baf0fd52e",
      "placeholder": "​",
      "style": "IPY_MODEL_d411dc01ac144be288b1994518f78880",
      "value": " 349/349 [00:00&lt;00:00, 22.7kB/s]"
     }
    },
    "69c56a99008446ceae043ba749f43a81": {
     "model_module": "@jupyter-widgets/controls",
     "model_module_version": "1.5.0",
     "model_name": "HBoxModel",
     "state": {
      "_dom_classes": [],
      "_model_module": "@jupyter-widgets/controls",
      "_model_module_version": "1.5.0",
      "_model_name": "HBoxModel",
      "_view_count": null,
      "_view_module": "@jupyter-widgets/controls",
      "_view_module_version": "1.5.0",
      "_view_name": "HBoxView",
      "box_style": "",
      "children": [
       "IPY_MODEL_db4de3df60ff44e8bc85717b0b5556a4",
       "IPY_MODEL_b131bace14de48f69b7e165e4cdf7c8f",
       "IPY_MODEL_5d448292738d43aa8da09be9c6baaa70"
      ],
      "layout": "IPY_MODEL_7288e24bcdc546d2817d4a990fff88fc"
     }
    },
    "6b8331398c604eeb9e5342882cfd5150": {
     "model_module": "@jupyter-widgets/base",
     "model_module_version": "1.2.0",
     "model_name": "LayoutModel",
     "state": {
      "_model_module": "@jupyter-widgets/base",
      "_model_module_version": "1.2.0",
      "_model_name": "LayoutModel",
      "_view_count": null,
      "_view_module": "@jupyter-widgets/base",
      "_view_module_version": "1.2.0",
      "_view_name": "LayoutView",
      "align_content": null,
      "align_items": null,
      "align_self": null,
      "border": null,
      "bottom": null,
      "display": null,
      "flex": null,
      "flex_flow": null,
      "grid_area": null,
      "grid_auto_columns": null,
      "grid_auto_flow": null,
      "grid_auto_rows": null,
      "grid_column": null,
      "grid_gap": null,
      "grid_row": null,
      "grid_template_areas": null,
      "grid_template_columns": null,
      "grid_template_rows": null,
      "height": null,
      "justify_content": null,
      "justify_items": null,
      "left": null,
      "margin": null,
      "max_height": null,
      "max_width": null,
      "min_height": null,
      "min_width": null,
      "object_fit": null,
      "object_position": null,
      "order": null,
      "overflow": null,
      "overflow_x": null,
      "overflow_y": null,
      "padding": null,
      "right": null,
      "top": null,
      "visibility": null,
      "width": null
     }
    },
    "6c7f2eb7bbb9464db436bb6a0a4ded18": {
     "model_module": "@jupyter-widgets/controls",
     "model_module_version": "1.5.0",
     "model_name": "ProgressStyleModel",
     "state": {
      "_model_module": "@jupyter-widgets/controls",
      "_model_module_version": "1.5.0",
      "_model_name": "ProgressStyleModel",
      "_view_count": null,
      "_view_module": "@jupyter-widgets/base",
      "_view_module_version": "1.2.0",
      "_view_name": "StyleView",
      "bar_color": null,
      "description_width": ""
     }
    },
    "6dd41dd1e57c432589a67765c2d1d8ab": {
     "model_module": "@jupyter-widgets/controls",
     "model_module_version": "1.5.0",
     "model_name": "FloatProgressModel",
     "state": {
      "_dom_classes": [],
      "_model_module": "@jupyter-widgets/controls",
      "_model_module_version": "1.5.0",
      "_model_name": "FloatProgressModel",
      "_view_count": null,
      "_view_module": "@jupyter-widgets/controls",
      "_view_module_version": "1.5.0",
      "_view_name": "ProgressView",
      "bar_style": "success",
      "description": "",
      "description_tooltip": null,
      "layout": "IPY_MODEL_7bfda62fc3e040989bca20670ad02d2a",
      "max": 444,
      "min": 0,
      "orientation": "horizontal",
      "style": "IPY_MODEL_50ff7998ec8e406b8e505a4b32d97dc1",
      "value": 444
     }
    },
    "6e506732ff734551b0c52d480abaa867": {
     "model_module": "@jupyter-widgets/base",
     "model_module_version": "1.2.0",
     "model_name": "LayoutModel",
     "state": {
      "_model_module": "@jupyter-widgets/base",
      "_model_module_version": "1.2.0",
      "_model_name": "LayoutModel",
      "_view_count": null,
      "_view_module": "@jupyter-widgets/base",
      "_view_module_version": "1.2.0",
      "_view_name": "LayoutView",
      "align_content": null,
      "align_items": null,
      "align_self": null,
      "border": null,
      "bottom": null,
      "display": null,
      "flex": null,
      "flex_flow": null,
      "grid_area": null,
      "grid_auto_columns": null,
      "grid_auto_flow": null,
      "grid_auto_rows": null,
      "grid_column": null,
      "grid_gap": null,
      "grid_row": null,
      "grid_template_areas": null,
      "grid_template_columns": null,
      "grid_template_rows": null,
      "height": null,
      "justify_content": null,
      "justify_items": null,
      "left": null,
      "margin": null,
      "max_height": null,
      "max_width": null,
      "min_height": null,
      "min_width": null,
      "object_fit": null,
      "object_position": null,
      "order": null,
      "overflow": null,
      "overflow_x": null,
      "overflow_y": null,
      "padding": null,
      "right": null,
      "top": null,
      "visibility": null,
      "width": null
     }
    },
    "70a2d946366f40118627027a405ea1a3": {
     "model_module": "@jupyter-widgets/controls",
     "model_module_version": "1.5.0",
     "model_name": "ProgressStyleModel",
     "state": {
      "_model_module": "@jupyter-widgets/controls",
      "_model_module_version": "1.5.0",
      "_model_name": "ProgressStyleModel",
      "_view_count": null,
      "_view_module": "@jupyter-widgets/base",
      "_view_module_version": "1.2.0",
      "_view_name": "StyleView",
      "bar_color": null,
      "description_width": ""
     }
    },
    "7163e49426a74110beeebbf3ec451a1f": {
     "model_module": "@jupyter-widgets/controls",
     "model_module_version": "1.5.0",
     "model_name": "HTMLModel",
     "state": {
      "_dom_classes": [],
      "_model_module": "@jupyter-widgets/controls",
      "_model_module_version": "1.5.0",
      "_model_name": "HTMLModel",
      "_view_count": null,
      "_view_module": "@jupyter-widgets/controls",
      "_view_module_version": "1.5.0",
      "_view_name": "HTMLView",
      "description": "",
      "description_tooltip": null,
      "layout": "IPY_MODEL_311efef2a6524cc9bb7ba78778b394a4",
      "placeholder": "​",
      "style": "IPY_MODEL_7bcd9664ed7d4373a121fde9c89524e6",
      "value": " 2.27G/2.27G [00:10&lt;00:00, 198MB/s]"
     }
    },
    "7288e24bcdc546d2817d4a990fff88fc": {
     "model_module": "@jupyter-widgets/base",
     "model_module_version": "1.2.0",
     "model_name": "LayoutModel",
     "state": {
      "_model_module": "@jupyter-widgets/base",
      "_model_module_version": "1.2.0",
      "_model_name": "LayoutModel",
      "_view_count": null,
      "_view_module": "@jupyter-widgets/base",
      "_view_module_version": "1.2.0",
      "_view_name": "LayoutView",
      "align_content": null,
      "align_items": null,
      "align_self": null,
      "border": null,
      "bottom": null,
      "display": null,
      "flex": null,
      "flex_flow": null,
      "grid_area": null,
      "grid_auto_columns": null,
      "grid_auto_flow": null,
      "grid_auto_rows": null,
      "grid_column": null,
      "grid_gap": null,
      "grid_row": null,
      "grid_template_areas": null,
      "grid_template_columns": null,
      "grid_template_rows": null,
      "height": null,
      "justify_content": null,
      "justify_items": null,
      "left": null,
      "margin": null,
      "max_height": null,
      "max_width": null,
      "min_height": null,
      "min_width": null,
      "object_fit": null,
      "object_position": null,
      "order": null,
      "overflow": null,
      "overflow_x": null,
      "overflow_y": null,
      "padding": null,
      "right": null,
      "top": null,
      "visibility": null,
      "width": null
     }
    },
    "73b45f7e8a88473092906b787ec84afe": {
     "model_module": "@jupyter-widgets/controls",
     "model_module_version": "1.5.0",
     "model_name": "DescriptionStyleModel",
     "state": {
      "_model_module": "@jupyter-widgets/controls",
      "_model_module_version": "1.5.0",
      "_model_name": "DescriptionStyleModel",
      "_view_count": null,
      "_view_module": "@jupyter-widgets/base",
      "_view_module_version": "1.2.0",
      "_view_name": "StyleView",
      "description_width": ""
     }
    },
    "74450bee19224895858f3e6d3aab5ba6": {
     "model_module": "@jupyter-widgets/controls",
     "model_module_version": "1.5.0",
     "model_name": "DescriptionStyleModel",
     "state": {
      "_model_module": "@jupyter-widgets/controls",
      "_model_module_version": "1.5.0",
      "_model_name": "DescriptionStyleModel",
      "_view_count": null,
      "_view_module": "@jupyter-widgets/base",
      "_view_module_version": "1.2.0",
      "_view_name": "StyleView",
      "description_width": ""
     }
    },
    "7709447a1c6d4a00a5dc662693e23fcc": {
     "model_module": "@jupyter-widgets/base",
     "model_module_version": "1.2.0",
     "model_name": "LayoutModel",
     "state": {
      "_model_module": "@jupyter-widgets/base",
      "_model_module_version": "1.2.0",
      "_model_name": "LayoutModel",
      "_view_count": null,
      "_view_module": "@jupyter-widgets/base",
      "_view_module_version": "1.2.0",
      "_view_name": "LayoutView",
      "align_content": null,
      "align_items": null,
      "align_self": null,
      "border": null,
      "bottom": null,
      "display": null,
      "flex": null,
      "flex_flow": null,
      "grid_area": null,
      "grid_auto_columns": null,
      "grid_auto_flow": null,
      "grid_auto_rows": null,
      "grid_column": null,
      "grid_gap": null,
      "grid_row": null,
      "grid_template_areas": null,
      "grid_template_columns": null,
      "grid_template_rows": null,
      "height": null,
      "justify_content": null,
      "justify_items": null,
      "left": null,
      "margin": null,
      "max_height": null,
      "max_width": null,
      "min_height": null,
      "min_width": null,
      "object_fit": null,
      "object_position": null,
      "order": null,
      "overflow": null,
      "overflow_x": null,
      "overflow_y": null,
      "padding": null,
      "right": null,
      "top": null,
      "visibility": null,
      "width": null
     }
    },
    "79dff3f21fdc4cbea61a89b4f83e9b92": {
     "model_module": "@jupyter-widgets/controls",
     "model_module_version": "1.5.0",
     "model_name": "HBoxModel",
     "state": {
      "_dom_classes": [],
      "_model_module": "@jupyter-widgets/controls",
      "_model_module_version": "1.5.0",
      "_model_name": "HBoxModel",
      "_view_count": null,
      "_view_module": "@jupyter-widgets/controls",
      "_view_module_version": "1.5.0",
      "_view_name": "HBoxView",
      "box_style": "",
      "children": [
       "IPY_MODEL_f4025a0d1f88429ba8d298f516e67364",
       "IPY_MODEL_2c5d129998724b68ba940c5e751a0276",
       "IPY_MODEL_1b964536253545e08b2aa9e3e5949a30"
      ],
      "layout": "IPY_MODEL_c9effcdb4bac492f8a3a8ef1283c81a9"
     }
    },
    "7bcd9664ed7d4373a121fde9c89524e6": {
     "model_module": "@jupyter-widgets/controls",
     "model_module_version": "1.5.0",
     "model_name": "DescriptionStyleModel",
     "state": {
      "_model_module": "@jupyter-widgets/controls",
      "_model_module_version": "1.5.0",
      "_model_name": "DescriptionStyleModel",
      "_view_count": null,
      "_view_module": "@jupyter-widgets/base",
      "_view_module_version": "1.2.0",
      "_view_name": "StyleView",
      "description_width": ""
     }
    },
    "7bfda62fc3e040989bca20670ad02d2a": {
     "model_module": "@jupyter-widgets/base",
     "model_module_version": "1.2.0",
     "model_name": "LayoutModel",
     "state": {
      "_model_module": "@jupyter-widgets/base",
      "_model_module_version": "1.2.0",
      "_model_name": "LayoutModel",
      "_view_count": null,
      "_view_module": "@jupyter-widgets/base",
      "_view_module_version": "1.2.0",
      "_view_name": "LayoutView",
      "align_content": null,
      "align_items": null,
      "align_self": null,
      "border": null,
      "bottom": null,
      "display": null,
      "flex": null,
      "flex_flow": null,
      "grid_area": null,
      "grid_auto_columns": null,
      "grid_auto_flow": null,
      "grid_auto_rows": null,
      "grid_column": null,
      "grid_gap": null,
      "grid_row": null,
      "grid_template_areas": null,
      "grid_template_columns": null,
      "grid_template_rows": null,
      "height": null,
      "justify_content": null,
      "justify_items": null,
      "left": null,
      "margin": null,
      "max_height": null,
      "max_width": null,
      "min_height": null,
      "min_width": null,
      "object_fit": null,
      "object_position": null,
      "order": null,
      "overflow": null,
      "overflow_x": null,
      "overflow_y": null,
      "padding": null,
      "right": null,
      "top": null,
      "visibility": null,
      "width": null
     }
    },
    "7eaf52ea43fd446187d22a3c6887e580": {
     "model_module": "@jupyter-widgets/controls",
     "model_module_version": "1.5.0",
     "model_name": "DescriptionStyleModel",
     "state": {
      "_model_module": "@jupyter-widgets/controls",
      "_model_module_version": "1.5.0",
      "_model_name": "DescriptionStyleModel",
      "_view_count": null,
      "_view_module": "@jupyter-widgets/base",
      "_view_module_version": "1.2.0",
      "_view_name": "StyleView",
      "description_width": ""
     }
    },
    "7f47c25cf5a94b31a96290310978010e": {
     "model_module": "@jupyter-widgets/controls",
     "model_module_version": "1.5.0",
     "model_name": "DescriptionStyleModel",
     "state": {
      "_model_module": "@jupyter-widgets/controls",
      "_model_module_version": "1.5.0",
      "_model_name": "DescriptionStyleModel",
      "_view_count": null,
      "_view_module": "@jupyter-widgets/base",
      "_view_module_version": "1.2.0",
      "_view_name": "StyleView",
      "description_width": ""
     }
    },
    "80731498a41141dbaa9482dc6dde9ed1": {
     "model_module": "@jupyter-widgets/controls",
     "model_module_version": "1.5.0",
     "model_name": "HBoxModel",
     "state": {
      "_dom_classes": [],
      "_model_module": "@jupyter-widgets/controls",
      "_model_module_version": "1.5.0",
      "_model_name": "HBoxModel",
      "_view_count": null,
      "_view_module": "@jupyter-widgets/controls",
      "_view_module_version": "1.5.0",
      "_view_name": "HBoxView",
      "box_style": "",
      "children": [
       "IPY_MODEL_ab7166d0defc4433bf72957d6f9b1a6a",
       "IPY_MODEL_bfaaf0816cb54662b6e8ed582cb3b441",
       "IPY_MODEL_a3028c51a688470b839ea38abf2f8cd9"
      ],
      "layout": "IPY_MODEL_97a5938b83d74e9faceaa8797a93daa8"
     }
    },
    "8d5637959bb24c8e8df62c3100099eaa": {
     "model_module": "@jupyter-widgets/base",
     "model_module_version": "1.2.0",
     "model_name": "LayoutModel",
     "state": {
      "_model_module": "@jupyter-widgets/base",
      "_model_module_version": "1.2.0",
      "_model_name": "LayoutModel",
      "_view_count": null,
      "_view_module": "@jupyter-widgets/base",
      "_view_module_version": "1.2.0",
      "_view_name": "LayoutView",
      "align_content": null,
      "align_items": null,
      "align_self": null,
      "border": null,
      "bottom": null,
      "display": null,
      "flex": null,
      "flex_flow": null,
      "grid_area": null,
      "grid_auto_columns": null,
      "grid_auto_flow": null,
      "grid_auto_rows": null,
      "grid_column": null,
      "grid_gap": null,
      "grid_row": null,
      "grid_template_areas": null,
      "grid_template_columns": null,
      "grid_template_rows": null,
      "height": null,
      "justify_content": null,
      "justify_items": null,
      "left": null,
      "margin": null,
      "max_height": null,
      "max_width": null,
      "min_height": null,
      "min_width": null,
      "object_fit": null,
      "object_position": null,
      "order": null,
      "overflow": null,
      "overflow_x": null,
      "overflow_y": null,
      "padding": null,
      "right": null,
      "top": null,
      "visibility": null,
      "width": null
     }
    },
    "8f898d614a6941e898f50c4256650957": {
     "model_module": "@jupyter-widgets/base",
     "model_module_version": "1.2.0",
     "model_name": "LayoutModel",
     "state": {
      "_model_module": "@jupyter-widgets/base",
      "_model_module_version": "1.2.0",
      "_model_name": "LayoutModel",
      "_view_count": null,
      "_view_module": "@jupyter-widgets/base",
      "_view_module_version": "1.2.0",
      "_view_name": "LayoutView",
      "align_content": null,
      "align_items": null,
      "align_self": null,
      "border": null,
      "bottom": null,
      "display": null,
      "flex": null,
      "flex_flow": null,
      "grid_area": null,
      "grid_auto_columns": null,
      "grid_auto_flow": null,
      "grid_auto_rows": null,
      "grid_column": null,
      "grid_gap": null,
      "grid_row": null,
      "grid_template_areas": null,
      "grid_template_columns": null,
      "grid_template_rows": null,
      "height": null,
      "justify_content": null,
      "justify_items": null,
      "left": null,
      "margin": null,
      "max_height": null,
      "max_width": null,
      "min_height": null,
      "min_width": null,
      "object_fit": null,
      "object_position": null,
      "order": null,
      "overflow": null,
      "overflow_x": null,
      "overflow_y": null,
      "padding": null,
      "right": null,
      "top": null,
      "visibility": null,
      "width": null
     }
    },
    "91dd742d299948e7a0b890f6bd1ae8cb": {
     "model_module": "@jupyter-widgets/controls",
     "model_module_version": "1.5.0",
     "model_name": "DescriptionStyleModel",
     "state": {
      "_model_module": "@jupyter-widgets/controls",
      "_model_module_version": "1.5.0",
      "_model_name": "DescriptionStyleModel",
      "_view_count": null,
      "_view_module": "@jupyter-widgets/base",
      "_view_module_version": "1.2.0",
      "_view_name": "StyleView",
      "description_width": ""
     }
    },
    "928c784854b845e3b9463a655b359b98": {
     "model_module": "@jupyter-widgets/controls",
     "model_module_version": "1.5.0",
     "model_name": "HTMLModel",
     "state": {
      "_dom_classes": [],
      "_model_module": "@jupyter-widgets/controls",
      "_model_module_version": "1.5.0",
      "_model_name": "HTMLModel",
      "_view_count": null,
      "_view_module": "@jupyter-widgets/controls",
      "_view_module_version": "1.5.0",
      "_view_name": "HTMLView",
      "description": "",
      "description_tooltip": null,
      "layout": "IPY_MODEL_c60a757cd0cd470e8fd39d94c3325b94",
      "placeholder": "​",
      "style": "IPY_MODEL_4df7105e36ce4edd8b656bba44f1fb81",
      "value": "config.json: 100%"
     }
    },
    "93297db88a6d44749a7b24873ad024da": {
     "model_module": "@jupyter-widgets/controls",
     "model_module_version": "1.5.0",
     "model_name": "HTMLModel",
     "state": {
      "_dom_classes": [],
      "_model_module": "@jupyter-widgets/controls",
      "_model_module_version": "1.5.0",
      "_model_name": "HTMLModel",
      "_view_count": null,
      "_view_module": "@jupyter-widgets/controls",
      "_view_module_version": "1.5.0",
      "_view_name": "HTMLView",
      "description": "",
      "description_tooltip": null,
      "layout": "IPY_MODEL_d6fd429d04f54427a01174fbf8da519d",
      "placeholder": "​",
      "style": "IPY_MODEL_eecd527899764bd09433dfda4f16da59",
      "value": "tokenizer_config.json: 100%"
     }
    },
    "94b933d5b59647ee869d87a551f0e9a1": {
     "model_module": "@jupyter-widgets/controls",
     "model_module_version": "1.5.0",
     "model_name": "HBoxModel",
     "state": {
      "_dom_classes": [],
      "_model_module": "@jupyter-widgets/controls",
      "_model_module_version": "1.5.0",
      "_model_name": "HBoxModel",
      "_view_count": null,
      "_view_module": "@jupyter-widgets/controls",
      "_view_module_version": "1.5.0",
      "_view_name": "HBoxView",
      "box_style": "",
      "children": [
       "IPY_MODEL_50eec0ec63044e9d819644de4926f1ff",
       "IPY_MODEL_0fd2482873d3498d85ba17e9ea2d6a5a",
       "IPY_MODEL_bb61b3d63415493ba854f6444c70306d"
      ],
      "layout": "IPY_MODEL_5f5538b6229b48dab76cc5ee87543ca9"
     }
    },
    "963bc190ab454e389a93b52d6c3a06ec": {
     "model_module": "@jupyter-widgets/base",
     "model_module_version": "1.2.0",
     "model_name": "LayoutModel",
     "state": {
      "_model_module": "@jupyter-widgets/base",
      "_model_module_version": "1.2.0",
      "_model_name": "LayoutModel",
      "_view_count": null,
      "_view_module": "@jupyter-widgets/base",
      "_view_module_version": "1.2.0",
      "_view_name": "LayoutView",
      "align_content": null,
      "align_items": null,
      "align_self": null,
      "border": null,
      "bottom": null,
      "display": null,
      "flex": null,
      "flex_flow": null,
      "grid_area": null,
      "grid_auto_columns": null,
      "grid_auto_flow": null,
      "grid_auto_rows": null,
      "grid_column": null,
      "grid_gap": null,
      "grid_row": null,
      "grid_template_areas": null,
      "grid_template_columns": null,
      "grid_template_rows": null,
      "height": null,
      "justify_content": null,
      "justify_items": null,
      "left": null,
      "margin": null,
      "max_height": null,
      "max_width": null,
      "min_height": null,
      "min_width": null,
      "object_fit": null,
      "object_position": null,
      "order": null,
      "overflow": null,
      "overflow_x": null,
      "overflow_y": null,
      "padding": null,
      "right": null,
      "top": null,
      "visibility": null,
      "width": null
     }
    },
    "97a5938b83d74e9faceaa8797a93daa8": {
     "model_module": "@jupyter-widgets/base",
     "model_module_version": "1.2.0",
     "model_name": "LayoutModel",
     "state": {
      "_model_module": "@jupyter-widgets/base",
      "_model_module_version": "1.2.0",
      "_model_name": "LayoutModel",
      "_view_count": null,
      "_view_module": "@jupyter-widgets/base",
      "_view_module_version": "1.2.0",
      "_view_name": "LayoutView",
      "align_content": null,
      "align_items": null,
      "align_self": null,
      "border": null,
      "bottom": null,
      "display": null,
      "flex": null,
      "flex_flow": null,
      "grid_area": null,
      "grid_auto_columns": null,
      "grid_auto_flow": null,
      "grid_auto_rows": null,
      "grid_column": null,
      "grid_gap": null,
      "grid_row": null,
      "grid_template_areas": null,
      "grid_template_columns": null,
      "grid_template_rows": null,
      "height": null,
      "justify_content": null,
      "justify_items": null,
      "left": null,
      "margin": null,
      "max_height": null,
      "max_width": null,
      "min_height": null,
      "min_width": null,
      "object_fit": null,
      "object_position": null,
      "order": null,
      "overflow": null,
      "overflow_x": null,
      "overflow_y": null,
      "padding": null,
      "right": null,
      "top": null,
      "visibility": null,
      "width": null
     }
    },
    "990fabace7e742669ccf51dd3a97f25e": {
     "model_module": "@jupyter-widgets/base",
     "model_module_version": "1.2.0",
     "model_name": "LayoutModel",
     "state": {
      "_model_module": "@jupyter-widgets/base",
      "_model_module_version": "1.2.0",
      "_model_name": "LayoutModel",
      "_view_count": null,
      "_view_module": "@jupyter-widgets/base",
      "_view_module_version": "1.2.0",
      "_view_name": "LayoutView",
      "align_content": null,
      "align_items": null,
      "align_self": null,
      "border": null,
      "bottom": null,
      "display": null,
      "flex": null,
      "flex_flow": null,
      "grid_area": null,
      "grid_auto_columns": null,
      "grid_auto_flow": null,
      "grid_auto_rows": null,
      "grid_column": null,
      "grid_gap": null,
      "grid_row": null,
      "grid_template_areas": null,
      "grid_template_columns": null,
      "grid_template_rows": null,
      "height": null,
      "justify_content": null,
      "justify_items": null,
      "left": null,
      "margin": null,
      "max_height": null,
      "max_width": null,
      "min_height": null,
      "min_width": null,
      "object_fit": null,
      "object_position": null,
      "order": null,
      "overflow": null,
      "overflow_x": null,
      "overflow_y": null,
      "padding": null,
      "right": null,
      "top": null,
      "visibility": null,
      "width": null
     }
    },
    "9ae8b216620d4dc3acbfa37380f8f3c1": {
     "model_module": "@jupyter-widgets/controls",
     "model_module_version": "1.5.0",
     "model_name": "ProgressStyleModel",
     "state": {
      "_model_module": "@jupyter-widgets/controls",
      "_model_module_version": "1.5.0",
      "_model_name": "ProgressStyleModel",
      "_view_count": null,
      "_view_module": "@jupyter-widgets/base",
      "_view_module_version": "1.2.0",
      "_view_name": "StyleView",
      "bar_color": null,
      "description_width": ""
     }
    },
    "9ea25e243c704074ba1cc50e8d4f46f3": {
     "model_module": "@jupyter-widgets/base",
     "model_module_version": "1.2.0",
     "model_name": "LayoutModel",
     "state": {
      "_model_module": "@jupyter-widgets/base",
      "_model_module_version": "1.2.0",
      "_model_name": "LayoutModel",
      "_view_count": null,
      "_view_module": "@jupyter-widgets/base",
      "_view_module_version": "1.2.0",
      "_view_name": "LayoutView",
      "align_content": null,
      "align_items": null,
      "align_self": null,
      "border": null,
      "bottom": null,
      "display": null,
      "flex": null,
      "flex_flow": null,
      "grid_area": null,
      "grid_auto_columns": null,
      "grid_auto_flow": null,
      "grid_auto_rows": null,
      "grid_column": null,
      "grid_gap": null,
      "grid_row": null,
      "grid_template_areas": null,
      "grid_template_columns": null,
      "grid_template_rows": null,
      "height": null,
      "justify_content": null,
      "justify_items": null,
      "left": null,
      "margin": null,
      "max_height": null,
      "max_width": null,
      "min_height": null,
      "min_width": null,
      "object_fit": null,
      "object_position": null,
      "order": null,
      "overflow": null,
      "overflow_x": null,
      "overflow_y": null,
      "padding": null,
      "right": null,
      "top": null,
      "visibility": null,
      "width": null
     }
    },
    "a2a6e4581d1c423fba9a3b19d0ed8fd8": {
     "model_module": "@jupyter-widgets/controls",
     "model_module_version": "1.5.0",
     "model_name": "HTMLModel",
     "state": {
      "_dom_classes": [],
      "_model_module": "@jupyter-widgets/controls",
      "_model_module_version": "1.5.0",
      "_model_name": "HTMLModel",
      "_view_count": null,
      "_view_module": "@jupyter-widgets/controls",
      "_view_module_version": "1.5.0",
      "_view_name": "HTMLView",
      "description": "",
      "description_tooltip": null,
      "layout": "IPY_MODEL_2ce060ab10d547509cde15bce15627be",
      "placeholder": "​",
      "style": "IPY_MODEL_f29f6fb4a588448d9de46f5b50fc6477",
      "value": " 444/444 [00:00&lt;00:00, 16.4kB/s]"
     }
    },
    "a3028c51a688470b839ea38abf2f8cd9": {
     "model_module": "@jupyter-widgets/controls",
     "model_module_version": "1.5.0",
     "model_name": "HTMLModel",
     "state": {
      "_dom_classes": [],
      "_model_module": "@jupyter-widgets/controls",
      "_model_module_version": "1.5.0",
      "_model_name": "HTMLModel",
      "_view_count": null,
      "_view_module": "@jupyter-widgets/controls",
      "_view_module_version": "1.5.0",
      "_view_name": "HTMLView",
      "description": "",
      "description_tooltip": null,
      "layout": "IPY_MODEL_31726476f80f4d6db57e8e31fe1c265b",
      "placeholder": "​",
      "style": "IPY_MODEL_e7c904e7f79e4a74a9a8cdd33c57e26d",
      "value": " 191/191 [00:00&lt;00:00, 7.78kB/s]"
     }
    },
    "a84c0b5022624f46844f8f2d6600c16f": {
     "model_module": "@jupyter-widgets/controls",
     "model_module_version": "1.5.0",
     "model_name": "ProgressStyleModel",
     "state": {
      "_model_module": "@jupyter-widgets/controls",
      "_model_module_version": "1.5.0",
      "_model_name": "ProgressStyleModel",
      "_view_count": null,
      "_view_module": "@jupyter-widgets/base",
      "_view_module_version": "1.2.0",
      "_view_name": "StyleView",
      "bar_color": null,
      "description_width": ""
     }
    },
    "a965b21a6f794521a392bec32b799b9f": {
     "model_module": "@jupyter-widgets/controls",
     "model_module_version": "1.5.0",
     "model_name": "DescriptionStyleModel",
     "state": {
      "_model_module": "@jupyter-widgets/controls",
      "_model_module_version": "1.5.0",
      "_model_name": "DescriptionStyleModel",
      "_view_count": null,
      "_view_module": "@jupyter-widgets/base",
      "_view_module_version": "1.2.0",
      "_view_name": "StyleView",
      "description_width": ""
     }
    },
    "ab7166d0defc4433bf72957d6f9b1a6a": {
     "model_module": "@jupyter-widgets/controls",
     "model_module_version": "1.5.0",
     "model_name": "HTMLModel",
     "state": {
      "_dom_classes": [],
      "_model_module": "@jupyter-widgets/controls",
      "_model_module_version": "1.5.0",
      "_model_name": "HTMLModel",
      "_view_count": null,
      "_view_module": "@jupyter-widgets/controls",
      "_view_module_version": "1.5.0",
      "_view_name": "HTMLView",
      "description": "",
      "description_tooltip": null,
      "layout": "IPY_MODEL_6e506732ff734551b0c52d480abaa867",
      "placeholder": "​",
      "style": "IPY_MODEL_91dd742d299948e7a0b890f6bd1ae8cb",
      "value": "config.json: 100%"
     }
    },
    "ad7390dd93a14bfcab5ffa422a0c1745": {
     "model_module": "@jupyter-widgets/controls",
     "model_module_version": "1.5.0",
     "model_name": "FloatProgressModel",
     "state": {
      "_dom_classes": [],
      "_model_module": "@jupyter-widgets/controls",
      "_model_module_version": "1.5.0",
      "_model_name": "FloatProgressModel",
      "_view_count": null,
      "_view_module": "@jupyter-widgets/controls",
      "_view_module_version": "1.5.0",
      "_view_name": "ProgressView",
      "bar_style": "success",
      "description": "",
      "description_tooltip": null,
      "layout": "IPY_MODEL_02d0fdfdc7ab4d14956bf9c2efe8290e",
      "max": 964,
      "min": 0,
      "orientation": "horizontal",
      "style": "IPY_MODEL_6c7f2eb7bbb9464db436bb6a0a4ded18",
      "value": 964
     }
    },
    "b131bace14de48f69b7e165e4cdf7c8f": {
     "model_module": "@jupyter-widgets/controls",
     "model_module_version": "1.5.0",
     "model_name": "FloatProgressModel",
     "state": {
      "_dom_classes": [],
      "_model_module": "@jupyter-widgets/controls",
      "_model_module_version": "1.5.0",
      "_model_name": "FloatProgressModel",
      "_view_count": null,
      "_view_module": "@jupyter-widgets/controls",
      "_view_module_version": "1.5.0",
      "_view_name": "ProgressView",
      "bar_style": "success",
      "description": "",
      "description_tooltip": null,
      "layout": "IPY_MODEL_cb8896a78f4d4fa29568c38911d98296",
      "max": 5069051,
      "min": 0,
      "orientation": "horizontal",
      "style": "IPY_MODEL_37ccc0ceafbb4613b57ff1015e55f73e",
      "value": 5069051
     }
    },
    "b2402c92582a4f889a8b17f06f53e2fc": {
     "model_module": "@jupyter-widgets/controls",
     "model_module_version": "1.5.0",
     "model_name": "FloatProgressModel",
     "state": {
      "_dom_classes": [],
      "_model_module": "@jupyter-widgets/controls",
      "_model_module_version": "1.5.0",
      "_model_name": "FloatProgressModel",
      "_view_count": null,
      "_view_module": "@jupyter-widgets/controls",
      "_view_module_version": "1.5.0",
      "_view_name": "ProgressView",
      "bar_style": "success",
      "description": "",
      "description_tooltip": null,
      "layout": "IPY_MODEL_00e25203fa084667a862e2db07ecdada",
      "max": 54,
      "min": 0,
      "orientation": "horizontal",
      "style": "IPY_MODEL_5d5e292cf1534819b4bfb69425913d21",
      "value": 54
     }
    },
    "bb322561f0c04c3ca72cb6ac6990c1de": {
     "model_module": "@jupyter-widgets/controls",
     "model_module_version": "1.5.0",
     "model_name": "HTMLModel",
     "state": {
      "_dom_classes": [],
      "_model_module": "@jupyter-widgets/controls",
      "_model_module_version": "1.5.0",
      "_model_name": "HTMLModel",
      "_view_count": null,
      "_view_module": "@jupyter-widgets/controls",
      "_view_module_version": "1.5.0",
      "_view_name": "HTMLView",
      "description": "",
      "description_tooltip": null,
      "layout": "IPY_MODEL_63df75c8aa3e4335a7c7840cf21523a1",
      "placeholder": "​",
      "style": "IPY_MODEL_19ddaab6e2e945739dbe1751b315d422",
      "value": " 15.8k/15.8k [00:00&lt;00:00, 1.70MB/s]"
     }
    },
    "bb61b3d63415493ba854f6444c70306d": {
     "model_module": "@jupyter-widgets/controls",
     "model_module_version": "1.5.0",
     "model_name": "HTMLModel",
     "state": {
      "_dom_classes": [],
      "_model_module": "@jupyter-widgets/controls",
      "_model_module_version": "1.5.0",
      "_model_name": "HTMLModel",
      "_view_count": null,
      "_view_module": "@jupyter-widgets/controls",
      "_view_module_version": "1.5.0",
      "_view_name": "HTMLView",
      "description": "",
      "description_tooltip": null,
      "layout": "IPY_MODEL_d73717e3641b4fd6a0961ee4f837a3cb",
      "placeholder": "​",
      "style": "IPY_MODEL_5fdcf42e478f4e94bac2cb41ac21bcc8",
      "value": " 123/123 [00:00&lt;00:00, 12.5kB/s]"
     }
    },
    "bfaaf0816cb54662b6e8ed582cb3b441": {
     "model_module": "@jupyter-widgets/controls",
     "model_module_version": "1.5.0",
     "model_name": "FloatProgressModel",
     "state": {
      "_dom_classes": [],
      "_model_module": "@jupyter-widgets/controls",
      "_model_module_version": "1.5.0",
      "_model_name": "FloatProgressModel",
      "_view_count": null,
      "_view_module": "@jupyter-widgets/controls",
      "_view_module_version": "1.5.0",
      "_view_name": "ProgressView",
      "bar_style": "success",
      "description": "",
      "description_tooltip": null,
      "layout": "IPY_MODEL_0f558a85789f449088332574f3f71a43",
      "max": 191,
      "min": 0,
      "orientation": "horizontal",
      "style": "IPY_MODEL_0d67389be7894c719d9c389748f1919c",
      "value": 191
     }
    },
    "c41d65f4992c4ba08132d63926015660": {
     "model_module": "@jupyter-widgets/base",
     "model_module_version": "1.2.0",
     "model_name": "LayoutModel",
     "state": {
      "_model_module": "@jupyter-widgets/base",
      "_model_module_version": "1.2.0",
      "_model_name": "LayoutModel",
      "_view_count": null,
      "_view_module": "@jupyter-widgets/base",
      "_view_module_version": "1.2.0",
      "_view_name": "LayoutView",
      "align_content": null,
      "align_items": null,
      "align_self": null,
      "border": null,
      "bottom": null,
      "display": null,
      "flex": null,
      "flex_flow": null,
      "grid_area": null,
      "grid_auto_columns": null,
      "grid_auto_flow": null,
      "grid_auto_rows": null,
      "grid_column": null,
      "grid_gap": null,
      "grid_row": null,
      "grid_template_areas": null,
      "grid_template_columns": null,
      "grid_template_rows": null,
      "height": null,
      "justify_content": null,
      "justify_items": null,
      "left": null,
      "margin": null,
      "max_height": null,
      "max_width": null,
      "min_height": null,
      "min_width": null,
      "object_fit": null,
      "object_position": null,
      "order": null,
      "overflow": null,
      "overflow_x": null,
      "overflow_y": null,
      "padding": null,
      "right": null,
      "top": null,
      "visibility": null,
      "width": null
     }
    },
    "c43f5c90d7e242dea062a45449f8c08f": {
     "model_module": "@jupyter-widgets/base",
     "model_module_version": "1.2.0",
     "model_name": "LayoutModel",
     "state": {
      "_model_module": "@jupyter-widgets/base",
      "_model_module_version": "1.2.0",
      "_model_name": "LayoutModel",
      "_view_count": null,
      "_view_module": "@jupyter-widgets/base",
      "_view_module_version": "1.2.0",
      "_view_name": "LayoutView",
      "align_content": null,
      "align_items": null,
      "align_self": null,
      "border": null,
      "bottom": null,
      "display": null,
      "flex": null,
      "flex_flow": null,
      "grid_area": null,
      "grid_auto_columns": null,
      "grid_auto_flow": null,
      "grid_auto_rows": null,
      "grid_column": null,
      "grid_gap": null,
      "grid_row": null,
      "grid_template_areas": null,
      "grid_template_columns": null,
      "grid_template_rows": null,
      "height": null,
      "justify_content": null,
      "justify_items": null,
      "left": null,
      "margin": null,
      "max_height": null,
      "max_width": null,
      "min_height": null,
      "min_width": null,
      "object_fit": null,
      "object_position": null,
      "order": null,
      "overflow": null,
      "overflow_x": null,
      "overflow_y": null,
      "padding": null,
      "right": null,
      "top": null,
      "visibility": null,
      "width": null
     }
    },
    "c548793e013a414f8b33a2162b8700bf": {
     "model_module": "@jupyter-widgets/controls",
     "model_module_version": "1.5.0",
     "model_name": "HBoxModel",
     "state": {
      "_dom_classes": [],
      "_model_module": "@jupyter-widgets/controls",
      "_model_module_version": "1.5.0",
      "_model_name": "HBoxModel",
      "_view_count": null,
      "_view_module": "@jupyter-widgets/controls",
      "_view_module_version": "1.5.0",
      "_view_name": "HBoxView",
      "box_style": "",
      "children": [
       "IPY_MODEL_1983210acf3a4ff4a1f0208afc68311b",
       "IPY_MODEL_ad7390dd93a14bfcab5ffa422a0c1745",
       "IPY_MODEL_4b539d7017c149f18c45575b746cd183"
      ],
      "layout": "IPY_MODEL_c43f5c90d7e242dea062a45449f8c08f"
     }
    },
    "c60a757cd0cd470e8fd39d94c3325b94": {
     "model_module": "@jupyter-widgets/base",
     "model_module_version": "1.2.0",
     "model_name": "LayoutModel",
     "state": {
      "_model_module": "@jupyter-widgets/base",
      "_model_module_version": "1.2.0",
      "_model_name": "LayoutModel",
      "_view_count": null,
      "_view_module": "@jupyter-widgets/base",
      "_view_module_version": "1.2.0",
      "_view_name": "LayoutView",
      "align_content": null,
      "align_items": null,
      "align_self": null,
      "border": null,
      "bottom": null,
      "display": null,
      "flex": null,
      "flex_flow": null,
      "grid_area": null,
      "grid_auto_columns": null,
      "grid_auto_flow": null,
      "grid_auto_rows": null,
      "grid_column": null,
      "grid_gap": null,
      "grid_row": null,
      "grid_template_areas": null,
      "grid_template_columns": null,
      "grid_template_rows": null,
      "height": null,
      "justify_content": null,
      "justify_items": null,
      "left": null,
      "margin": null,
      "max_height": null,
      "max_width": null,
      "min_height": null,
      "min_width": null,
      "object_fit": null,
      "object_position": null,
      "order": null,
      "overflow": null,
      "overflow_x": null,
      "overflow_y": null,
      "padding": null,
      "right": null,
      "top": null,
      "visibility": null,
      "width": null
     }
    },
    "c68d8fd5c0fc4feb9dd3107d5d4c9b83": {
     "model_module": "@jupyter-widgets/controls",
     "model_module_version": "1.5.0",
     "model_name": "HBoxModel",
     "state": {
      "_dom_classes": [],
      "_model_module": "@jupyter-widgets/controls",
      "_model_module_version": "1.5.0",
      "_model_name": "HBoxModel",
      "_view_count": null,
      "_view_module": "@jupyter-widgets/controls",
      "_view_module_version": "1.5.0",
      "_view_name": "HBoxView",
      "box_style": "",
      "children": [
       "IPY_MODEL_93297db88a6d44749a7b24873ad024da",
       "IPY_MODEL_6dd41dd1e57c432589a67765c2d1d8ab",
       "IPY_MODEL_a2a6e4581d1c423fba9a3b19d0ed8fd8"
      ],
      "layout": "IPY_MODEL_509337f278e74fff92fccf2203f7e4c1"
     }
    },
    "c82ed8dba2be4b4eb81f1cdf5e243eab": {
     "model_module": "@jupyter-widgets/controls",
     "model_module_version": "1.5.0",
     "model_name": "DescriptionStyleModel",
     "state": {
      "_model_module": "@jupyter-widgets/controls",
      "_model_module_version": "1.5.0",
      "_model_name": "DescriptionStyleModel",
      "_view_count": null,
      "_view_module": "@jupyter-widgets/base",
      "_view_module_version": "1.2.0",
      "_view_name": "StyleView",
      "description_width": ""
     }
    },
    "c9effcdb4bac492f8a3a8ef1283c81a9": {
     "model_module": "@jupyter-widgets/base",
     "model_module_version": "1.2.0",
     "model_name": "LayoutModel",
     "state": {
      "_model_module": "@jupyter-widgets/base",
      "_model_module_version": "1.2.0",
      "_model_name": "LayoutModel",
      "_view_count": null,
      "_view_module": "@jupyter-widgets/base",
      "_view_module_version": "1.2.0",
      "_view_name": "LayoutView",
      "align_content": null,
      "align_items": null,
      "align_self": null,
      "border": null,
      "bottom": null,
      "display": null,
      "flex": null,
      "flex_flow": null,
      "grid_area": null,
      "grid_auto_columns": null,
      "grid_auto_flow": null,
      "grid_auto_rows": null,
      "grid_column": null,
      "grid_gap": null,
      "grid_row": null,
      "grid_template_areas": null,
      "grid_template_columns": null,
      "grid_template_rows": null,
      "height": null,
      "justify_content": null,
      "justify_items": null,
      "left": null,
      "margin": null,
      "max_height": null,
      "max_width": null,
      "min_height": null,
      "min_width": null,
      "object_fit": null,
      "object_position": null,
      "order": null,
      "overflow": null,
      "overflow_x": null,
      "overflow_y": null,
      "padding": null,
      "right": null,
      "top": null,
      "visibility": null,
      "width": null
     }
    },
    "cb8896a78f4d4fa29568c38911d98296": {
     "model_module": "@jupyter-widgets/base",
     "model_module_version": "1.2.0",
     "model_name": "LayoutModel",
     "state": {
      "_model_module": "@jupyter-widgets/base",
      "_model_module_version": "1.2.0",
      "_model_name": "LayoutModel",
      "_view_count": null,
      "_view_module": "@jupyter-widgets/base",
      "_view_module_version": "1.2.0",
      "_view_name": "LayoutView",
      "align_content": null,
      "align_items": null,
      "align_self": null,
      "border": null,
      "bottom": null,
      "display": null,
      "flex": null,
      "flex_flow": null,
      "grid_area": null,
      "grid_auto_columns": null,
      "grid_auto_flow": null,
      "grid_auto_rows": null,
      "grid_column": null,
      "grid_gap": null,
      "grid_row": null,
      "grid_template_areas": null,
      "grid_template_columns": null,
      "grid_template_rows": null,
      "height": null,
      "justify_content": null,
      "justify_items": null,
      "left": null,
      "margin": null,
      "max_height": null,
      "max_width": null,
      "min_height": null,
      "min_width": null,
      "object_fit": null,
      "object_position": null,
      "order": null,
      "overflow": null,
      "overflow_x": null,
      "overflow_y": null,
      "padding": null,
      "right": null,
      "top": null,
      "visibility": null,
      "width": null
     }
    },
    "cc6a281318234315ad2d3e2baf0fd52e": {
     "model_module": "@jupyter-widgets/base",
     "model_module_version": "1.2.0",
     "model_name": "LayoutModel",
     "state": {
      "_model_module": "@jupyter-widgets/base",
      "_model_module_version": "1.2.0",
      "_model_name": "LayoutModel",
      "_view_count": null,
      "_view_module": "@jupyter-widgets/base",
      "_view_module_version": "1.2.0",
      "_view_name": "LayoutView",
      "align_content": null,
      "align_items": null,
      "align_self": null,
      "border": null,
      "bottom": null,
      "display": null,
      "flex": null,
      "flex_flow": null,
      "grid_area": null,
      "grid_auto_columns": null,
      "grid_auto_flow": null,
      "grid_auto_rows": null,
      "grid_column": null,
      "grid_gap": null,
      "grid_row": null,
      "grid_template_areas": null,
      "grid_template_columns": null,
      "grid_template_rows": null,
      "height": null,
      "justify_content": null,
      "justify_items": null,
      "left": null,
      "margin": null,
      "max_height": null,
      "max_width": null,
      "min_height": null,
      "min_width": null,
      "object_fit": null,
      "object_position": null,
      "order": null,
      "overflow": null,
      "overflow_x": null,
      "overflow_y": null,
      "padding": null,
      "right": null,
      "top": null,
      "visibility": null,
      "width": null
     }
    },
    "d0bb861226ab483499c51a72c0472274": {
     "model_module": "@jupyter-widgets/controls",
     "model_module_version": "1.5.0",
     "model_name": "FloatProgressModel",
     "state": {
      "_dom_classes": [],
      "_model_module": "@jupyter-widgets/controls",
      "_model_module_version": "1.5.0",
      "_model_name": "FloatProgressModel",
      "_view_count": null,
      "_view_module": "@jupyter-widgets/controls",
      "_view_module_version": "1.5.0",
      "_view_name": "ProgressView",
      "bar_style": "success",
      "description": "",
      "description_tooltip": null,
      "layout": "IPY_MODEL_08e5c1f1b2f048d3a7d10d2b9b64fdea",
      "max": 2271145830,
      "min": 0,
      "orientation": "horizontal",
      "style": "IPY_MODEL_27aa29f29a7e43039037e78db3634edd",
      "value": 2271145830
     }
    },
    "d2c882a347e64ed682b82aed74be0be4": {
     "model_module": "@jupyter-widgets/controls",
     "model_module_version": "1.5.0",
     "model_name": "DescriptionStyleModel",
     "state": {
      "_model_module": "@jupyter-widgets/controls",
      "_model_module_version": "1.5.0",
      "_model_name": "DescriptionStyleModel",
      "_view_count": null,
      "_view_module": "@jupyter-widgets/base",
      "_view_module_version": "1.2.0",
      "_view_name": "StyleView",
      "description_width": ""
     }
    },
    "d411dc01ac144be288b1994518f78880": {
     "model_module": "@jupyter-widgets/controls",
     "model_module_version": "1.5.0",
     "model_name": "DescriptionStyleModel",
     "state": {
      "_model_module": "@jupyter-widgets/controls",
      "_model_module_version": "1.5.0",
      "_model_name": "DescriptionStyleModel",
      "_view_count": null,
      "_view_module": "@jupyter-widgets/base",
      "_view_module_version": "1.2.0",
      "_view_name": "StyleView",
      "description_width": ""
     }
    },
    "d6fd429d04f54427a01174fbf8da519d": {
     "model_module": "@jupyter-widgets/base",
     "model_module_version": "1.2.0",
     "model_name": "LayoutModel",
     "state": {
      "_model_module": "@jupyter-widgets/base",
      "_model_module_version": "1.2.0",
      "_model_name": "LayoutModel",
      "_view_count": null,
      "_view_module": "@jupyter-widgets/base",
      "_view_module_version": "1.2.0",
      "_view_name": "LayoutView",
      "align_content": null,
      "align_items": null,
      "align_self": null,
      "border": null,
      "bottom": null,
      "display": null,
      "flex": null,
      "flex_flow": null,
      "grid_area": null,
      "grid_auto_columns": null,
      "grid_auto_flow": null,
      "grid_auto_rows": null,
      "grid_column": null,
      "grid_gap": null,
      "grid_row": null,
      "grid_template_areas": null,
      "grid_template_columns": null,
      "grid_template_rows": null,
      "height": null,
      "justify_content": null,
      "justify_items": null,
      "left": null,
      "margin": null,
      "max_height": null,
      "max_width": null,
      "min_height": null,
      "min_width": null,
      "object_fit": null,
      "object_position": null,
      "order": null,
      "overflow": null,
      "overflow_x": null,
      "overflow_y": null,
      "padding": null,
      "right": null,
      "top": null,
      "visibility": null,
      "width": null
     }
    },
    "d73717e3641b4fd6a0961ee4f837a3cb": {
     "model_module": "@jupyter-widgets/base",
     "model_module_version": "1.2.0",
     "model_name": "LayoutModel",
     "state": {
      "_model_module": "@jupyter-widgets/base",
      "_model_module_version": "1.2.0",
      "_model_name": "LayoutModel",
      "_view_count": null,
      "_view_module": "@jupyter-widgets/base",
      "_view_module_version": "1.2.0",
      "_view_name": "LayoutView",
      "align_content": null,
      "align_items": null,
      "align_self": null,
      "border": null,
      "bottom": null,
      "display": null,
      "flex": null,
      "flex_flow": null,
      "grid_area": null,
      "grid_auto_columns": null,
      "grid_auto_flow": null,
      "grid_auto_rows": null,
      "grid_column": null,
      "grid_gap": null,
      "grid_row": null,
      "grid_template_areas": null,
      "grid_template_columns": null,
      "grid_template_rows": null,
      "height": null,
      "justify_content": null,
      "justify_items": null,
      "left": null,
      "margin": null,
      "max_height": null,
      "max_width": null,
      "min_height": null,
      "min_width": null,
      "object_fit": null,
      "object_position": null,
      "order": null,
      "overflow": null,
      "overflow_x": null,
      "overflow_y": null,
      "padding": null,
      "right": null,
      "top": null,
      "visibility": null,
      "width": null
     }
    },
    "d817895fe38c40db8b9149ae10e9a3d9": {
     "model_module": "@jupyter-widgets/controls",
     "model_module_version": "1.5.0",
     "model_name": "FloatProgressModel",
     "state": {
      "_dom_classes": [],
      "_model_module": "@jupyter-widgets/controls",
      "_model_module_version": "1.5.0",
      "_model_name": "FloatProgressModel",
      "_view_count": null,
      "_view_module": "@jupyter-widgets/controls",
      "_view_module_version": "1.5.0",
      "_view_name": "ProgressView",
      "bar_style": "success",
      "description": "",
      "description_tooltip": null,
      "layout": "IPY_MODEL_633847d3b09441f385fefa6b4511a5bf",
      "max": 2271064456,
      "min": 0,
      "orientation": "horizontal",
      "style": "IPY_MODEL_a84c0b5022624f46844f8f2d6600c16f",
      "value": 2271064456
     }
    },
    "d84c2ddda1a041eda8339442cca530dc": {
     "model_module": "@jupyter-widgets/controls",
     "model_module_version": "1.5.0",
     "model_name": "FloatProgressModel",
     "state": {
      "_dom_classes": [],
      "_model_module": "@jupyter-widgets/controls",
      "_model_module_version": "1.5.0",
      "_model_name": "FloatProgressModel",
      "_view_count": null,
      "_view_module": "@jupyter-widgets/controls",
      "_view_module_version": "1.5.0",
      "_view_name": "ProgressView",
      "bar_style": "success",
      "description": "",
      "description_tooltip": null,
      "layout": "IPY_MODEL_e4ddaff8a8a14f6890b4c826848469b6",
      "max": 349,
      "min": 0,
      "orientation": "horizontal",
      "style": "IPY_MODEL_70a2d946366f40118627027a405ea1a3",
      "value": 349
     }
    },
    "db4de3df60ff44e8bc85717b0b5556a4": {
     "model_module": "@jupyter-widgets/controls",
     "model_module_version": "1.5.0",
     "model_name": "HTMLModel",
     "state": {
      "_dom_classes": [],
      "_model_module": "@jupyter-widgets/controls",
      "_model_module_version": "1.5.0",
      "_model_name": "HTMLModel",
      "_view_count": null,
      "_view_module": "@jupyter-widgets/controls",
      "_view_module_version": "1.5.0",
      "_view_name": "HTMLView",
      "description": "",
      "description_tooltip": null,
      "layout": "IPY_MODEL_e79099f70d3749e0a711aafa980d79c7",
      "placeholder": "​",
      "style": "IPY_MODEL_d2c882a347e64ed682b82aed74be0be4",
      "value": "sentencepiece.bpe.model: 100%"
     }
    },
    "dc89c33012834fdb879c062bf33bede1": {
     "model_module": "@jupyter-widgets/controls",
     "model_module_version": "1.5.0",
     "model_name": "HTMLModel",
     "state": {
      "_dom_classes": [],
      "_model_module": "@jupyter-widgets/controls",
      "_model_module_version": "1.5.0",
      "_model_name": "HTMLModel",
      "_view_count": null,
      "_view_module": "@jupyter-widgets/controls",
      "_view_module_version": "1.5.0",
      "_view_name": "HTMLView",
      "description": "",
      "description_tooltip": null,
      "layout": "IPY_MODEL_c41d65f4992c4ba08132d63926015660",
      "placeholder": "​",
      "style": "IPY_MODEL_a965b21a6f794521a392bec32b799b9f",
      "value": " 687/687 [00:00&lt;00:00, 67.9kB/s]"
     }
    },
    "e4bee426891148f39ccc211fdcdfaa16": {
     "model_module": "@jupyter-widgets/controls",
     "model_module_version": "1.5.0",
     "model_name": "FloatProgressModel",
     "state": {
      "_dom_classes": [],
      "_model_module": "@jupyter-widgets/controls",
      "_model_module_version": "1.5.0",
      "_model_name": "FloatProgressModel",
      "_view_count": null,
      "_view_module": "@jupyter-widgets/controls",
      "_view_module_version": "1.5.0",
      "_view_name": "ProgressView",
      "bar_style": "success",
      "description": "",
      "description_tooltip": null,
      "layout": "IPY_MODEL_1a64340da4794d83a84a4b7e2750fd43",
      "max": 687,
      "min": 0,
      "orientation": "horizontal",
      "style": "IPY_MODEL_f727bcbbdd7f4ba386648b2ebd0ddcd3",
      "value": 687
     }
    },
    "e4ddaff8a8a14f6890b4c826848469b6": {
     "model_module": "@jupyter-widgets/base",
     "model_module_version": "1.2.0",
     "model_name": "LayoutModel",
     "state": {
      "_model_module": "@jupyter-widgets/base",
      "_model_module_version": "1.2.0",
      "_model_name": "LayoutModel",
      "_view_count": null,
      "_view_module": "@jupyter-widgets/base",
      "_view_module_version": "1.2.0",
      "_view_name": "LayoutView",
      "align_content": null,
      "align_items": null,
      "align_self": null,
      "border": null,
      "bottom": null,
      "display": null,
      "flex": null,
      "flex_flow": null,
      "grid_area": null,
      "grid_auto_columns": null,
      "grid_auto_flow": null,
      "grid_auto_rows": null,
      "grid_column": null,
      "grid_gap": null,
      "grid_row": null,
      "grid_template_areas": null,
      "grid_template_columns": null,
      "grid_template_rows": null,
      "height": null,
      "justify_content": null,
      "justify_items": null,
      "left": null,
      "margin": null,
      "max_height": null,
      "max_width": null,
      "min_height": null,
      "min_width": null,
      "object_fit": null,
      "object_position": null,
      "order": null,
      "overflow": null,
      "overflow_x": null,
      "overflow_y": null,
      "padding": null,
      "right": null,
      "top": null,
      "visibility": null,
      "width": null
     }
    },
    "e79099f70d3749e0a711aafa980d79c7": {
     "model_module": "@jupyter-widgets/base",
     "model_module_version": "1.2.0",
     "model_name": "LayoutModel",
     "state": {
      "_model_module": "@jupyter-widgets/base",
      "_model_module_version": "1.2.0",
      "_model_name": "LayoutModel",
      "_view_count": null,
      "_view_module": "@jupyter-widgets/base",
      "_view_module_version": "1.2.0",
      "_view_name": "LayoutView",
      "align_content": null,
      "align_items": null,
      "align_self": null,
      "border": null,
      "bottom": null,
      "display": null,
      "flex": null,
      "flex_flow": null,
      "grid_area": null,
      "grid_auto_columns": null,
      "grid_auto_flow": null,
      "grid_auto_rows": null,
      "grid_column": null,
      "grid_gap": null,
      "grid_row": null,
      "grid_template_areas": null,
      "grid_template_columns": null,
      "grid_template_rows": null,
      "height": null,
      "justify_content": null,
      "justify_items": null,
      "left": null,
      "margin": null,
      "max_height": null,
      "max_width": null,
      "min_height": null,
      "min_width": null,
      "object_fit": null,
      "object_position": null,
      "order": null,
      "overflow": null,
      "overflow_x": null,
      "overflow_y": null,
      "padding": null,
      "right": null,
      "top": null,
      "visibility": null,
      "width": null
     }
    },
    "e7c904e7f79e4a74a9a8cdd33c57e26d": {
     "model_module": "@jupyter-widgets/controls",
     "model_module_version": "1.5.0",
     "model_name": "DescriptionStyleModel",
     "state": {
      "_model_module": "@jupyter-widgets/controls",
      "_model_module_version": "1.5.0",
      "_model_name": "DescriptionStyleModel",
      "_view_count": null,
      "_view_module": "@jupyter-widgets/base",
      "_view_module_version": "1.2.0",
      "_view_name": "StyleView",
      "description_width": ""
     }
    },
    "ec32e2fc37044dc7a7798b3d3f50333d": {
     "model_module": "@jupyter-widgets/controls",
     "model_module_version": "1.5.0",
     "model_name": "HBoxModel",
     "state": {
      "_dom_classes": [],
      "_model_module": "@jupyter-widgets/controls",
      "_model_module_version": "1.5.0",
      "_model_name": "HBoxModel",
      "_view_count": null,
      "_view_module": "@jupyter-widgets/controls",
      "_view_module_version": "1.5.0",
      "_view_name": "HBoxView",
      "box_style": "",
      "children": [
       "IPY_MODEL_1e261710a1d949228647575fc844678b",
       "IPY_MODEL_d0bb861226ab483499c51a72c0472274",
       "IPY_MODEL_7163e49426a74110beeebbf3ec451a1f"
      ],
      "layout": "IPY_MODEL_082aafacd9004ef19f701a4e98b7e87c"
     }
    },
    "ede195b1737742f39e0eb70bea9ebe8c": {
     "model_module": "@jupyter-widgets/controls",
     "model_module_version": "1.5.0",
     "model_name": "DescriptionStyleModel",
     "state": {
      "_model_module": "@jupyter-widgets/controls",
      "_model_module_version": "1.5.0",
      "_model_name": "DescriptionStyleModel",
      "_view_count": null,
      "_view_module": "@jupyter-widgets/base",
      "_view_module_version": "1.2.0",
      "_view_name": "StyleView",
      "description_width": ""
     }
    },
    "eecd527899764bd09433dfda4f16da59": {
     "model_module": "@jupyter-widgets/controls",
     "model_module_version": "1.5.0",
     "model_name": "DescriptionStyleModel",
     "state": {
      "_model_module": "@jupyter-widgets/controls",
      "_model_module_version": "1.5.0",
      "_model_name": "DescriptionStyleModel",
      "_view_count": null,
      "_view_module": "@jupyter-widgets/base",
      "_view_module_version": "1.2.0",
      "_view_name": "StyleView",
      "description_width": ""
     }
    },
    "f058953a17024ecd94e831c6f74deaf0": {
     "model_module": "@jupyter-widgets/controls",
     "model_module_version": "1.5.0",
     "model_name": "HBoxModel",
     "state": {
      "_dom_classes": [],
      "_model_module": "@jupyter-widgets/controls",
      "_model_module_version": "1.5.0",
      "_model_name": "HBoxModel",
      "_view_count": null,
      "_view_module": "@jupyter-widgets/controls",
      "_view_module_version": "1.5.0",
      "_view_name": "HBoxView",
      "box_style": "",
      "children": [
       "IPY_MODEL_fc05a77a60d44c7e8503efee53bb5f8b",
       "IPY_MODEL_b2402c92582a4f889a8b17f06f53e2fc",
       "IPY_MODEL_2ef319971bef444c8f6ec6dcd0ed8774"
      ],
      "layout": "IPY_MODEL_15c998c7a0cd416dbf487abcef9ce413"
     }
    },
    "f1e535e775914befb55c689d9a903d64": {
     "model_module": "@jupyter-widgets/controls",
     "model_module_version": "1.5.0",
     "model_name": "ProgressStyleModel",
     "state": {
      "_model_module": "@jupyter-widgets/controls",
      "_model_module_version": "1.5.0",
      "_model_name": "ProgressStyleModel",
      "_view_count": null,
      "_view_module": "@jupyter-widgets/base",
      "_view_module_version": "1.2.0",
      "_view_name": "StyleView",
      "bar_color": null,
      "description_width": ""
     }
    },
    "f29f6fb4a588448d9de46f5b50fc6477": {
     "model_module": "@jupyter-widgets/controls",
     "model_module_version": "1.5.0",
     "model_name": "DescriptionStyleModel",
     "state": {
      "_model_module": "@jupyter-widgets/controls",
      "_model_module_version": "1.5.0",
      "_model_name": "DescriptionStyleModel",
      "_view_count": null,
      "_view_module": "@jupyter-widgets/base",
      "_view_module_version": "1.2.0",
      "_view_name": "StyleView",
      "description_width": ""
     }
    },
    "f3c535337a084bbd8714a1dff538865c": {
     "model_module": "@jupyter-widgets/base",
     "model_module_version": "1.2.0",
     "model_name": "LayoutModel",
     "state": {
      "_model_module": "@jupyter-widgets/base",
      "_model_module_version": "1.2.0",
      "_model_name": "LayoutModel",
      "_view_count": null,
      "_view_module": "@jupyter-widgets/base",
      "_view_module_version": "1.2.0",
      "_view_name": "LayoutView",
      "align_content": null,
      "align_items": null,
      "align_self": null,
      "border": null,
      "bottom": null,
      "display": null,
      "flex": null,
      "flex_flow": null,
      "grid_area": null,
      "grid_auto_columns": null,
      "grid_auto_flow": null,
      "grid_auto_rows": null,
      "grid_column": null,
      "grid_gap": null,
      "grid_row": null,
      "grid_template_areas": null,
      "grid_template_columns": null,
      "grid_template_rows": null,
      "height": null,
      "justify_content": null,
      "justify_items": null,
      "left": null,
      "margin": null,
      "max_height": null,
      "max_width": null,
      "min_height": null,
      "min_width": null,
      "object_fit": null,
      "object_position": null,
      "order": null,
      "overflow": null,
      "overflow_x": null,
      "overflow_y": null,
      "padding": null,
      "right": null,
      "top": null,
      "visibility": null,
      "width": null
     }
    },
    "f4025a0d1f88429ba8d298f516e67364": {
     "model_module": "@jupyter-widgets/controls",
     "model_module_version": "1.5.0",
     "model_name": "HTMLModel",
     "state": {
      "_dom_classes": [],
      "_model_module": "@jupyter-widgets/controls",
      "_model_module_version": "1.5.0",
      "_model_name": "HTMLModel",
      "_view_count": null,
      "_view_module": "@jupyter-widgets/controls",
      "_view_module_version": "1.5.0",
      "_view_name": "HTMLView",
      "description": "",
      "description_tooltip": null,
      "layout": "IPY_MODEL_0a823236d7314ecea9c225df65c68429",
      "placeholder": "​",
      "style": "IPY_MODEL_602bb67ae0bb4c97ae55ee2902893d69",
      "value": "tokenizer.json: 100%"
     }
    },
    "f5194bc845e740dfbb46582111088072": {
     "model_module": "@jupyter-widgets/controls",
     "model_module_version": "1.5.0",
     "model_name": "HBoxModel",
     "state": {
      "_dom_classes": [],
      "_model_module": "@jupyter-widgets/controls",
      "_model_module_version": "1.5.0",
      "_model_name": "HBoxModel",
      "_view_count": null,
      "_view_module": "@jupyter-widgets/controls",
      "_view_module_version": "1.5.0",
      "_view_name": "HBoxView",
      "box_style": "",
      "children": [
       "IPY_MODEL_47654ca85b074d63904bfc5784cad6de",
       "IPY_MODEL_d84c2ddda1a041eda8339442cca530dc",
       "IPY_MODEL_6972b76780284051a73c018d81831ec1"
      ],
      "layout": "IPY_MODEL_963bc190ab454e389a93b52d6c3a06ec"
     }
    },
    "f727bcbbdd7f4ba386648b2ebd0ddcd3": {
     "model_module": "@jupyter-widgets/controls",
     "model_module_version": "1.5.0",
     "model_name": "ProgressStyleModel",
     "state": {
      "_model_module": "@jupyter-widgets/controls",
      "_model_module_version": "1.5.0",
      "_model_name": "ProgressStyleModel",
      "_view_count": null,
      "_view_module": "@jupyter-widgets/base",
      "_view_module_version": "1.2.0",
      "_view_name": "StyleView",
      "bar_color": null,
      "description_width": ""
     }
    },
    "fc05a77a60d44c7e8503efee53bb5f8b": {
     "model_module": "@jupyter-widgets/controls",
     "model_module_version": "1.5.0",
     "model_name": "HTMLModel",
     "state": {
      "_dom_classes": [],
      "_model_module": "@jupyter-widgets/controls",
      "_model_module_version": "1.5.0",
      "_model_name": "HTMLModel",
      "_view_count": null,
      "_view_module": "@jupyter-widgets/controls",
      "_view_module_version": "1.5.0",
      "_view_name": "HTMLView",
      "description": "",
      "description_tooltip": null,
      "layout": "IPY_MODEL_07e2acf90ecc40bcbd7659e768f5d9ca",
      "placeholder": "​",
      "style": "IPY_MODEL_68ffc33ed8b0484d92f5a6185a4e2ba6",
      "value": "sentence_bert_config.json: 100%"
     }
    },
    "fcb5d09a92084c1fb18a2176733cbbb6": {
     "model_module": "@jupyter-widgets/base",
     "model_module_version": "1.2.0",
     "model_name": "LayoutModel",
     "state": {
      "_model_module": "@jupyter-widgets/base",
      "_model_module_version": "1.2.0",
      "_model_name": "LayoutModel",
      "_view_count": null,
      "_view_module": "@jupyter-widgets/base",
      "_view_module_version": "1.2.0",
      "_view_name": "LayoutView",
      "align_content": null,
      "align_items": null,
      "align_self": null,
      "border": null,
      "bottom": null,
      "display": null,
      "flex": null,
      "flex_flow": null,
      "grid_area": null,
      "grid_auto_columns": null,
      "grid_auto_flow": null,
      "grid_auto_rows": null,
      "grid_column": null,
      "grid_gap": null,
      "grid_row": null,
      "grid_template_areas": null,
      "grid_template_columns": null,
      "grid_template_rows": null,
      "height": null,
      "justify_content": null,
      "justify_items": null,
      "left": null,
      "margin": null,
      "max_height": null,
      "max_width": null,
      "min_height": null,
      "min_width": null,
      "object_fit": null,
      "object_position": null,
      "order": null,
      "overflow": null,
      "overflow_x": null,
      "overflow_y": null,
      "padding": null,
      "right": null,
      "top": null,
      "visibility": null,
      "width": null
     }
    },
    "fe3b3206ee724f719ce3f58ab017cc1c": {
     "model_module": "@jupyter-widgets/base",
     "model_module_version": "1.2.0",
     "model_name": "LayoutModel",
     "state": {
      "_model_module": "@jupyter-widgets/base",
      "_model_module_version": "1.2.0",
      "_model_name": "LayoutModel",
      "_view_count": null,
      "_view_module": "@jupyter-widgets/base",
      "_view_module_version": "1.2.0",
      "_view_name": "LayoutView",
      "align_content": null,
      "align_items": null,
      "align_self": null,
      "border": null,
      "bottom": null,
      "display": null,
      "flex": null,
      "flex_flow": null,
      "grid_area": null,
      "grid_auto_columns": null,
      "grid_auto_flow": null,
      "grid_auto_rows": null,
      "grid_column": null,
      "grid_gap": null,
      "grid_row": null,
      "grid_template_areas": null,
      "grid_template_columns": null,
      "grid_template_rows": null,
      "height": null,
      "justify_content": null,
      "justify_items": null,
      "left": null,
      "margin": null,
      "max_height": null,
      "max_width": null,
      "min_height": null,
      "min_width": null,
      "object_fit": null,
      "object_position": null,
      "order": null,
      "overflow": null,
      "overflow_x": null,
      "overflow_y": null,
      "padding": null,
      "right": null,
      "top": null,
      "visibility": null,
      "width": null
     }
    }
   }
  }
 },
 "nbformat": 4,
 "nbformat_minor": 4
}
