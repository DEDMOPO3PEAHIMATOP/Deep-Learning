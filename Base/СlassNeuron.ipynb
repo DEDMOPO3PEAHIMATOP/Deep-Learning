{
 "cells": [
  {
   "cell_type": "code",
   "execution_count": 1,
   "id": "50ecd3b2-1970-449b-9692-4fa993977dc1",
   "metadata": {},
   "outputs": [],
   "source": [
    "import numpy as np"
   ]
  },
  {
   "cell_type": "code",
   "execution_count": 9,
   "id": "4297e2da-52e7-4aff-bb7a-2f26d6ccbdf3",
   "metadata": {},
   "outputs": [],
   "source": [
    "class Neuron:\n",
    "    def __init__(self, num_inputs):\n",
    "        \"\"\"\n",
    "        Инициализирует нейрон случайными значениями весов и смещения.\n",
    "        \n",
    "        :param num_inputs: количество входных признаков (размерность входных данных)\n",
    "        \"\"\"\n",
    "        self.weights = np.random.randn(num_inputs)  # Случайные начальные веса\n",
    "        self.bias = np.random.rand()                # Случайное начальное смещение\n",
    "    \n",
    "    def forward(self, inputs):\n",
    "        \"\"\"\n",
    "        Выполняет прямое распространение сигнала через нейрон.\n",
    "        \n",
    "        :param inputs: массив входных значений\n",
    "        :return: выходное значение нейрона после активации\n",
    "        \"\"\"\n",
    "        z = np.dot(inputs, self.weights) + self.bias     # Линейная комбинация входа и весов\n",
    "        return self._activation(z)                      # Применение функции активации\n",
    "    \n",
    "    def _activation(self, x):\n",
    "        \"\"\"\n",
    "        Функция активации (сигмоида).\n",
    "        \n",
    "        :param x: сумма входов, умноженных на веса плюс смещение\n",
    "        :return: выходной сигнал после активации\n",
    "        \"\"\"\n",
    "        return 1 / (1 + np.exp(-x))                    # Реализация сигмоиды\n",
    "    \n",
    "    def update_weights(self, learning_rate, grad_w, grad_b):\n",
    "        \"\"\"\n",
    "        Обновляет веса и смещение согласно градиентному спуску.\n",
    "        \n",
    "        :param learning_rate: скорость обучения\n",
    "        :param grad_w: градиенты по весам\n",
    "        :param grad_b: градиент по смещению\n",
    "        \"\"\"\n",
    "        self.weights -= learning_rate * grad_w          # Обновляем веса\n",
    "        self.bias -= learning_rate * grad_b             # Обновляем смещение"
   ]
  },
  {
   "cell_type": "code",
   "execution_count": 10,
   "id": "7ec3be3a-cad1-4a64-91c5-1708d8b824fe",
   "metadata": {},
   "outputs": [],
   "source": [
    "# Создаем экземпляр нейрона с двумя входами\n",
    "neuron = Neuron(2)"
   ]
  },
  {
   "cell_type": "code",
   "execution_count": 11,
   "id": "ea4c1ad0-1d82-4d93-9265-bacdb359c517",
   "metadata": {},
   "outputs": [],
   "source": [
    "# Входные данные\n",
    "input_data = np.array([1.0, 2.0])"
   ]
  },
  {
   "cell_type": "code",
   "execution_count": 12,
   "id": "8c76b645-5bdf-4827-8a60-5b1863981c6f",
   "metadata": {},
   "outputs": [
    {
     "name": "stdout",
     "output_type": "stream",
     "text": [
      "Вывод нейрона: 0.9810322333397438\n"
     ]
    }
   ],
   "source": [
    "# Прямой проход (предсказание)\n",
    "output = neuron.forward(input_data)\n",
    "print(f\"Вывод нейрона: {output}\")"
   ]
  },
  {
   "cell_type": "code",
   "execution_count": 13,
   "id": "715f9634-36f7-4611-ad26-7bb84ea284d0",
   "metadata": {},
   "outputs": [],
   "source": [
    "# Вычислим фиктивные градиенты для демонстрации обновления весов\n",
    "gradient_weights = np.array([-0.1, -0.2])      # Градиенты по весам\n",
    "gradient_bias = -0.05                           # Градиент по смещению"
   ]
  },
  {
   "cell_type": "code",
   "execution_count": 14,
   "id": "60f32cba-ecd5-4eac-9d39-dbc70603c958",
   "metadata": {},
   "outputs": [],
   "source": [
    "# Обновляем веса и смещение с заданной скоростью обучения\n",
    "learning_rate = 0.01\n",
    "neuron.update_weights(learning_rate, gradient_weights, gradient_bias)"
   ]
  },
  {
   "cell_type": "code",
   "execution_count": 15,
   "id": "a28982f8-d8e4-431c-ba0f-93eb08e34c34",
   "metadata": {},
   "outputs": [
    {
     "name": "stdout",
     "output_type": "stream",
     "text": [
      "Новое значение выхода после обновления: 0.981134306976217\n"
     ]
    }
   ],
   "source": [
    "# Повторяем прямой проход после изменения весов\n",
    "updated_output = neuron.forward(input_data)\n",
    "print(f\"Новое значение выхода после обновления: {updated_output}\")"
   ]
  },
  {
   "cell_type": "code",
   "execution_count": null,
   "id": "301f5590-9ef5-425e-9853-39037f54f7f7",
   "metadata": {},
   "outputs": [],
   "source": []
  }
 ],
 "metadata": {
  "kernelspec": {
   "display_name": "Python 3 (ipykernel)",
   "language": "python",
   "name": "python3"
  },
  "language_info": {
   "codemirror_mode": {
    "name": "ipython",
    "version": 3
   },
   "file_extension": ".py",
   "mimetype": "text/x-python",
   "name": "python",
   "nbconvert_exporter": "python",
   "pygments_lexer": "ipython3",
   "version": "3.12.3"
  }
 },
 "nbformat": 4,
 "nbformat_minor": 5
}
