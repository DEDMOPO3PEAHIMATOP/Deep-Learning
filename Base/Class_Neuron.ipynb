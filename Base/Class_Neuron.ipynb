{
 "cells": [
  {
   "cell_type": "markdown",
   "id": "e3ddff69",
   "metadata": {},
   "source": [
    "# Собственный класс \"Нейрон\"\n",
    "Реализуем класс \"Нейрон\", у которого будет несколько методов: \n",
    "\n",
    "* ``__init__``. Принимает на вход массив весов нейрона --- $w = (w_1, \\ldots, w_n)$, а также функцию активации $f$ (по умолчанию $f(x) = x$). Сохраняет веса и функцию внутри класса.\n",
    "\n",
    "* ``forward``. Принимает на вход массив $x = (x_1, \\ldots, x_N)$ --- входы нейрона. Возвращает $f(w_1x_1 + \\ldots + w_nx_n)$.\n",
    "\n",
    "* ``backlog``. Возвращает последний массив $x$, который подавался функции ``forward`` на вход. \n",
    "\n",
    "Если у вас появились трудности, информация по созданию своих классов есть здесь: https://pythonworld.ru/osnovy/obektno-orientirovannoe-programmirovanie-obshhee-predstavlenie.html"
   ]
  },
  {
   "cell_type": "code",
   "execution_count": 1,
   "id": "a88e51ff",
   "metadata": {},
   "outputs": [],
   "source": [
    "class Neuron:\n",
    "\n",
    "    def __init__(self, w, f = lambda x: x):\n",
    "        self.w = w\n",
    "        self.f = f\n",
    "        self.x = None\n",
    "        \n",
    "    def forward(self, x):\n",
    "        self.x = x\n",
    "        result = self.f(sum([s_w * s_x for s_w, s_x in zip(self.w, self.x)]))\n",
    "        \n",
    "        return result\n",
    "\n",
    "    def backlog(self):\n",
    "\n",
    "        return self.x"
   ]
  },
  {
   "cell_type": "code",
   "execution_count": 2,
   "id": "9e838bb2",
   "metadata": {},
   "outputs": [],
   "source": [
    "N = Neuron([11, 12, 13])"
   ]
  },
  {
   "cell_type": "code",
   "execution_count": 3,
   "id": "0982fc51",
   "metadata": {},
   "outputs": [
    {
     "name": "stdout",
     "output_type": "stream",
     "text": [
      "None\n"
     ]
    }
   ],
   "source": [
    "print(N.backlog())"
   ]
  },
  {
   "cell_type": "code",
   "execution_count": 4,
   "id": "bcc71daa",
   "metadata": {},
   "outputs": [
    {
     "name": "stdout",
     "output_type": "stream",
     "text": [
      "74\n"
     ]
    }
   ],
   "source": [
    "print(N.forward([1, 2, 3]))"
   ]
  }
 ],
 "metadata": {
  "kernelspec": {
   "display_name": "Python 3 (ipykernel)",
   "language": "python",
   "name": "python3"
  },
  "language_info": {
   "codemirror_mode": {
    "name": "ipython",
    "version": 3
   },
   "file_extension": ".py",
   "mimetype": "text/x-python",
   "name": "python",
   "nbconvert_exporter": "python",
   "pygments_lexer": "ipython3",
   "version": "3.12.3"
  },
  "toc": {
   "base_numbering": 1,
   "nav_menu": {},
   "number_sections": true,
   "sideBar": true,
   "skip_h1_title": false,
   "title_cell": "Table of Contents",
   "title_sidebar": "Contents",
   "toc_cell": false,
   "toc_position": {},
   "toc_section_display": true,
   "toc_window_display": false
  }
 },
 "nbformat": 4,
 "nbformat_minor": 5
}
