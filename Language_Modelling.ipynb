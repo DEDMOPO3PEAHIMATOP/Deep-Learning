{
 "cells": [
  {
   "cell_type": "markdown",
   "metadata": {
    "id": "d0ADTojbpfLt"
   },
   "source": [
    "# Обучение языковой модели с помощью LSTM"
   ]
  },
  {
   "cell_type": "markdown",
   "metadata": {
    "id": "ldHSmYY6p_mZ"
   },
   "source": [
    "В этом примере мы обучим языковую модель с помощью рекуррентной нейронной сети. В отличие от предыдущего примера, мы будем работать с отдельными словами, а не буквами.\n",
    "\n",
    "\n",
    "Установим модуль ```datasets```, чтобы нам проще было работать с данными."
   ]
  },
  {
   "cell_type": "code",
   "execution_count": null,
   "metadata": {
    "id": "3yvNdv6cp_0P",
    "scrolled": true
   },
   "outputs": [],
   "source": [
    "# pip install datasets"
   ]
  },
  {
   "cell_type": "code",
   "execution_count": null,
   "metadata": {},
   "outputs": [],
   "source": [
    "# pip install torch"
   ]
  },
  {
   "cell_type": "code",
   "execution_count": null,
   "metadata": {
    "scrolled": true
   },
   "outputs": [],
   "source": [
    "# pip install matplotlib"
   ]
  },
  {
   "cell_type": "code",
   "execution_count": null,
   "metadata": {
    "scrolled": true
   },
   "outputs": [],
   "source": [
    "# pip install nltk"
   ]
  },
  {
   "cell_type": "code",
   "execution_count": null,
   "metadata": {
    "scrolled": true
   },
   "outputs": [],
   "source": [
    "# pip install scikit-learn"
   ]
  },
  {
   "cell_type": "code",
   "execution_count": null,
   "metadata": {
    "scrolled": true
   },
   "outputs": [],
   "source": [
    "# pip install seaborn"
   ]
  },
  {
   "cell_type": "code",
   "execution_count": null,
   "metadata": {
    "scrolled": true
   },
   "outputs": [],
   "source": [
    "# pip3 install -U datasets"
   ]
  },
  {
   "cell_type": "code",
   "execution_count": null,
   "metadata": {},
   "outputs": [],
   "source": [
    "# pip install fsspec==2022.8.2"
   ]
  },
  {
   "cell_type": "code",
   "execution_count": null,
   "metadata": {
    "scrolled": true
   },
   "outputs": [],
   "source": [
    "# python install pip --upgrade"
   ]
  },
  {
   "cell_type": "code",
   "execution_count": null,
   "metadata": {
    "scrolled": true
   },
   "outputs": [],
   "source": [
    "# pip list"
   ]
  },
  {
   "cell_type": "code",
   "execution_count": null,
   "metadata": {},
   "outputs": [],
   "source": [
    "# pip install tensorboard"
   ]
  },
  {
   "cell_type": "markdown",
   "metadata": {
    "id": "rh9ZXSeCpng9"
   },
   "source": [
    "Импорт необходимых библиотек"
   ]
  },
  {
   "cell_type": "code",
   "execution_count": 10,
   "metadata": {
    "id": "XOJi16bLpd_O"
   },
   "outputs": [],
   "source": [
    "import gc\n",
    "import matplotlib.pyplot as plt\n",
    "import nltk\n",
    "import numpy as np\n",
    "import pandas as pd\n",
    "import pickle\n",
    "import random\n",
    "import seaborn\n",
    "import string\n",
    "import torch\n",
    "import torch.nn as nn\n",
    "\n",
    "from collections import Counter\n",
    "from datasets import load_dataset\n",
    "from nltk.tokenize import sent_tokenize, word_tokenize\n",
    "from sklearn.model_selection import train_test_split\n",
    "from torch.utils.data import Dataset, DataLoader\n",
    "from tqdm.auto import tqdm\n",
    "from typing import List"
   ]
  },
  {
   "cell_type": "code",
   "execution_count": 2,
   "metadata": {},
   "outputs": [],
   "source": [
    "# Зафиксируем сид Python\n",
    "SEED = 12345\n",
    "random.seed(SEED)\n",
    "# Зафиксируем сид Numpy\n",
    "np.random.seed(SEED)\n",
    "\n",
    "seaborn.set(palette='summer')"
   ]
  },
  {
   "cell_type": "code",
   "execution_count": 123,
   "metadata": {
    "id": "91JuM0SQvXud"
   },
   "outputs": [],
   "source": [
    "nltk.download('punkt')"
   ]
  },
  {
   "cell_type": "code",
   "execution_count": 4,
   "metadata": {
    "id": "adJC8ShFq9HM"
   },
   "outputs": [
    {
     "data": {
      "text/plain": [
       "'cuda'"
      ]
     },
     "execution_count": 4,
     "metadata": {},
     "output_type": "execute_result"
    }
   ],
   "source": [
    "# Посмотрим на чем мы будем работать\n",
    "device = 'cuda' if torch.cuda.is_available() else 'cpu'\n",
    "device"
   ]
  },
  {
   "cell_type": "markdown",
   "metadata": {
    "id": "pwsfS1ENq5ig"
   },
   "source": [
    "## Подготовка данных\n",
    "\n",
    "Воспользуемся датасетом imdb. В нем хранятся отзывы о фильмах с сайта imdb. Загрузим данные с помощью функции ```load_dataset```"
   ]
  },
  {
   "cell_type": "code",
   "execution_count": 124,
   "metadata": {
    "id": "qHLNWOfJqSfc",
    "scrolled": true
   },
   "outputs": [],
   "source": [
    "# Загрузим датасет\n",
    "dataset = load_dataset('imdb', ignore_verifications=True)"
   ]
  },
  {
   "cell_type": "code",
   "execution_count": 6,
   "metadata": {
    "scrolled": true
   },
   "outputs": [
    {
     "data": {
      "text/plain": [
       "DatasetDict({\n",
       "    train: Dataset({\n",
       "        features: ['text', 'label'],\n",
       "        num_rows: 25000\n",
       "    })\n",
       "    test: Dataset({\n",
       "        features: ['text', 'label'],\n",
       "        num_rows: 25000\n",
       "    })\n",
       "    unsupervised: Dataset({\n",
       "        features: ['text', 'label'],\n",
       "        num_rows: 50000\n",
       "    })\n",
       "})"
      ]
     },
     "execution_count": 6,
     "metadata": {},
     "output_type": "execute_result"
    }
   ],
   "source": [
    "# Взглянем на структуру\n",
    "dataset"
   ]
  },
  {
   "cell_type": "code",
   "execution_count": 8,
   "metadata": {},
   "outputs": [
    {
     "data": {
      "text/plain": [
       "'I love sci-fi and am willing to put up with a lot. Sci-fi movies/TV are usually underfunded, under-appreciated and misunderstood. I tried to like this, I really did, but it is to good TV sci-fi as Babylon 5 is to Star Trek (the original). Silly prosthetics, cheap cardboard sets, stilted dialogues, CG that doesn\\'t match the background, and painfully one-dimensional characters cannot be overcome with a \\'sci-fi\\' setting. (I\\'m sure there are those of you out there who think Babylon 5 is good sci-fi TV. It\\'s not. It\\'s clichéd and uninspiring.) While US viewers might like emotion and character development, sci-fi is a genre that does not take itself seriously (cf. Star Trek). It may treat important issues, yet not as a serious philosophy. It\\'s really difficult to care about the characters here as they are not simply foolish, just missing a spark of life. Their actions and reactions are wooden and predictable, often painful to watch. The makers of Earth KNOW it\\'s rubbish as they have to always say \"Gene Roddenberry\\'s Earth...\" otherwise people would not continue watching. Roddenberry\\'s ashes must be turning in their orbit as this dull, cheap, poorly edited (watching it without advert breaks really brings this home) trudging Trabant of a show lumbers into space. Spoiler. So, kill off a main character. And then bring him back as another actor. Jeeez! Dallas all over again.'"
      ]
     },
     "execution_count": 8,
     "metadata": {},
     "output_type": "execute_result"
    }
   ],
   "source": [
    "# Что мы имеем\n",
    "dataset['test']['text'][0]"
   ]
  },
  {
   "cell_type": "markdown",
   "metadata": {},
   "source": [
    "### Препроцессинг данных и создание словаря"
   ]
  },
  {
   "cell_type": "markdown",
   "metadata": {},
   "source": [
    "Разделим отдельные тренировочные примеры на отдельные предложения с помощью функции ```sent_tokenize``` из бибилиотеки ```nltk```. Каждое отдельное предложение будет одним тренировочным примером.\n",
    "Оставим только те предложения, в которых меньше ```word_threshold``` слов."
   ]
  },
  {
   "cell_type": "code",
   "execution_count": 11,
   "metadata": {
    "id": "Ins2tVCdsS47"
   },
   "outputs": [
    {
     "data": {
      "application/vnd.jupyter.widget-view+json": {
       "model_id": "fb36ae8947cd479c9ec90d7388c94e09",
       "version_major": 2,
       "version_minor": 0
      },
      "text/plain": [
       "  0%|          | 0/25000 [00:00<?, ?it/s]"
      ]
     },
     "metadata": {},
     "output_type": "display_data"
    }
   ],
   "source": [
    "sentences = []\n",
    "word_threshold = 32\n",
    "\n",
    "# Получим отдельные предложения и поместим их в sentences\n",
    "sentences = []\n",
    "# Выставим значение в 32 слова\n",
    "word_threshold = 32\n",
    "for example in tqdm(dataset['train']['text']):\n",
    "    # Удалим из предложений перенос строки и HTML-тег \"br\"\n",
    "    example = example.replace('<br /><br />', ' ').replace('\\n', ' ')\n",
    "    for row in sent_tokenize(example):\n",
    "        if len(word_tokenize(row)) < word_threshold:\n",
    "            sentences.append(row.lower().translate(str.maketrans('', '', string.punctuation)))"
   ]
  },
  {
   "cell_type": "code",
   "execution_count": 12,
   "metadata": {
    "id": "bxeBxP3J1Rj3"
   },
   "outputs": [
    {
     "name": "stdout",
     "output_type": "stream",
     "text": [
      "Всего предложений: 254301\n"
     ]
    }
   ],
   "source": [
    "print(\"Всего предложений:\", len(sentences))"
   ]
  },
  {
   "cell_type": "code",
   "execution_count": 13,
   "metadata": {},
   "outputs": [
    {
     "data": {
      "text/plain": [
       "['i rented i am curiousyellow from my video store because of all the controversy that surrounded it when it was first released in 1967',\n",
       " 'the plot is centered around a young swedish drama student named lena who wants to learn everything she can about life']"
      ]
     },
     "execution_count": 13,
     "metadata": {},
     "output_type": "execute_result"
    }
   ],
   "source": [
    "# Посмотрим на первые 2 получившихся предложения\n",
    "sentences[:2]"
   ]
  },
  {
   "cell_type": "markdown",
   "metadata": {},
   "source": [
    "Посчитаем частоту вхождения каждого слова в оставшихся предложениях. Для деления предложения на отдельные слова удобно использовать функцию ```word_tokenize```."
   ]
  },
  {
   "cell_type": "markdown",
   "metadata": {
    "id": "iT82XkT6ULA_"
   },
   "source": [
    "Посчитаем для каждого слова его встречаемость."
   ]
  },
  {
   "cell_type": "code",
   "execution_count": 14,
   "metadata": {
    "id": "nEvCN0Y1w1yH",
    "scrolled": true
   },
   "outputs": [
    {
     "data": {
      "application/vnd.jupyter.widget-view+json": {
       "model_id": "b015ecaedd4d488a9b0c008c68c058e1",
       "version_major": 2,
       "version_minor": 0
      },
      "text/plain": [
       "  0%|          | 0/254301 [00:00<?, ?it/s]"
      ]
     },
     "metadata": {},
     "output_type": "display_data"
    }
   ],
   "source": [
    "words = Counter()\n",
    "\n",
    "# Расчет встречаемости слов\n",
    "for example in tqdm(sentences):\n",
    "    # Приводим к нижнему регистру и убираем пунктуацию\n",
    "    prccessed_text = example.lower().translate(\n",
    "        str.maketrans('', '', string.punctuation))\n",
    "\n",
    "    for word in word_tokenize(prccessed_text):\n",
    "        words[word] += 1"
   ]
  },
  {
   "cell_type": "code",
   "execution_count": 15,
   "metadata": {
    "scrolled": true
   },
   "outputs": [
    {
     "data": {
      "text/plain": [
       "[('the', 200470), ('a', 97965), ('and', 94467), ('of', 83348), ('to', 79357)]"
      ]
     },
     "execution_count": 15,
     "metadata": {},
     "output_type": "execute_result"
    }
   ],
   "source": [
    "# Посмотрим на 5 самых встречающихся\n",
    "list(dict(words.most_common()).items())[:5]"
   ]
  },
  {
   "cell_type": "markdown",
   "metadata": {
    "id": "B4k4uSoHUSI0"
   },
   "source": [
    "Добавим в словарь ```vocab_size``` самых встречающихся слов."
   ]
  },
  {
   "cell_type": "markdown",
   "metadata": {},
   "source": [
    "Создадим объект ```vocab``` класса ```set```, положим в него служебные токены '\\<unk\\>', '\\<bos\\>', '\\<eos\\>', '\\<pad\\>' и vocab_size самых частовстречающихся слов."
   ]
  },
  {
   "cell_type": "code",
   "execution_count": 16,
   "metadata": {
    "id": "oUBNwsK9xLIu"
   },
   "outputs": [],
   "source": [
    "vocab = set(['<unk>', '<bos>', '<eos>', '<pad>'])\n",
    "vocab_size = 40000\n",
    "\n",
    "# Наполнение словаря\n",
    "vocab_dict = {k: v for k, v in sorted(words.items(), key=lambda item: item[1], reverse=True)}\n",
    "vocab_list = list(vocab_dict.items())[:vocab_size]\n",
    "for i in range(vocab_size):\n",
    "    vocab.add(vocab_list[i][0])"
   ]
  },
  {
   "cell_type": "markdown",
   "metadata": {},
   "source": [
    "На всякий случай проверим сами себя"
   ]
  },
  {
   "cell_type": "code",
   "execution_count": 17,
   "metadata": {
    "id": "ieT0DFUpXnV2"
   },
   "outputs": [],
   "source": [
    "assert '<unk>' in vocab\n",
    "assert '<bos>' in vocab\n",
    "assert '<eos>' in vocab\n",
    "assert '<pad>' in vocab\n",
    "assert len(vocab) == vocab_size + 4"
   ]
  },
  {
   "cell_type": "code",
   "execution_count": 18,
   "metadata": {
    "id": "JhACW2CQyck5"
   },
   "outputs": [
    {
     "name": "stdout",
     "output_type": "stream",
     "text": [
      "Всего слов в словаре: 40004\n"
     ]
    }
   ],
   "source": [
    "print(\"Всего слов в словаре:\", len(vocab))"
   ]
  },
  {
   "cell_type": "markdown",
   "metadata": {
    "id": "UmeRYKSIUcdE"
   },
   "source": [
    "### Подготовка датасета\n",
    "\n",
    "Далее, как и в предыдущем примере, подготовим датасеты и даталоадеры.\n",
    "\n",
    "В классе ```WordDataset``` реализуем метод ```__getitem__```, который будет возвращать сэмпл данных по входному idx, то есть список целых чисел (индексов слов).\n",
    "\n",
    "Внутри этого метода добавим служебные токены начала и конца последовательности, а также токенизируем соответствующее предложение с помощью ```word_tokenize``` и сопоставим ему индексы из ```word2ind```."
   ]
  },
  {
   "cell_type": "code",
   "execution_count": 19,
   "metadata": {
    "id": "iD7SmSy3v2dl"
   },
   "outputs": [],
   "source": [
    "word2ind = {char: i for i, char in enumerate(vocab)}\n",
    "ind2word = {i: char for char, i in word2ind.items()}"
   ]
  },
  {
   "cell_type": "code",
   "execution_count": 20,
   "metadata": {
    "id": "FVzXL17PzC7K"
   },
   "outputs": [],
   "source": [
    "class WordDataset:\n",
    "    def __init__(self, sentences: List[str]):\n",
    "        self.data = sentences\n",
    "        self.unk_id = word2ind['<unk>']\n",
    "        self.bos_id = word2ind['<bos>']\n",
    "        self.eos_id = word2ind['<eos>']\n",
    "        self.pad_id = word2ind['<pad>']\n",
    "\n",
    "    def __getitem__(self, idx: int) -> List[int]:\n",
    "        tokenized_sentence = []\n",
    "        # Фильтруем по той же механике, что и train выборку\n",
    "        processed_text = self.data[idx].lower().translate(\n",
    "            str.maketrans('', '', string.punctuation))\n",
    "        tokenized_sentence = [self.bos_id]\n",
    "        tokenized_sentence += [word2ind.get(word, self.unk_id) for word in word_tokenize(processed_text)] \n",
    "        tokenized_sentence += [self.eos_id]\n",
    "\n",
    "        return tokenized_sentence\n",
    "\n",
    "    def __len__(self) -> int:\n",
    "        return len(self.data)"
   ]
  },
  {
   "cell_type": "code",
   "execution_count": 21,
   "metadata": {
    "id": "I6CtYNMp2_g0"
   },
   "outputs": [],
   "source": [
    "def collate_fn_with_padding(\n",
    "    input_batch: List[List[int]], pad_id=word2ind['<pad>']) -> torch.Tensor:\n",
    "    '''\n",
    "    Функция дополнения наших предложений, если их размер меньше\n",
    "    остальных получившихся.\n",
    "    На вход подаем:\n",
    "    batch\n",
    "    id паддинга\n",
    "    На выходе:\n",
    "    новый собранный batch одинаковой длины по всем предложениям\n",
    "    '''\n",
    "    seq_lens = [len(x) for x in input_batch]\n",
    "    max_seq_len = max(seq_lens)\n",
    "\n",
    "    new_batch = []\n",
    "    for sequence in input_batch:\n",
    "        for _ in range(max_seq_len - len(sequence)):\n",
    "            sequence.append(pad_id)\n",
    "        new_batch.append(sequence)\n",
    "\n",
    "    sequences = torch.LongTensor(new_batch).to(device)\n",
    "\n",
    "    new_batch = {\n",
    "        'input_ids': sequences[:,:-1],\n",
    "        'target_ids': sequences[:,1:]\n",
    "    }\n",
    "\n",
    "    return new_batch"
   ]
  },
  {
   "cell_type": "code",
   "execution_count": 22,
   "metadata": {
    "id": "6xmeK9Ys1BIG"
   },
   "outputs": [],
   "source": [
    "train_sentences, eval_sentences = train_test_split(sentences, test_size=0.2,\n",
    "                                                   random_state=SEED)\n",
    "eval_sentences, test_sentences = train_test_split(sentences, test_size=0.5,\n",
    "                                                   random_state=SEED)\n",
    "\n",
    "train_dataset = WordDataset(train_sentences)\n",
    "eval_dataset = WordDataset(eval_sentences)\n",
    "test_dataset = WordDataset(test_sentences)\n",
    "\n",
    "batch_size = 256\n",
    "\n",
    "# Фиксируем сиды DataLoader-ов\n",
    "num_workers = 0\n",
    "def seed_worker(worker_id):\n",
    "    worker_seed = torch.initial_seed() % 2**32\n",
    "    np.random.seed(worker_seed)\n",
    "    random.seed(worker_seed)\n",
    "\n",
    "g = torch.Generator()\n",
    "g.manual_seed(0)\n",
    "\n",
    "train_dataloader = DataLoader(\n",
    "    train_dataset,\n",
    "    collate_fn=collate_fn_with_padding,\n",
    "    shuffle=True,\n",
    "    batch_size=batch_size,\n",
    "    num_workers=num_workers,\n",
    "    worker_init_fn=seed_worker,\n",
    "    generator=g\n",
    ")\n",
    "\n",
    "eval_dataloader = DataLoader(\n",
    "    eval_dataset,\n",
    "    collate_fn=collate_fn_with_padding,\n",
    "    shuffle=False,\n",
    "    batch_size=batch_size,\n",
    "    num_workers=num_workers,\n",
    "    worker_init_fn=seed_worker,\n",
    "    generator=g\n",
    ")\n",
    "\n",
    "test_dataloader = DataLoader(\n",
    "    test_dataset,\n",
    "    collate_fn=collate_fn_with_padding,\n",
    "    shuffle=False,\n",
    "    batch_size=batch_size,\n",
    "    num_workers=num_workers,\n",
    "    worker_init_fn=seed_worker,\n",
    "    generator=g\n",
    ")\n",
    "\n",
    "# Создадим для удобства общий даталоадер\n",
    "dataloader = {'train': train_dataloader,\n",
    "              'test': test_dataloader,\n",
    "              'eval': eval_dataloader}"
   ]
  },
  {
   "cell_type": "markdown",
   "metadata": {
    "id": "SMAexY7Y45E4"
   },
   "source": [
    "## Обучение и архитектура модели\n",
    "\n",
    "Проверим на практике проверить, что влияет на качество языковых моделей. Проведем серию экспериментов с различными вариантами языковых моделей и сравним различия в конечной перплексии на тестовом множестве.\n",
    "\n",
    "Возможные идеи для экспериментов:\n",
    "\n",
    "* Различные RNN-блоки, например, LSTM или GRU. Также можно добавить сразу несколько RNN блоков друг над другом с помощью аргумента num_layers. Нам поможет официальная документация [здесь](https://pytorch.org/docs/stable/generated/torch.nn.LSTM.html)\n",
    "* Различные размеры скрытого состояния. Различное количество линейных слоев после RNN-блока. Различные функции активации.\n",
    "* Добавление нормализаций в виде Dropout, BatchNorm или LayerNorm\n",
    "* Различные аргументы для оптимизации, например, подбор оптимального learning rate или тип алгоритма оптимизации SGD, Adam, RMSProp и другие\n",
    "* Любые другие идеи и подходы\n",
    "\n",
    "Мы остановимся на двух схожих моделях и поэкспериментируем в размерами скрытого состояния (одинаковое изменение для обоих моделей).\n",
    "\n",
    "После проведения экспериментов составим таблицу результатов, в которой посчитана перплексия на тестовом множестве."
   ]
  },
  {
   "cell_type": "markdown",
   "metadata": {
    "id": "KP1cO-3bmDv9"
   },
   "source": [
    "### Функция evaluate"
   ]
  },
  {
   "cell_type": "code",
   "execution_count": 96,
   "metadata": {
    "id": "XUlMUVJ3mL4r"
   },
   "outputs": [],
   "source": [
    "def evaluate(model, criterion, dataloader) -> float:\n",
    "    # Модифицируем фунцию, чтобы она также выводлиа лосс на даталоадере\n",
    "    model = model.to(device)\n",
    "    model.eval()\n",
    "    perplexity, losses = [], []\n",
    "    with torch.no_grad():\n",
    "        for batch in dataloader:\n",
    "            # Посчитаем логиты предсказаний следующих слов\n",
    "            input_ids = batch['input_ids'].flatten(start_dim=0, end_dim=1)\n",
    "            target_ids = batch['target_ids'].flatten()\n",
    "            logits = model(input_ids)\n",
    "            loss = criterion(logits, target_ids.flatten())\n",
    "            losses.append(loss.item())\n",
    "            perplexity.append(torch.exp(loss).item())\n",
    "\n",
    "    perplexity = sum(perplexity) / len(perplexity)\n",
    "    loss = sum(losses) / len(losses)  # Или len(dataloader)\n",
    "    # Добавим вывод значения лосса на даталоадер\n",
    "    return perplexity, loss"
   ]
  },
  {
   "cell_type": "markdown",
   "metadata": {
    "id": "bLV63Vsk7loy"
   },
   "source": [
    "### Train loop\n",
    "\n",
    "Начнем тренировку наших моделей"
   ]
  },
  {
   "cell_type": "code",
   "execution_count": 24,
   "metadata": {
    "id": "bSZmUC3YmocP"
   },
   "outputs": [],
   "source": [
    "def train(model, dataloader, num_epoch, optimizer=None, criterion=None, sheduler=None):\n",
    "    '''\n",
    "    Функция обучения по эпохам\n",
    "    принимает на вход: даталоадер с тренировочными данными, даталоадер с проверочными данными ,модель,\n",
    "    количество эпох обучения, размер батча, оптимайзер, функцию потерь, планировщик\n",
    "    отдает: лучшую модель на обучении, историю обучения\n",
    "    '''        \n",
    "    if optimizer is None:\n",
    "        optimizer = torch.optim.Adam(model.parameters(), lr=0.001) # будем использовать модель Adam\n",
    "    if criterion is None:\n",
    "        criterion = nn.CrossEntropyLoss(ignore_index=word2ind['<pad>']) # будем использовать кросэнтропию\n",
    "    \n",
    "    best_model = model.state_dict() # сохраняем все тензоры модели\n",
    "    best_perplexity = None # для понимания лучшего скора модели\n",
    "    \n",
    "    history = []\n",
    "    log_template = \"\\nEpoch {ep:03d} train_loss: {t_loss:0.4f} \\\n",
    "    val_loss: {v_loss:0.4f} train_perplexity: {t_perplexity:0.4f} val_perplexity: {v_perplexity:0.4f}\"\n",
    "\n",
    "    with tqdm(desc=\"epoch\", total=num_epoch) as pbar_outer:\n",
    "        opt = torch.optim.Adam(model.parameters())\n",
    "        criterion = criterion\n",
    "        \n",
    "        for epoch in range(num_epoch):\n",
    "            perplexity, losses = [], []\n",
    "            for i, batch in enumerate(dataloader['train']):\n",
    "                model.train()\n",
    "                optimizer.zero_grad()  # обуляем градиенты модели\n",
    "                logits = model(batch['input_ids']).flatten(start_dim=0, end_dim=1)  # .to(device))  # получаем \"логиты\" из модели\n",
    "                train_loss = criterion(logits, batch['target_ids'].flatten())  # считаем \"лосс\"  .flatten()\n",
    "                train_loss.backward()\n",
    "                optimizer.step()\n",
    "                perplexity.append(torch.exp(train_loss).item())\n",
    "                losses.append(train_loss.detach().cpu())\n",
    "            train_loss = sum(losses) / len(losses)\n",
    "            train_perplexity = sum(perplexity) / len(perplexity)\n",
    "            val_perplexity, val_loss = evaluate(model, criterion, dataloader['eval'])\n",
    "                \n",
    "            history.append((epoch, train_loss, train_perplexity, val_loss, val_perplexity))\n",
    "\n",
    "            if not best_perplexity:\n",
    "                best_perplexity = val_perplexity\n",
    "            if val_perplexity < best_perplexity:\n",
    "                best_perplexity = val_perplexity\n",
    "                best_model = model.state_dict()\n",
    "                            \n",
    "            pbar_outer.update(1)\n",
    "            tqdm.write(log_template.format(ep=epoch+1, t_loss=train_loss.numpy(),\\\n",
    "                                           v_loss=val_loss, t_perplexity=train_perplexity, v_perplexity=val_perplexity))\n",
    "    \n",
    "    print('Best val perplexity: {:4f}'.format(best_perplexity))\n",
    "    model.load_state_dict(best_model)\n",
    "    return model, history"
   ]
  },
  {
   "cell_type": "markdown",
   "metadata": {
    "id": "hXmeyhBQmuq4"
   },
   "source": [
    "### Первый эксперимент\n",
    "\n",
    "Возьмем модель GRU и размер скрытого состояния в 128"
   ]
  },
  {
   "cell_type": "code",
   "execution_count": 25,
   "metadata": {
    "id": "qaWvqNJom0ij"
   },
   "outputs": [],
   "source": [
    "class LanguageModel(nn.Module):\n",
    "    def __init__(self, type_model, hidden_dim: int, vocab_size: int):\n",
    "        super().__init__()\n",
    "\n",
    "        # Сама нейронная сеть\n",
    "        self.embedding = nn.Embedding(vocab_size, hidden_dim)\n",
    "        if type_model == 'GRU':\n",
    "            self.rnn = nn.GRU(hidden_dim, hidden_dim, batch_first=True)\n",
    "        if type_model == 'RNN':\n",
    "            self.rnn = nn.RNN(hidden_dim, hidden_dim, batch_first=True)\n",
    "        self.linear = nn.Linear(hidden_dim, hidden_dim)\n",
    "        self.projection = nn.Linear(hidden_dim, vocab_size)\n",
    "\n",
    "        self.non_lin = nn.Tanh()\n",
    "        self.dropout = nn.Dropout(p=0.1)\n",
    "        \n",
    "    def forward(self, input_batch: torch.Tensor) -> torch.Tensor:\n",
    "        # А тут живет forward pass модели\n",
    "        embeddings = self.embedding(input_batch)  # [batch_size, seq_len, hidden_dim]\n",
    "        output, _ = self.rnn(embeddings)  # [batch_size, seq_len, hidden_dim]\n",
    "        output = self.dropout(self.linear(self.non_lin(output)))  # [batch_size, seq_len, hidden_dim]\n",
    "        projection = self.projection(self.non_lin(output))  # [batch_size, seq_len, vocab_size]\n",
    "\n",
    "        return projection"
   ]
  },
  {
   "cell_type": "code",
   "execution_count": 26,
   "metadata": {},
   "outputs": [],
   "source": [
    "def clean_up() -> None:\n",
    "    '''\n",
    "    Функция очистки кэша видеопамяти\n",
    "    '''\n",
    "    gc.collect()\n",
    "    torch.cuda.empty_cache()"
   ]
  },
  {
   "cell_type": "code",
   "execution_count": 27,
   "metadata": {},
   "outputs": [],
   "source": [
    "clean_up()"
   ]
  },
  {
   "cell_type": "code",
   "execution_count": 28,
   "metadata": {
    "id": "TxbEzn5fnBOY"
   },
   "outputs": [
    {
     "data": {
      "application/vnd.jupyter.widget-view+json": {
       "model_id": "8e53312e3b2c477cb7dca7ffc8c68a77",
       "version_major": 2,
       "version_minor": 0
      },
      "text/plain": [
       "epoch:   0%|          | 0/7 [00:00<?, ?it/s]"
      ]
     },
     "metadata": {},
     "output_type": "display_data"
    },
    {
     "name": "stdout",
     "output_type": "stream",
     "text": [
      "\n",
      "Epoch 001 train_loss: 6.5308     val_loss: 6.1292 train_perplexity: 1257.0853 val_perplexity: 460.1458\n",
      "\n",
      "Epoch 002 train_loss: 5.7910     val_loss: 5.8001 train_perplexity: 329.3581 val_perplexity: 331.1493\n",
      "\n",
      "Epoch 003 train_loss: 5.5333     val_loss: 5.7852 train_perplexity: 253.6318 val_perplexity: 326.2554\n",
      "\n",
      "Epoch 004 train_loss: 5.3764     val_loss: 5.7628 train_perplexity: 216.6730 val_perplexity: 318.9811\n",
      "\n",
      "Epoch 005 train_loss: 5.2657     val_loss: 5.7021 train_perplexity: 193.9650 val_perplexity: 300.1800\n",
      "\n",
      "Epoch 006 train_loss: 5.1813     val_loss: 5.6491 train_perplexity: 178.2134 val_perplexity: 284.6424\n",
      "\n",
      "Epoch 007 train_loss: 5.1125     val_loss: 5.7122 train_perplexity: 166.3867 val_perplexity: 303.1987\n",
      "Best val perplexity: 284.642404\n"
     ]
    }
   ],
   "source": [
    "# Обучим модель\n",
    "model = LanguageModel(type_model = 'GRU', hidden_dim=128, vocab_size=len(vocab)).to(device)\n",
    "model, history = train(model, dataloader, num_epoch=7)"
   ]
  },
  {
   "cell_type": "code",
   "execution_count": 29,
   "metadata": {},
   "outputs": [],
   "source": [
    "def plot_history(history: List[tuple]) -> None:\n",
    "    '''\n",
    "    Фукция отрисовки loss и perplexities на train и val\n",
    "    '''\n",
    "    epoch, loss, perplexities, val_loss, val_perplexities = zip(*history)\n",
    "    fig, axes = plt.subplots(1, 2, figsize=(14,4))\n",
    "    axes[0].plot(epoch, loss, label='train_loss', color='g')\n",
    "    axes[0].plot(epoch, val_loss, label='val_loss', color='r')\n",
    "    axes[1].plot(epoch, perplexities, label='train_score', color='g')\n",
    "    axes[1].plot(epoch, val_perplexities, label='val_score', color='r')\n",
    "    for i in [0,1]:\n",
    "        axes[i].legend()\n",
    "    return val_perplexities"
   ]
  },
  {
   "cell_type": "code",
   "execution_count": 30,
   "metadata": {},
   "outputs": [
    {
     "data": {
      "image/png": "[encoded data removed]",
      "text/plain": [
       "<Figure size 1400x400 with 2 Axes>"
      ]
     },
     "metadata": {},
     "output_type": "display_data"
    }
   ],
   "source": [
    "val_perplexities = plot_history(history)"
   ]
  },
  {
   "cell_type": "code",
   "execution_count": 31,
   "metadata": {},
   "outputs": [
    {
     "data": {
      "text/html": [
       "<div>\n",
       "<style scoped>\n",
       "    .dataframe tbody tr th:only-of-type {\n",
       "        vertical-align: middle;\n",
       "    }\n",
       "\n",
       "    .dataframe tbody tr th {\n",
       "        vertical-align: top;\n",
       "    }\n",
       "\n",
       "    .dataframe thead th {\n",
       "        text-align: right;\n",
       "    }\n",
       "</style>\n",
       "<table border=\"1\" class=\"dataframe\">\n",
       "  <thead>\n",
       "    <tr style=\"text-align: right;\">\n",
       "      <th></th>\n",
       "      <th>model_arch</th>\n",
       "      <th>hidden_dim</th>\n",
       "      <th>perplexities</th>\n",
       "    </tr>\n",
       "  </thead>\n",
       "  <tbody>\n",
       "    <tr>\n",
       "      <th>0</th>\n",
       "      <td>GRU</td>\n",
       "      <td>128</td>\n",
       "      <td>284.642404</td>\n",
       "    </tr>\n",
       "  </tbody>\n",
       "</table>\n",
       "</div>"
      ],
      "text/plain": [
       "  model_arch  hidden_dim  perplexities\n",
       "0        GRU         128    284.642404"
      ]
     },
     "execution_count": 31,
     "metadata": {},
     "output_type": "execute_result"
    }
   ],
   "source": [
    "results = pd.DataFrame ({'model_arch': 'GRU', 'hidden_dim': 128, 'perplexities':[min(val_perplexities)]})\n",
    "results"
   ]
  },
  {
   "cell_type": "code",
   "execution_count": 32,
   "metadata": {},
   "outputs": [],
   "source": [
    "pickle.dump(model, open('model_LanguageModel.sav', 'wb'))"
   ]
  },
  {
   "cell_type": "code",
   "execution_count": 33,
   "metadata": {},
   "outputs": [],
   "source": [
    "del model"
   ]
  },
  {
   "cell_type": "markdown",
   "metadata": {},
   "source": [
    "### Второй эксперимент\n",
    "\n",
    "Возьмем ту же модель, но увеличим размер скрытого состояния до 256"
   ]
  },
  {
   "cell_type": "code",
   "execution_count": 34,
   "metadata": {},
   "outputs": [],
   "source": [
    "clean_up()"
   ]
  },
  {
   "cell_type": "code",
   "execution_count": 35,
   "metadata": {},
   "outputs": [
    {
     "data": {
      "application/vnd.jupyter.widget-view+json": {
       "model_id": "d5f6affc64f748aebea0702c461e48d2",
       "version_major": 2,
       "version_minor": 0
      },
      "text/plain": [
       "epoch:   0%|          | 0/7 [00:00<?, ?it/s]"
      ]
     },
     "metadata": {},
     "output_type": "display_data"
    },
    {
     "name": "stdout",
     "output_type": "stream",
     "text": [
      "\n",
      "Epoch 001 train_loss: 6.3487     val_loss: 6.2781 train_perplexity: 935.7022 val_perplexity: 534.2609\n",
      "\n",
      "Epoch 002 train_loss: 5.5825     val_loss: 6.4174 train_perplexity: 267.5354 val_perplexity: 614.3839\n",
      "\n",
      "Epoch 003 train_loss: 5.2943     val_loss: 6.4154 train_perplexity: 199.6987 val_perplexity: 613.1218\n",
      "\n",
      "Epoch 004 train_loss: 5.1122     val_loss: 6.2294 train_perplexity: 166.3593 val_perplexity: 508.8847\n",
      "\n",
      "Epoch 005 train_loss: 4.9765     val_loss: 6.2074 train_perplexity: 145.2268 val_perplexity: 497.7649\n",
      "\n",
      "Epoch 006 train_loss: 4.8660     val_loss: 6.1643 train_perplexity: 130.0417 val_perplexity: 476.6920\n",
      "\n",
      "Epoch 007 train_loss: 4.7725     val_loss: 6.1273 train_perplexity: 118.4216 val_perplexity: 459.3198\n",
      "Best val perplexity: 459.319761\n"
     ]
    }
   ],
   "source": [
    "model = LanguageModel(type_model = 'GRU', hidden_dim=256, vocab_size=len(vocab)).to(device)\n",
    "model, history = train(model, dataloader, num_epoch=7)"
   ]
  },
  {
   "cell_type": "code",
   "execution_count": 36,
   "metadata": {},
   "outputs": [
    {
     "data": {
      "image/png": "[encoded data removed]",
      "text/plain": [
       "<Figure size 1400x400 with 2 Axes>"
      ]
     },
     "metadata": {},
     "output_type": "display_data"
    }
   ],
   "source": [
    "val_perplexities = plot_history(history)"
   ]
  },
  {
   "cell_type": "code",
   "execution_count": 37,
   "metadata": {},
   "outputs": [
    {
     "data": {
      "text/html": [
       "<div>\n",
       "<style scoped>\n",
       "    .dataframe tbody tr th:only-of-type {\n",
       "        vertical-align: middle;\n",
       "    }\n",
       "\n",
       "    .dataframe tbody tr th {\n",
       "        vertical-align: top;\n",
       "    }\n",
       "\n",
       "    .dataframe thead th {\n",
       "        text-align: right;\n",
       "    }\n",
       "</style>\n",
       "<table border=\"1\" class=\"dataframe\">\n",
       "  <thead>\n",
       "    <tr style=\"text-align: right;\">\n",
       "      <th></th>\n",
       "      <th>model_arch</th>\n",
       "      <th>hidden_dim</th>\n",
       "      <th>perplexities</th>\n",
       "    </tr>\n",
       "  </thead>\n",
       "  <tbody>\n",
       "    <tr>\n",
       "      <th>0</th>\n",
       "      <td>GRU</td>\n",
       "      <td>128</td>\n",
       "      <td>284.642404</td>\n",
       "    </tr>\n",
       "    <tr>\n",
       "      <th>1</th>\n",
       "      <td>GRU</td>\n",
       "      <td>256</td>\n",
       "      <td>459.319761</td>\n",
       "    </tr>\n",
       "  </tbody>\n",
       "</table>\n",
       "</div>"
      ],
      "text/plain": [
       "  model_arch hidden_dim  perplexities\n",
       "0        GRU        128    284.642404\n",
       "1        GRU        256    459.319761"
      ]
     },
     "execution_count": 37,
     "metadata": {},
     "output_type": "execute_result"
    }
   ],
   "source": [
    "results.loc[1] = ['GRU', '256', min(val_perplexities)]\n",
    "results"
   ]
  },
  {
   "cell_type": "code",
   "execution_count": 38,
   "metadata": {},
   "outputs": [],
   "source": [
    "pickle.dump(model, open('model_LanguageModel_hd.sav', 'wb'))"
   ]
  },
  {
   "cell_type": "code",
   "execution_count": 39,
   "metadata": {},
   "outputs": [],
   "source": [
    "del model"
   ]
  },
  {
   "cell_type": "markdown",
   "metadata": {
    "id": "X1EW4faIm0tl"
   },
   "source": [
    "### Третий эксперимент\n",
    "\n",
    "Возьмем модель RNN с размером скрытого состояния в 128"
   ]
  },
  {
   "cell_type": "code",
   "execution_count": 40,
   "metadata": {},
   "outputs": [],
   "source": [
    "clean_up()"
   ]
  },
  {
   "cell_type": "code",
   "execution_count": 41,
   "metadata": {},
   "outputs": [
    {
     "data": {
      "application/vnd.jupyter.widget-view+json": {
       "model_id": "233dbbdb87304784a106de3b2e2cbd5f",
       "version_major": 2,
       "version_minor": 0
      },
      "text/plain": [
       "epoch:   0%|          | 0/7 [00:00<?, ?it/s]"
      ]
     },
     "metadata": {},
     "output_type": "display_data"
    },
    {
     "name": "stdout",
     "output_type": "stream",
     "text": [
      "\n",
      "Epoch 001 train_loss: 6.5273     val_loss: 5.9520 train_perplexity: 1277.2472 val_perplexity: 385.3848\n",
      "\n",
      "Epoch 002 train_loss: 5.7870     val_loss: 5.6297 train_perplexity: 327.8105 val_perplexity: 279.2080\n",
      "\n",
      "Epoch 003 train_loss: 5.5478     val_loss: 5.4498 train_perplexity: 257.3903 val_perplexity: 233.2134\n",
      "\n",
      "Epoch 004 train_loss: 5.4057     val_loss: 5.3270 train_perplexity: 223.1314 val_perplexity: 206.2500\n",
      "\n",
      "Epoch 005 train_loss: 5.3037     val_loss: 5.2307 train_perplexity: 201.4580 val_perplexity: 187.3091\n",
      "\n",
      "Epoch 006 train_loss: 5.2251     val_loss: 5.1635 train_perplexity: 186.1958 val_perplexity: 175.1132\n",
      "\n",
      "Epoch 007 train_loss: 5.1606     val_loss: 5.1078 train_perplexity: 174.5496 val_perplexity: 165.6084\n",
      "Best val perplexity: 165.608443\n"
     ]
    }
   ],
   "source": [
    "model = LanguageModel(type_model = 'RNN', hidden_dim=128, vocab_size=len(vocab)).to(device)\n",
    "model, history = train(model, dataloader, num_epoch=7)"
   ]
  },
  {
   "cell_type": "code",
   "execution_count": 42,
   "metadata": {},
   "outputs": [
    {
     "data": {
      "image/png": "[encoded data removed]",
      "text/plain": [
       "<Figure size 1400x400 with 2 Axes>"
      ]
     },
     "metadata": {},
     "output_type": "display_data"
    }
   ],
   "source": [
    "val_perplexities = plot_history(history)"
   ]
  },
  {
   "cell_type": "code",
   "execution_count": 43,
   "metadata": {},
   "outputs": [
    {
     "data": {
      "text/html": [
       "<div>\n",
       "<style scoped>\n",
       "    .dataframe tbody tr th:only-of-type {\n",
       "        vertical-align: middle;\n",
       "    }\n",
       "\n",
       "    .dataframe tbody tr th {\n",
       "        vertical-align: top;\n",
       "    }\n",
       "\n",
       "    .dataframe thead th {\n",
       "        text-align: right;\n",
       "    }\n",
       "</style>\n",
       "<table border=\"1\" class=\"dataframe\">\n",
       "  <thead>\n",
       "    <tr style=\"text-align: right;\">\n",
       "      <th></th>\n",
       "      <th>model_arch</th>\n",
       "      <th>hidden_dim</th>\n",
       "      <th>perplexities</th>\n",
       "    </tr>\n",
       "  </thead>\n",
       "  <tbody>\n",
       "    <tr>\n",
       "      <th>0</th>\n",
       "      <td>GRU</td>\n",
       "      <td>128</td>\n",
       "      <td>284.642404</td>\n",
       "    </tr>\n",
       "    <tr>\n",
       "      <th>1</th>\n",
       "      <td>GRU</td>\n",
       "      <td>256</td>\n",
       "      <td>459.319761</td>\n",
       "    </tr>\n",
       "    <tr>\n",
       "      <th>2</th>\n",
       "      <td>RNN</td>\n",
       "      <td>128</td>\n",
       "      <td>165.608443</td>\n",
       "    </tr>\n",
       "  </tbody>\n",
       "</table>\n",
       "</div>"
      ],
      "text/plain": [
       "  model_arch hidden_dim  perplexities\n",
       "0        GRU        128    284.642404\n",
       "1        GRU        256    459.319761\n",
       "2        RNN        128    165.608443"
      ]
     },
     "execution_count": 43,
     "metadata": {},
     "output_type": "execute_result"
    }
   ],
   "source": [
    "results.loc[2] = ['RNN', '128', min(val_perplexities)]\n",
    "results"
   ]
  },
  {
   "cell_type": "code",
   "execution_count": 44,
   "metadata": {},
   "outputs": [],
   "source": [
    "pickle.dump(model, open('model_WordRNN.sav', 'wb'))"
   ]
  },
  {
   "cell_type": "code",
   "execution_count": 45,
   "metadata": {},
   "outputs": [],
   "source": [
    "del model"
   ]
  },
  {
   "cell_type": "markdown",
   "metadata": {},
   "source": [
    "### Четвертый эксперимент\n",
    "\n",
    "На той же модели потренируем с размером скрытого состоянием в 256"
   ]
  },
  {
   "cell_type": "code",
   "execution_count": 46,
   "metadata": {},
   "outputs": [],
   "source": [
    "clean_up()"
   ]
  },
  {
   "cell_type": "code",
   "execution_count": 47,
   "metadata": {},
   "outputs": [
    {
     "data": {
      "application/vnd.jupyter.widget-view+json": {
       "model_id": "8554c3cbd1f84872946fae97e2fe26ef",
       "version_major": 2,
       "version_minor": 0
      },
      "text/plain": [
       "epoch:   0%|          | 0/7 [00:00<?, ?it/s]"
      ]
     },
     "metadata": {},
     "output_type": "display_data"
    },
    {
     "name": "stdout",
     "output_type": "stream",
     "text": [
      "\n",
      "Epoch 001 train_loss: 6.2922     val_loss: 5.7642 train_perplexity: 907.8041 val_perplexity: 319.3879\n",
      "\n",
      "Epoch 002 train_loss: 5.5841     val_loss: 5.5271 train_perplexity: 267.5027 val_perplexity: 251.9643\n",
      "\n",
      "Epoch 003 train_loss: 5.3273     val_loss: 5.3621 train_perplexity: 206.3493 val_perplexity: 213.5817\n",
      "\n",
      "Epoch 004 train_loss: 5.1631     val_loss: 5.2171 train_perplexity: 175.0284 val_perplexity: 184.7379\n",
      "\n",
      "Epoch 005 train_loss: 5.0412     val_loss: 5.1617 train_perplexity: 154.9458 val_perplexity: 174.7582\n",
      "\n",
      "Epoch 006 train_loss: 4.9423     val_loss: 5.0213 train_perplexity: 140.3543 val_perplexity: 151.8522\n",
      "\n",
      "Epoch 007 train_loss: 4.8590     val_loss: 4.9518 train_perplexity: 129.1283 val_perplexity: 141.6649\n",
      "Best val perplexity: 141.664857\n"
     ]
    }
   ],
   "source": [
    "model = LanguageModel(type_model = 'RNN', hidden_dim=256, vocab_size=len(vocab)).to(device)\n",
    "model, history = train(model, dataloader, num_epoch=7)"
   ]
  },
  {
   "cell_type": "code",
   "execution_count": 48,
   "metadata": {},
   "outputs": [
    {
     "data": {
      "image/png": "[encoded data removed]",
      "text/plain": [
       "<Figure size 1400x400 with 2 Axes>"
      ]
     },
     "metadata": {},
     "output_type": "display_data"
    }
   ],
   "source": [
    "val_perplexities = plot_history(history)"
   ]
  },
  {
   "cell_type": "code",
   "execution_count": 49,
   "metadata": {},
   "outputs": [
    {
     "data": {
      "text/html": [
       "<div>\n",
       "<style scoped>\n",
       "    .dataframe tbody tr th:only-of-type {\n",
       "        vertical-align: middle;\n",
       "    }\n",
       "\n",
       "    .dataframe tbody tr th {\n",
       "        vertical-align: top;\n",
       "    }\n",
       "\n",
       "    .dataframe thead th {\n",
       "        text-align: right;\n",
       "    }\n",
       "</style>\n",
       "<table border=\"1\" class=\"dataframe\">\n",
       "  <thead>\n",
       "    <tr style=\"text-align: right;\">\n",
       "      <th></th>\n",
       "      <th>model_arch</th>\n",
       "      <th>hidden_dim</th>\n",
       "      <th>perplexities</th>\n",
       "    </tr>\n",
       "  </thead>\n",
       "  <tbody>\n",
       "    <tr>\n",
       "      <th>0</th>\n",
       "      <td>GRU</td>\n",
       "      <td>128</td>\n",
       "      <td>284.642404</td>\n",
       "    </tr>\n",
       "    <tr>\n",
       "      <th>1</th>\n",
       "      <td>GRU</td>\n",
       "      <td>256</td>\n",
       "      <td>459.319761</td>\n",
       "    </tr>\n",
       "    <tr>\n",
       "      <th>2</th>\n",
       "      <td>RNN</td>\n",
       "      <td>128</td>\n",
       "      <td>165.608443</td>\n",
       "    </tr>\n",
       "    <tr>\n",
       "      <th>3</th>\n",
       "      <td>RNN</td>\n",
       "      <td>256</td>\n",
       "      <td>141.664857</td>\n",
       "    </tr>\n",
       "  </tbody>\n",
       "</table>\n",
       "</div>"
      ],
      "text/plain": [
       "  model_arch hidden_dim  perplexities\n",
       "0        GRU        128    284.642404\n",
       "1        GRU        256    459.319761\n",
       "2        RNN        128    165.608443\n",
       "3        RNN        256    141.664857"
      ]
     },
     "execution_count": 49,
     "metadata": {},
     "output_type": "execute_result"
    }
   ],
   "source": [
    "results.loc[3] = ['RNN', '256', min(val_perplexities)]\n",
    "results"
   ]
  },
  {
   "cell_type": "code",
   "execution_count": 50,
   "metadata": {},
   "outputs": [],
   "source": [
    "pickle.dump(model, open('model_WordRNN_hd.sav', 'wb'))"
   ]
  },
  {
   "cell_type": "code",
   "execution_count": 51,
   "metadata": {},
   "outputs": [],
   "source": [
    "del model"
   ]
  },
  {
   "cell_type": "code",
   "execution_count": 52,
   "metadata": {},
   "outputs": [],
   "source": [
    "clean_up()"
   ]
  },
  {
   "cell_type": "markdown",
   "metadata": {
    "id": "Y5V9H3eoFeAu"
   },
   "source": [
    "### Вывод"
   ]
  },
  {
   "cell_type": "markdown",
   "metadata": {
    "id": "M2GCDVeeF8LP"
   },
   "source": [
    "В обоих экспериментах мы, для частоты пробы, крутили сетки по 7 эпох.\n",
    "В первом эксперименте мы использовали GRU, во втором RRN.\n",
    "В обоих случаях архитектура сеток по слоям, не считая архитектур самих сеток, схожа.\n",
    "Изначально взял GRU, т.к. это уже не сеть прямого распространения, как RNN. У нее уже есть попытка избавиться от затухания (взрывания градиента).\n",
    "GRU - разновидность LSTM. У них на один фильтр меньше, и они немного иначе соединены: вместо входного, выходного фильтров и фильтра забывания здесь используется фильтр обновления (update gate). Этот фильтр определяет сколько информации сохранить от последнего состояния и сколько информации получить от предыдущего слоя. Фильтр сброса состояния (reset gate) работает почти так же, как фильтр забывания, но расположен немного иначе. На следующие слои отправляется полная информация о состоянии: выходного фильтра здесь нет. В большинстве случаем GRU работают так же, как RNN, самое значимое отличие в том, что GRU немного быстрее и проще в эксплуатации (однако обладает немного меньшими выразительными возможностями).\n",
    "Сравнение RNN и GRU мне показалось уместным.\n",
    "Осталось проверить, как они ведут себя на тестовых даннных и немного наглядности."
   ]
  },
  {
   "cell_type": "markdown",
   "metadata": {},
   "source": [
    "#### Посмотрим на предсказание"
   ]
  },
  {
   "cell_type": "code",
   "execution_count": 97,
   "metadata": {},
   "outputs": [],
   "source": [
    "def generate_sequence(model, starting_seq: str, max_seq_len: int = 128) -> str:\n",
    "    device = 'cpu'\n",
    "    model = model.to(device)\n",
    "    input_ids = [word2ind['<bos>']] + [\n",
    "        word2ind.get(word, word2ind['<unk>']) for word in word_tokenize(starting_seq)]\n",
    "    input_ids = torch.LongTensor(input_ids).to(device)\n",
    "    \n",
    "    model.eval()\n",
    "    with torch.no_grad():\n",
    "        for i in range(max_seq_len):\n",
    "            next_word_distribution = model(input_ids)[-1]\n",
    "            next_word = next_word_distribution.squeeze().argmax()\n",
    "            input_ids = torch.cat([input_ids, next_word.unsqueeze(0)])\n",
    "\n",
    "            if next_word.item() == word2ind['<eos>']:\n",
    "                break\n",
    "    \n",
    "    words = ' '.join([ind2word[idx.item()] for idx in input_ids])\n",
    "    device = 'cuda'\n",
    "    return words"
   ]
  },
  {
   "cell_type": "code",
   "execution_count": 98,
   "metadata": {},
   "outputs": [],
   "source": [
    "model = pickle.load(open('model_LanguageModel.sav', 'rb')) "
   ]
  },
  {
   "cell_type": "code",
   "execution_count": 99,
   "metadata": {
    "scrolled": true
   },
   "outputs": [
    {
     "data": {
      "text/plain": [
       "'<bos> <unk> may treat important issues <eos>'"
      ]
     },
     "execution_count": 99,
     "metadata": {},
     "output_type": "execute_result"
    }
   ],
   "source": [
    "generate_sequence(model, starting_seq='It may treat important issues')"
   ]
  },
  {
   "cell_type": "markdown",
   "metadata": {},
   "source": [
    "#### А какие результаты нам покажет данная модель на test?"
   ]
  },
  {
   "cell_type": "code",
   "execution_count": 100,
   "metadata": {},
   "outputs": [],
   "source": [
    "criterion = nn.CrossEntropyLoss(ignore_index=word2ind['<pad>'])\n",
    "optimizer = torch.optim.Adam(model.parameters(), lr=0.001)"
   ]
  },
  {
   "cell_type": "code",
   "execution_count": 101,
   "metadata": {
    "scrolled": true
   },
   "outputs": [
    {
     "data": {
      "text/plain": [
       "[337.28994852292465]"
      ]
     },
     "execution_count": 101,
     "metadata": {},
     "output_type": "execute_result"
    }
   ],
   "source": [
    "perplexities, loss = evaluate(model, criterion, dataloader['test'])\n",
    "perplexities_test = [perplexities]\n",
    "perplexities_test"
   ]
  },
  {
   "cell_type": "code",
   "execution_count": 102,
   "metadata": {},
   "outputs": [],
   "source": [
    "del model"
   ]
  },
  {
   "cell_type": "code",
   "execution_count": 103,
   "metadata": {},
   "outputs": [],
   "source": [
    "clean_up()"
   ]
  },
  {
   "cell_type": "markdown",
   "metadata": {},
   "source": [
    "#### Посмотрим на результат работы второй модели"
   ]
  },
  {
   "cell_type": "code",
   "execution_count": 104,
   "metadata": {},
   "outputs": [],
   "source": [
    "model = pickle.load(open('model_LanguageModel_hd.sav', 'rb')) "
   ]
  },
  {
   "cell_type": "code",
   "execution_count": 105,
   "metadata": {},
   "outputs": [
    {
     "data": {
      "text/plain": [
       "'<bos> <unk> may treat important issues <eos>'"
      ]
     },
     "execution_count": 105,
     "metadata": {},
     "output_type": "execute_result"
    }
   ],
   "source": [
    "generate_sequence(model, starting_seq='It may treat important issues')"
   ]
  },
  {
   "cell_type": "code",
   "execution_count": 106,
   "metadata": {},
   "outputs": [],
   "source": [
    "criterion = nn.CrossEntropyLoss(ignore_index=word2ind['<pad>'])\n",
    "optimizer = torch.optim.Adam(model.parameters(), lr=0.001)"
   ]
  },
  {
   "cell_type": "code",
   "execution_count": 107,
   "metadata": {
    "scrolled": true
   },
   "outputs": [
    {
     "data": {
      "text/plain": [
       "[337.28994852292465, 557.7122955629284]"
      ]
     },
     "execution_count": 107,
     "metadata": {},
     "output_type": "execute_result"
    }
   ],
   "source": [
    "perplexities, loss = evaluate(model, criterion, dataloader['test'])\n",
    "perplexities_test.append(perplexities)\n",
    "perplexities_test"
   ]
  },
  {
   "cell_type": "code",
   "execution_count": 108,
   "metadata": {},
   "outputs": [],
   "source": [
    "del model"
   ]
  },
  {
   "cell_type": "code",
   "execution_count": 109,
   "metadata": {},
   "outputs": [],
   "source": [
    "clean_up()"
   ]
  },
  {
   "cell_type": "markdown",
   "metadata": {},
   "source": [
    "#### Следующая модель"
   ]
  },
  {
   "cell_type": "code",
   "execution_count": 110,
   "metadata": {},
   "outputs": [],
   "source": [
    "model = pickle.load(open('model_WordRNN.sav', 'rb')) "
   ]
  },
  {
   "cell_type": "code",
   "execution_count": 111,
   "metadata": {},
   "outputs": [
    {
     "data": {
      "text/plain": [
       "'<bos> <unk> may treat important issues that the movie is a great movie <eos>'"
      ]
     },
     "execution_count": 111,
     "metadata": {},
     "output_type": "execute_result"
    }
   ],
   "source": [
    "generate_sequence(model, starting_seq='It may treat important issues')"
   ]
  },
  {
   "cell_type": "code",
   "execution_count": 118,
   "metadata": {},
   "outputs": [],
   "source": [
    "criterion = nn.CrossEntropyLoss(ignore_index=word2ind['<pad>'])\n",
    "optimizer = torch.optim.Adam(model.parameters(), lr=0.001)"
   ]
  },
  {
   "cell_type": "code",
   "execution_count": 112,
   "metadata": {},
   "outputs": [
    {
     "data": {
      "text/plain": [
       "[337.28994852292465, 557.7122955629284, 187.34936670806087]"
      ]
     },
     "execution_count": 112,
     "metadata": {},
     "output_type": "execute_result"
    }
   ],
   "source": [
    "perplexities, loss = evaluate(model, criterion, dataloader['test'])\n",
    "perplexities_test.append(perplexities)\n",
    "perplexities_test"
   ]
  },
  {
   "cell_type": "code",
   "execution_count": 113,
   "metadata": {},
   "outputs": [],
   "source": [
    "del model"
   ]
  },
  {
   "cell_type": "code",
   "execution_count": 114,
   "metadata": {},
   "outputs": [],
   "source": [
    "clean_up()"
   ]
  },
  {
   "cell_type": "markdown",
   "metadata": {},
   "source": [
    "#### Проверим на последней"
   ]
  },
  {
   "cell_type": "code",
   "execution_count": 115,
   "metadata": {},
   "outputs": [],
   "source": [
    "model = pickle.load(open('model_WordRNN_hd.sav', 'rb')) "
   ]
  },
  {
   "cell_type": "code",
   "execution_count": 116,
   "metadata": {},
   "outputs": [
    {
     "data": {
      "text/plain": [
       "'<bos> <unk> may treat important issues and the characters are very good <eos>'"
      ]
     },
     "execution_count": 116,
     "metadata": {},
     "output_type": "execute_result"
    }
   ],
   "source": [
    "generate_sequence(model, starting_seq='It may treat important issues')"
   ]
  },
  {
   "cell_type": "code",
   "execution_count": 117,
   "metadata": {},
   "outputs": [],
   "source": [
    "criterion = nn.CrossEntropyLoss(ignore_index=word2ind['<pad>'])\n",
    "optimizer = torch.optim.Adam(model.parameters(), lr=0.001)"
   ]
  },
  {
   "cell_type": "code",
   "execution_count": 119,
   "metadata": {},
   "outputs": [
    {
     "data": {
      "text/plain": [
       "[337.28994852292465, 557.7122955629284, 187.34936670806087, 177.4052028847892]"
      ]
     },
     "execution_count": 119,
     "metadata": {},
     "output_type": "execute_result"
    }
   ],
   "source": [
    "perplexities, loss = evaluate(model, criterion, dataloader['test'])\n",
    "perplexities_test.append(perplexities)\n",
    "perplexities_test"
   ]
  },
  {
   "cell_type": "code",
   "execution_count": 120,
   "metadata": {},
   "outputs": [],
   "source": [
    "del model"
   ]
  },
  {
   "cell_type": "code",
   "execution_count": 121,
   "metadata": {},
   "outputs": [],
   "source": [
    "clean_up()"
   ]
  },
  {
   "cell_type": "code",
   "execution_count": 122,
   "metadata": {},
   "outputs": [
    {
     "data": {
      "text/html": [
       "<div>\n",
       "<style scoped>\n",
       "    .dataframe tbody tr th:only-of-type {\n",
       "        vertical-align: middle;\n",
       "    }\n",
       "\n",
       "    .dataframe tbody tr th {\n",
       "        vertical-align: top;\n",
       "    }\n",
       "\n",
       "    .dataframe thead th {\n",
       "        text-align: right;\n",
       "    }\n",
       "</style>\n",
       "<table border=\"1\" class=\"dataframe\">\n",
       "  <thead>\n",
       "    <tr style=\"text-align: right;\">\n",
       "      <th></th>\n",
       "      <th>model_arch</th>\n",
       "      <th>hidden_dim</th>\n",
       "      <th>perplexities</th>\n",
       "      <th>test_perpkixity</th>\n",
       "    </tr>\n",
       "  </thead>\n",
       "  <tbody>\n",
       "    <tr>\n",
       "      <th>0</th>\n",
       "      <td>GRU</td>\n",
       "      <td>128</td>\n",
       "      <td>284.642404</td>\n",
       "      <td>337.289949</td>\n",
       "    </tr>\n",
       "    <tr>\n",
       "      <th>1</th>\n",
       "      <td>GRU</td>\n",
       "      <td>256</td>\n",
       "      <td>459.319761</td>\n",
       "      <td>557.712296</td>\n",
       "    </tr>\n",
       "    <tr>\n",
       "      <th>2</th>\n",
       "      <td>RNN</td>\n",
       "      <td>128</td>\n",
       "      <td>165.608443</td>\n",
       "      <td>187.349367</td>\n",
       "    </tr>\n",
       "    <tr>\n",
       "      <th>3</th>\n",
       "      <td>RNN</td>\n",
       "      <td>256</td>\n",
       "      <td>141.664857</td>\n",
       "      <td>177.405203</td>\n",
       "    </tr>\n",
       "  </tbody>\n",
       "</table>\n",
       "</div>"
      ],
      "text/plain": [
       "  model_arch hidden_dim  perplexities  test_perpkixity\n",
       "0        GRU        128    284.642404       337.289949\n",
       "1        GRU        256    459.319761       557.712296\n",
       "2        RNN        128    165.608443       187.349367\n",
       "3        RNN        256    141.664857       177.405203"
      ]
     },
     "execution_count": 122,
     "metadata": {},
     "output_type": "execute_result"
    }
   ],
   "source": [
    "results['test_perpkixity'] = perplexities_test\n",
    "results"
   ]
  },
  {
   "cell_type": "markdown",
   "metadata": {},
   "source": [
    "Как видно по результату, модель RNN показала себя лучше, чем GRU, причем, если с увеличением размера скрытого состояния модель GRU вела себя значительно хуже, то модель RNN - наоборот, показывала лучшие результаты"
   ]
  }
 ],
 "metadata": {
  "accelerator": "GPU",
  "colab": {
   "provenance": []
  },
  "gpuClass": "standard",
  "kernelspec": {
   "display_name": "Python 3 (ipykernel)",
   "language": "python",
   "name": "python3"
  },
  "language_info": {
   "codemirror_mode": {
    "name": "ipython",
    "version": 3
   },
   "file_extension": ".py",
   "mimetype": "text/x-python",
   "name": "python",
   "nbconvert_exporter": "python",
   "pygments_lexer": "ipython3",
   "version": "3.10.11"
  }
 },
 "nbformat": 4,
 "nbformat_minor": 4
}
